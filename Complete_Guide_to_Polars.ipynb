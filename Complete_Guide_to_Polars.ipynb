{
  "nbformat": 4,
  "nbformat_minor": 0,
  "metadata": {
    "colab": {
      "provenance": [],
      "collapsed_sections": [
        "JDhsLz_K-oQU",
        "GhR_FPqQ-7dh",
        "ee-6tzbkT68G",
        "2IPgu9czV0lh"
      ]
    },
    "kernelspec": {
      "name": "python3",
      "display_name": "Python 3"
    },
    "language_info": {
      "name": "python"
    }
  },
  "cells": [
    {
      "cell_type": "markdown",
      "source": [
        "# The Complete Guide to Polars for Data Science"
      ],
      "metadata": {
        "id": "2jtnFqRPtrBg"
      }
    },
    {
      "cell_type": "markdown",
      "source": [
        "This is part of the original article [The Complete Guide to Polars for Data Science](https://noroinsight.com/polars-for-data-science-complete-guide/)"
      ],
      "metadata": {
        "id": "986t_eU8uDE6"
      }
    },
    {
      "cell_type": "markdown",
      "source": [
        "## Dataset & Code Repository\n",
        "\n",
        "This guide uses the Customer Transactions & Spending Dataset (1M Rows), which includes customer demographics, spending behavior, and payment details. You can access the dataset and follow along with the exercises:\n",
        "\n",
        "    Kaggle Dataset: Customer Transactions & Spending (1M Rows)\n",
        "    GitHub Repository: Polars-Tutorial (Code and dataset)"
      ],
      "metadata": {
        "id": "Zo2RpFUtucJu"
      }
    },
    {
      "cell_type": "markdown",
      "source": [
        "## 1. Setup"
      ],
      "metadata": {
        "id": "HGx5FcLFuuHJ"
      }
    },
    {
      "cell_type": "code",
      "execution_count": 1,
      "metadata": {
        "id": "yZmBgNdHkWvB"
      },
      "outputs": [],
      "source": [
        "# Install polars\n",
        "!pip install polars -q"
      ]
    },
    {
      "cell_type": "code",
      "source": [
        "# Import libraries\n",
        "import polars as pl\n",
        "import datetime as dt"
      ],
      "metadata": {
        "id": "wPfry8L0kcy-"
      },
      "execution_count": 2,
      "outputs": []
    },
    {
      "cell_type": "code",
      "source": [
        "# Setting Display Options\n",
        "import polars as pl\n",
        "\n",
        "pl.Config.set_tbl_rows(10)  # Show 10 rows\n",
        "pl.Config.set_tbl_cols(12)   # Show 5 columns\n",
        "pl.Config.set_fmt_str_lengths(50)  # Increase max string column width"
      ],
      "metadata": {
        "colab": {
          "base_uri": "https://localhost:8080/",
          "height": 186
        },
        "id": "DV6Blmgxvi1T",
        "outputId": "5ee28c73-8891-4bcb-88cb-34e7b22e8bbe"
      },
      "execution_count": 3,
      "outputs": [
        {
          "output_type": "execute_result",
          "data": {
            "text/plain": [
              "polars.config.Config"
            ],
            "text/html": [
              "<div style=\"max-width:800px; border: 1px solid var(--colab-border-color);\"><style>\n",
              "      pre.function-repr-contents {\n",
              "        overflow-x: auto;\n",
              "        padding: 8px 12px;\n",
              "        max-height: 500px;\n",
              "      }\n",
              "\n",
              "      pre.function-repr-contents.function-repr-contents-collapsed {\n",
              "        cursor: pointer;\n",
              "        max-height: 100px;\n",
              "      }\n",
              "    </style>\n",
              "    <pre style=\"white-space: initial; background:\n",
              "         var(--colab-secondary-surface-color); padding: 8px 12px;\n",
              "         border-bottom: 1px solid var(--colab-border-color);\"><b>polars.config.Config</b><br/>def __call__(func)</pre><pre class=\"function-repr-contents function-repr-contents-collapsed\" style=\"\"><a class=\"filepath\" style=\"display:none\" href=\"#\">/usr/local/lib/python3.11/dist-packages/polars/config.py</a>Configure polars; offers options for table formatting and more.\n",
              "\n",
              "Notes\n",
              "-----\n",
              "Can also be used as a context manager OR a function decorator in order to\n",
              "temporarily scope the lifetime of specific options. For example:\n",
              "\n",
              "&gt;&gt;&gt; with pl.Config() as cfg:\n",
              "...     # set verbose for more detailed output within the scope\n",
              "...     cfg.set_verbose(True)  # doctest: +IGNORE_RESULT\n",
              "&gt;&gt;&gt; # scope exit - no longer in verbose mode\n",
              "\n",
              "This can also be written more compactly as:\n",
              "\n",
              "&gt;&gt;&gt; with pl.Config(verbose=True):\n",
              "...     pass\n",
              "\n",
              "(The compact format is available for all `Config` methods that take a single value).\n",
              "\n",
              "Alternatively, you can use as a decorator in order to scope the duration of the\n",
              "selected options to a specific function:\n",
              "\n",
              "&gt;&gt;&gt; @pl.Config(verbose=True)\n",
              "... def test():\n",
              "...     pass</pre>\n",
              "      <script>\n",
              "      if (google.colab.kernel.accessAllowed && google.colab.files && google.colab.files.view) {\n",
              "        for (const element of document.querySelectorAll('.filepath')) {\n",
              "          element.style.display = 'block'\n",
              "          element.onclick = (event) => {\n",
              "            event.preventDefault();\n",
              "            event.stopPropagation();\n",
              "            google.colab.files.view(element.textContent, 145);\n",
              "          };\n",
              "        }\n",
              "      }\n",
              "      for (const element of document.querySelectorAll('.function-repr-contents')) {\n",
              "        element.onclick = (event) => {\n",
              "          event.preventDefault();\n",
              "          event.stopPropagation();\n",
              "          element.classList.toggle('function-repr-contents-collapsed');\n",
              "        };\n",
              "      }\n",
              "      </script>\n",
              "      </div>"
            ]
          },
          "metadata": {},
          "execution_count": 3
        }
      ]
    },
    {
      "cell_type": "markdown",
      "source": [
        "## 2. Loading and Saving Data"
      ],
      "metadata": {
        "id": "3Nf5Ygyrwdwj"
      }
    },
    {
      "cell_type": "markdown",
      "source": [
        "**Reading CSV Files**"
      ],
      "metadata": {
        "id": "bU_14xKX0AHK"
      }
    },
    {
      "cell_type": "code",
      "source": [
        "# Reading CSV Files\n",
        "# Locate your file location\n",
        "df = pl.read_csv(\"/content/drive/MyDrive/polars_dataset/customer_spending_1M_2018_2025.csv\", try_parse_dates=True)\n",
        "df.head()"
      ],
      "metadata": {
        "id": "rh6Fq9eEkqz_",
        "colab": {
          "base_uri": "https://localhost:8080/",
          "height": 255
        },
        "outputId": "db1ae03c-ad3c-4973-9e34-6487e20ba307"
      },
      "execution_count": 61,
      "outputs": [
        {
          "output_type": "execute_result",
          "data": {
            "text/plain": [
              "shape: (5, 11)\n",
              "┌─────────┬─────────┬────────┬─────┬─────────┬────────┬────────┬────────┬────────┬────────┬────────┐\n",
              "│ Transac ┆ Transac ┆ Gender ┆ Age ┆ Marital ┆ State_ ┆ Segmen ┆ Employ ┆ Paymen ┆ Refera ┆ Amount │\n",
              "│ tion_ID ┆ tion_da ┆ ---    ┆ --- ┆ _status ┆ names  ┆ t      ┆ ees_st ┆ t_meth ┆ l      ┆ _spent │\n",
              "│ ---     ┆ te      ┆ str    ┆ i64 ┆ ---     ┆ ---    ┆ ---    ┆ atus   ┆ od     ┆ ---    ┆ ---    │\n",
              "│ i64     ┆ ---     ┆        ┆     ┆ str     ┆ str    ┆ str    ┆ ---    ┆ ---    ┆ i64    ┆ f64    │\n",
              "│         ┆ datetim ┆        ┆     ┆         ┆        ┆        ┆ str    ┆ str    ┆        ┆        │\n",
              "│         ┆ e[μs]   ┆        ┆     ┆         ┆        ┆        ┆        ┆        ┆        ┆        │\n",
              "╞═════════╪═════════╪════════╪═════╪═════════╪════════╪════════╪════════╪════════╪════════╪════════╡\n",
              "│ 1000    ┆ 2018-01 ┆ Female ┆ 39  ┆ Single  ┆ Oklaho ┆ Platin ┆ Unempl ┆ Card   ┆ 0      ┆ 1557.5 │\n",
              "│         ┆ -01 00: ┆        ┆     ┆         ┆ ma     ┆ um     ┆ oyment ┆        ┆        ┆        │\n",
              "│         ┆ 04:00   ┆        ┆     ┆         ┆        ┆        ┆        ┆        ┆        ┆        │\n",
              "│ 1001    ┆ 2018-01 ┆ Male   ┆ 34  ┆ Married ┆ Hawaii ┆ Basic  ┆ worker ┆ PayPal ┆ 1      ┆ 153.55 │\n",
              "│         ┆ -01 00: ┆        ┆     ┆         ┆        ┆        ┆ s      ┆        ┆        ┆        │\n",
              "│         ┆ 06:00   ┆        ┆     ┆         ┆        ┆        ┆        ┆        ┆        ┆        │\n",
              "│ …       ┆ …       ┆ …      ┆ …   ┆ …       ┆ …      ┆ …      ┆ …      ┆ …      ┆ …      ┆ …      │\n",
              "│ 1003    ┆ 2018-01 ┆ Male   ┆ 33  ┆ Married ┆ Wiscon ┆ Basic  ┆ self-e ┆ Card   ┆ 1      ┆ 293.58 │\n",
              "│         ┆ -01 00: ┆        ┆     ┆         ┆ sin    ┆        ┆ mploye ┆        ┆        ┆        │\n",
              "│         ┆ 23:00   ┆        ┆     ┆         ┆        ┆        ┆ d      ┆        ┆        ┆        │\n",
              "│ 1004    ┆ 2018-01 ┆ Female ┆ 36  ┆ Married ┆ Texas  ┆ Platin ┆ Employ ┆ Card   ┆ 0      ┆ 1608.0 │\n",
              "│         ┆ -01 00: ┆        ┆     ┆         ┆        ┆ um     ┆ ees    ┆        ┆        ┆ 1      │\n",
              "│         ┆ 25:00   ┆        ┆     ┆         ┆        ┆        ┆        ┆        ┆        ┆        │\n",
              "└─────────┴─────────┴────────┴─────┴─────────┴────────┴────────┴────────┴────────┴────────┴────────┘"
            ],
            "text/html": [
              "<div><style>\n",
              ".dataframe > thead > tr,\n",
              ".dataframe > tbody > tr {\n",
              "  text-align: right;\n",
              "  white-space: pre-wrap;\n",
              "}\n",
              "</style>\n",
              "<small>shape: (5, 11)</small><table border=\"1\" class=\"dataframe\"><thead><tr><th>Transaction_ID</th><th>Transaction_date</th><th>Gender</th><th>Age</th><th>Marital_status</th><th>State_names</th><th>Segment</th><th>Employees_status</th><th>Payment_method</th><th>Referal</th><th>Amount_spent</th></tr><tr><td>i64</td><td>datetime[μs]</td><td>str</td><td>i64</td><td>str</td><td>str</td><td>str</td><td>str</td><td>str</td><td>i64</td><td>f64</td></tr></thead><tbody><tr><td>1000</td><td>2018-01-01 00:04:00</td><td>&quot;Female&quot;</td><td>39</td><td>&quot;Single&quot;</td><td>&quot;Oklahoma&quot;</td><td>&quot;Platinum&quot;</td><td>&quot;Unemployment&quot;</td><td>&quot;Card&quot;</td><td>0</td><td>1557.5</td></tr><tr><td>1001</td><td>2018-01-01 00:06:00</td><td>&quot;Male&quot;</td><td>34</td><td>&quot;Married&quot;</td><td>&quot;Hawaii&quot;</td><td>&quot;Basic&quot;</td><td>&quot;workers&quot;</td><td>&quot;PayPal&quot;</td><td>1</td><td>153.55</td></tr><tr><td>&hellip;</td><td>&hellip;</td><td>&hellip;</td><td>&hellip;</td><td>&hellip;</td><td>&hellip;</td><td>&hellip;</td><td>&hellip;</td><td>&hellip;</td><td>&hellip;</td><td>&hellip;</td></tr><tr><td>1003</td><td>2018-01-01 00:23:00</td><td>&quot;Male&quot;</td><td>33</td><td>&quot;Married&quot;</td><td>&quot;Wisconsin&quot;</td><td>&quot;Basic&quot;</td><td>&quot;self-employed&quot;</td><td>&quot;Card&quot;</td><td>1</td><td>293.58</td></tr><tr><td>1004</td><td>2018-01-01 00:25:00</td><td>&quot;Female&quot;</td><td>36</td><td>&quot;Married&quot;</td><td>&quot;Texas&quot;</td><td>&quot;Platinum&quot;</td><td>&quot;Employees&quot;</td><td>&quot;Card&quot;</td><td>0</td><td>1608.01</td></tr></tbody></table></div>"
            ]
          },
          "metadata": {},
          "execution_count": 61
        }
      ]
    },
    {
      "cell_type": "markdown",
      "source": [
        "**Reading Other File Formats**"
      ],
      "metadata": {
        "id": "CmjUJRhQ0Gwt"
      }
    },
    {
      "cell_type": "code",
      "source": [
        "# Read a Parquet file (Recommended for large datasets)\n",
        "df_parquet = pl.read_parquet(\"dataset/online_store_data.parquet\")\n",
        "\n",
        "# Read a JSON file\n",
        "df_json = pl.read_json(\"dataset/customer_data.json\")\n",
        "\n",
        "# Read an IPC/Feather file (Optimized for fast in-memory processing)\n",
        "df_ipc = pl.read_ipc(\"dataset/online_store_data.feather\")\n",
        "\n",
        "# Read an Avro file (Commonly used for efficient data pipelines)\n",
        "df_avro = pl.read_avro(\"dataset/online_store_data.avro\")\n"
      ],
      "metadata": {
        "id": "Up_PE_dNycHY"
      },
      "execution_count": null,
      "outputs": []
    },
    {
      "cell_type": "markdown",
      "source": [
        "**Reading CSV with Additional Parameters**"
      ],
      "metadata": {
        "id": "KQfR7pJ3yxiL"
      }
    },
    {
      "cell_type": "code",
      "source": [
        "df_add = pl.read_csv(\n",
        "    \"/content/drive/MyDrive/polars_dataset/customer_spending_1M_2018_2025.csv\",\n",
        "    dtypes={\"Transaction_ID\": pl.Int64, \"Amount_spent\": pl.Float64},  # Define column types\n",
        "    skip_rows=2  # Skip first two rows if they contain metadata\n",
        ")"
      ],
      "metadata": {
        "colab": {
          "base_uri": "https://localhost:8080/"
        },
        "id": "7SUCU8Ar0Rud",
        "outputId": "9485b221-a2cc-4184-f242-09c4a0ab380f"
      },
      "execution_count": 5,
      "outputs": [
        {
          "output_type": "stream",
          "name": "stderr",
          "text": [
            "<ipython-input-5-2ec312bfd4d8>:1: DeprecationWarning: The argument `dtypes` for `read_csv` is deprecated. It has been renamed to `schema_overrides`.\n",
            "  df_add = pl.read_csv(\n"
          ]
        }
      ]
    },
    {
      "cell_type": "markdown",
      "source": [
        "**Handling Headers in Raw Data**"
      ],
      "metadata": {
        "id": "eRejGPTG0w2C"
      }
    },
    {
      "cell_type": "code",
      "source": [
        "df_raw_data = pl.read_csv(\n",
        "    \"/content/drive/MyDrive/polars_dataset/customer_spending_1M_2018_2025.csv\",\n",
        "    has_header=True  # Ensures the first row is treated as headers\n",
        ")"
      ],
      "metadata": {
        "id": "IJonUiuMSPnK"
      },
      "execution_count": 6,
      "outputs": []
    },
    {
      "cell_type": "markdown",
      "source": [
        "**Reading CSV from a URL**"
      ],
      "metadata": {
        "id": "IXEK9Qd11Flf"
      }
    },
    {
      "cell_type": "code",
      "source": [
        "df_url = pl.read_csv(\"https://raw.githubusercontent.com/norochalise/pandas-tutorial-article-2022/refs/heads/main/dataset/online_store_customer_data.csv\")"
      ],
      "metadata": {
        "id": "Kgo30VnxSPku"
      },
      "execution_count": 7,
      "outputs": []
    },
    {
      "cell_type": "markdown",
      "source": [
        "**Streaming Large Datasets with scan_csv()**"
      ],
      "metadata": {
        "id": "HalAS5am1_aT"
      }
    },
    {
      "cell_type": "code",
      "source": [
        "df_stream = pl.scan_csv(\"/content/drive/MyDrive/polars_dataset/customer_spending_1M_2018_2025.csv\")\n",
        "\n",
        "# Apply filtering before loading into memory\n",
        "df_filtered = df_stream.filter(pl.col(\"Amount_spent\") > 50)\n",
        "\n",
        "# Collect to load the required data into memory\n",
        "df_final = df_filtered.collect()\n",
        "df_final.head(3)\n"
      ],
      "metadata": {
        "colab": {
          "base_uri": "https://localhost:8080/",
          "height": 192
        },
        "id": "3VGz3L0U15PH",
        "outputId": "6d9a5b94-ce23-4d85-c34b-7283a016be37"
      },
      "execution_count": 8,
      "outputs": [
        {
          "output_type": "execute_result",
          "data": {
            "text/plain": [
              "shape: (3, 11)\n",
              "┌─────────┬─────────┬────────┬─────┬─────────┬────────┬────────┬────────┬────────┬────────┬────────┐\n",
              "│ Transac ┆ Transac ┆ Gender ┆ Age ┆ Marital ┆ State_ ┆ Segmen ┆ Employ ┆ Paymen ┆ Refera ┆ Amount │\n",
              "│ tion_ID ┆ tion_da ┆ ---    ┆ --- ┆ _status ┆ names  ┆ t      ┆ ees_st ┆ t_meth ┆ l      ┆ _spent │\n",
              "│ ---     ┆ te      ┆ str    ┆ i64 ┆ ---     ┆ ---    ┆ ---    ┆ atus   ┆ od     ┆ ---    ┆ ---    │\n",
              "│ i64     ┆ ---     ┆        ┆     ┆ str     ┆ str    ┆ str    ┆ ---    ┆ ---    ┆ i64    ┆ f64    │\n",
              "│         ┆ str     ┆        ┆     ┆         ┆        ┆        ┆ str    ┆ str    ┆        ┆        │\n",
              "╞═════════╪═════════╪════════╪═════╪═════════╪════════╪════════╪════════╪════════╪════════╪════════╡\n",
              "│ 1000    ┆ 2018-01 ┆ Female ┆ 39  ┆ Single  ┆ Oklaho ┆ Platin ┆ Unempl ┆ Card   ┆ 0      ┆ 1557.5 │\n",
              "│         ┆ -01T00: ┆        ┆     ┆         ┆ ma     ┆ um     ┆ oyment ┆        ┆        ┆        │\n",
              "│         ┆ 04:00.0 ┆        ┆     ┆         ┆        ┆        ┆        ┆        ┆        ┆        │\n",
              "│         ┆ 00000   ┆        ┆     ┆         ┆        ┆        ┆        ┆        ┆        ┆        │\n",
              "│ 1001    ┆ 2018-01 ┆ Male   ┆ 34  ┆ Married ┆ Hawaii ┆ Basic  ┆ worker ┆ PayPal ┆ 1      ┆ 153.55 │\n",
              "│         ┆ -01T00: ┆        ┆     ┆         ┆        ┆        ┆ s      ┆        ┆        ┆        │\n",
              "│         ┆ 06:00.0 ┆        ┆     ┆         ┆        ┆        ┆        ┆        ┆        ┆        │\n",
              "│         ┆ 00000   ┆        ┆     ┆         ┆        ┆        ┆        ┆        ┆        ┆        │\n",
              "│ 1002    ┆ 2018-01 ┆ Female ┆ 53  ┆ Married ┆ Iowa   ┆ Basic  ┆ self-e ┆ PayPal ┆ 1      ┆ 2640.9 │\n",
              "│         ┆ -01T00: ┆        ┆     ┆         ┆        ┆        ┆ mploye ┆        ┆        ┆ 6      │\n",
              "│         ┆ 14:00.0 ┆        ┆     ┆         ┆        ┆        ┆ d      ┆        ┆        ┆        │\n",
              "│         ┆ 00000   ┆        ┆     ┆         ┆        ┆        ┆        ┆        ┆        ┆        │\n",
              "└─────────┴─────────┴────────┴─────┴─────────┴────────┴────────┴────────┴────────┴────────┴────────┘"
            ],
            "text/html": [
              "<div><style>\n",
              ".dataframe > thead > tr,\n",
              ".dataframe > tbody > tr {\n",
              "  text-align: right;\n",
              "  white-space: pre-wrap;\n",
              "}\n",
              "</style>\n",
              "<small>shape: (3, 11)</small><table border=\"1\" class=\"dataframe\"><thead><tr><th>Transaction_ID</th><th>Transaction_date</th><th>Gender</th><th>Age</th><th>Marital_status</th><th>State_names</th><th>Segment</th><th>Employees_status</th><th>Payment_method</th><th>Referal</th><th>Amount_spent</th></tr><tr><td>i64</td><td>str</td><td>str</td><td>i64</td><td>str</td><td>str</td><td>str</td><td>str</td><td>str</td><td>i64</td><td>f64</td></tr></thead><tbody><tr><td>1000</td><td>&quot;2018-01-01T00:04:00.000000&quot;</td><td>&quot;Female&quot;</td><td>39</td><td>&quot;Single&quot;</td><td>&quot;Oklahoma&quot;</td><td>&quot;Platinum&quot;</td><td>&quot;Unemployment&quot;</td><td>&quot;Card&quot;</td><td>0</td><td>1557.5</td></tr><tr><td>1001</td><td>&quot;2018-01-01T00:06:00.000000&quot;</td><td>&quot;Male&quot;</td><td>34</td><td>&quot;Married&quot;</td><td>&quot;Hawaii&quot;</td><td>&quot;Basic&quot;</td><td>&quot;workers&quot;</td><td>&quot;PayPal&quot;</td><td>1</td><td>153.55</td></tr><tr><td>1002</td><td>&quot;2018-01-01T00:14:00.000000&quot;</td><td>&quot;Female&quot;</td><td>53</td><td>&quot;Married&quot;</td><td>&quot;Iowa&quot;</td><td>&quot;Basic&quot;</td><td>&quot;self-employed&quot;</td><td>&quot;PayPal&quot;</td><td>1</td><td>2640.96</td></tr></tbody></table></div>"
            ]
          },
          "metadata": {},
          "execution_count": 8
        }
      ]
    },
    {
      "cell_type": "markdown",
      "source": [
        "**Saving Data Files**"
      ],
      "metadata": {
        "id": "r2cmEP352dGB"
      }
    },
    {
      "cell_type": "code",
      "source": [
        "# Save DataFrame as CSV\n",
        "df.write_csv(\"customer_data.csv\")\n",
        "\n",
        "# Save DataFrame as Parquet (recommended for large datasets)\n",
        "df.write_parquet(\"customer_data.parquet\")\n",
        "\n",
        "# Save DataFrame as JSON\n",
        "df.write_json(\"customer_data.json\")\n",
        "\n",
        "# Save DataFrame as IPC/Feather\n",
        "df.write_ipc(\"customer_data.feather\")\n"
      ],
      "metadata": {
        "id": "U4BdTE7A15Lt"
      },
      "execution_count": 9,
      "outputs": []
    },
    {
      "cell_type": "markdown",
      "source": [
        "## 3. Data Exploration and Manipulation"
      ],
      "metadata": {
        "id": "eQiXq5dr20Fd"
      }
    },
    {
      "cell_type": "markdown",
      "source": [
        "### Viewing Data (Head, Tail, Schema, Describe)"
      ],
      "metadata": {
        "id": "JwpV131v9UXf"
      }
    },
    {
      "cell_type": "markdown",
      "source": [
        "**Checking the First Few Rows**"
      ],
      "metadata": {
        "id": "-Ug8f5Dz27uW"
      }
    },
    {
      "cell_type": "code",
      "source": [
        "df.head()  # Shows the first 5 rows"
      ],
      "metadata": {
        "colab": {
          "base_uri": "https://localhost:8080/",
          "height": 255
        },
        "id": "QHLuik2D15I6",
        "outputId": "ccf9d191-711c-4fb4-d48e-628c7b831fac"
      },
      "execution_count": 28,
      "outputs": [
        {
          "output_type": "execute_result",
          "data": {
            "text/plain": [
              "shape: (5, 11)\n",
              "┌─────────┬─────────┬────────┬─────┬─────────┬────────┬────────┬────────┬────────┬────────┬────────┐\n",
              "│ Transac ┆ Transac ┆ Gender ┆ Age ┆ Marital ┆ State_ ┆ Segmen ┆ Employ ┆ Paymen ┆ Refera ┆ Amount │\n",
              "│ tion_ID ┆ tion_da ┆ ---    ┆ --- ┆ _status ┆ names  ┆ t      ┆ ees_st ┆ t_meth ┆ l      ┆ _spent │\n",
              "│ ---     ┆ te      ┆ str    ┆ i64 ┆ ---     ┆ ---    ┆ ---    ┆ atus   ┆ od     ┆ ---    ┆ ---    │\n",
              "│ i64     ┆ ---     ┆        ┆     ┆ str     ┆ str    ┆ str    ┆ ---    ┆ ---    ┆ i64    ┆ f64    │\n",
              "│         ┆ datetim ┆        ┆     ┆         ┆        ┆        ┆ str    ┆ str    ┆        ┆        │\n",
              "│         ┆ e[μs]   ┆        ┆     ┆         ┆        ┆        ┆        ┆        ┆        ┆        │\n",
              "╞═════════╪═════════╪════════╪═════╪═════════╪════════╪════════╪════════╪════════╪════════╪════════╡\n",
              "│ 1000    ┆ 2018-01 ┆ Female ┆ 39  ┆ Single  ┆ Oklaho ┆ Platin ┆ Unempl ┆ Card   ┆ 0      ┆ 1557.5 │\n",
              "│         ┆ -01 00: ┆        ┆     ┆         ┆ ma     ┆ um     ┆ oyment ┆        ┆        ┆        │\n",
              "│         ┆ 04:00   ┆        ┆     ┆         ┆        ┆        ┆        ┆        ┆        ┆        │\n",
              "│ 1001    ┆ 2018-01 ┆ Male   ┆ 34  ┆ Married ┆ Hawaii ┆ Basic  ┆ worker ┆ PayPal ┆ 1      ┆ 153.55 │\n",
              "│         ┆ -01 00: ┆        ┆     ┆         ┆        ┆        ┆ s      ┆        ┆        ┆        │\n",
              "│         ┆ 06:00   ┆        ┆     ┆         ┆        ┆        ┆        ┆        ┆        ┆        │\n",
              "│ 1002    ┆ 2018-01 ┆ Female ┆ 53  ┆ Married ┆ Iowa   ┆ Basic  ┆ self-e ┆ PayPal ┆ 1      ┆ 2640.9 │\n",
              "│         ┆ -01 00: ┆        ┆     ┆         ┆        ┆        ┆ mploye ┆        ┆        ┆ 6      │\n",
              "│         ┆ 14:00   ┆        ┆     ┆         ┆        ┆        ┆ d      ┆        ┆        ┆        │\n",
              "│ 1003    ┆ 2018-01 ┆ Male   ┆ 33  ┆ Married ┆ Wiscon ┆ Basic  ┆ self-e ┆ Card   ┆ 1      ┆ 293.58 │\n",
              "│         ┆ -01 00: ┆        ┆     ┆         ┆ sin    ┆        ┆ mploye ┆        ┆        ┆        │\n",
              "│         ┆ 23:00   ┆        ┆     ┆         ┆        ┆        ┆ d      ┆        ┆        ┆        │\n",
              "│ 1004    ┆ 2018-01 ┆ Female ┆ 36  ┆ Married ┆ Texas  ┆ Platin ┆ Employ ┆ Card   ┆ 0      ┆ 1608.0 │\n",
              "│         ┆ -01 00: ┆        ┆     ┆         ┆        ┆ um     ┆ ees    ┆        ┆        ┆ 1      │\n",
              "│         ┆ 25:00   ┆        ┆     ┆         ┆        ┆        ┆        ┆        ┆        ┆        │\n",
              "└─────────┴─────────┴────────┴─────┴─────────┴────────┴────────┴────────┴────────┴────────┴────────┘"
            ],
            "text/html": [
              "<div><style>\n",
              ".dataframe > thead > tr,\n",
              ".dataframe > tbody > tr {\n",
              "  text-align: right;\n",
              "  white-space: pre-wrap;\n",
              "}\n",
              "</style>\n",
              "<small>shape: (5, 11)</small><table border=\"1\" class=\"dataframe\"><thead><tr><th>Transaction_ID</th><th>Transaction_date</th><th>Gender</th><th>Age</th><th>Marital_status</th><th>State_names</th><th>Segment</th><th>Employees_status</th><th>Payment_method</th><th>Referal</th><th>Amount_spent</th></tr><tr><td>i64</td><td>datetime[μs]</td><td>str</td><td>i64</td><td>str</td><td>str</td><td>str</td><td>str</td><td>str</td><td>i64</td><td>f64</td></tr></thead><tbody><tr><td>1000</td><td>2018-01-01 00:04:00</td><td>&quot;Female&quot;</td><td>39</td><td>&quot;Single&quot;</td><td>&quot;Oklahoma&quot;</td><td>&quot;Platinum&quot;</td><td>&quot;Unemployment&quot;</td><td>&quot;Card&quot;</td><td>0</td><td>1557.5</td></tr><tr><td>1001</td><td>2018-01-01 00:06:00</td><td>&quot;Male&quot;</td><td>34</td><td>&quot;Married&quot;</td><td>&quot;Hawaii&quot;</td><td>&quot;Basic&quot;</td><td>&quot;workers&quot;</td><td>&quot;PayPal&quot;</td><td>1</td><td>153.55</td></tr><tr><td>1002</td><td>2018-01-01 00:14:00</td><td>&quot;Female&quot;</td><td>53</td><td>&quot;Married&quot;</td><td>&quot;Iowa&quot;</td><td>&quot;Basic&quot;</td><td>&quot;self-employed&quot;</td><td>&quot;PayPal&quot;</td><td>1</td><td>2640.96</td></tr><tr><td>1003</td><td>2018-01-01 00:23:00</td><td>&quot;Male&quot;</td><td>33</td><td>&quot;Married&quot;</td><td>&quot;Wisconsin&quot;</td><td>&quot;Basic&quot;</td><td>&quot;self-employed&quot;</td><td>&quot;Card&quot;</td><td>1</td><td>293.58</td></tr><tr><td>1004</td><td>2018-01-01 00:25:00</td><td>&quot;Female&quot;</td><td>36</td><td>&quot;Married&quot;</td><td>&quot;Texas&quot;</td><td>&quot;Platinum&quot;</td><td>&quot;Employees&quot;</td><td>&quot;Card&quot;</td><td>0</td><td>1608.01</td></tr></tbody></table></div>"
            ]
          },
          "metadata": {},
          "execution_count": 28
        }
      ]
    },
    {
      "cell_type": "markdown",
      "source": [
        "**Viewing the Last Few Rows**"
      ],
      "metadata": {
        "id": "K27X4rO13GF2"
      }
    },
    {
      "cell_type": "code",
      "source": [
        "df.tail()  # Shows the last 5 rows"
      ],
      "metadata": {
        "colab": {
          "base_uri": "https://localhost:8080/",
          "height": 255
        },
        "id": "pPmNxwV515GI",
        "outputId": "dd42be66-c832-4a42-c362-558fdc9ee9ac"
      },
      "execution_count": 29,
      "outputs": [
        {
          "output_type": "execute_result",
          "data": {
            "text/plain": [
              "shape: (5, 11)\n",
              "┌─────────┬─────────┬────────┬─────┬─────────┬────────┬────────┬────────┬────────┬────────┬────────┐\n",
              "│ Transac ┆ Transac ┆ Gender ┆ Age ┆ Marital ┆ State_ ┆ Segmen ┆ Employ ┆ Paymen ┆ Refera ┆ Amount │\n",
              "│ tion_ID ┆ tion_da ┆ ---    ┆ --- ┆ _status ┆ names  ┆ t      ┆ ees_st ┆ t_meth ┆ l      ┆ _spent │\n",
              "│ ---     ┆ te      ┆ str    ┆ i64 ┆ ---     ┆ ---    ┆ ---    ┆ atus   ┆ od     ┆ ---    ┆ ---    │\n",
              "│ i64     ┆ ---     ┆        ┆     ┆ str     ┆ str    ┆ str    ┆ ---    ┆ ---    ┆ i64    ┆ f64    │\n",
              "│         ┆ datetim ┆        ┆     ┆         ┆        ┆        ┆ str    ┆ str    ┆        ┆        │\n",
              "│         ┆ e[μs]   ┆        ┆     ┆         ┆        ┆        ┆        ┆        ┆        ┆        │\n",
              "╞═════════╪═════════╪════════╪═════╪═════════╪════════╪════════╪════════╪════════╪════════╪════════╡\n",
              "│ 1000995 ┆ 2025-01 ┆ Male   ┆ 45  ┆ Single  ┆ Arkans ┆ Gold   ┆ Employ ┆ PayPal ┆ 1      ┆ 1762.7 │\n",
              "│         ┆ -30 23: ┆        ┆     ┆         ┆ as     ┆        ┆ ees    ┆        ┆        ┆ 6      │\n",
              "│         ┆ 43:00   ┆        ┆     ┆         ┆        ┆        ┆        ┆        ┆        ┆        │\n",
              "│ 1000996 ┆ 2025-01 ┆ Female ┆ 75  ┆ Married ┆ Virgin ┆ Silver ┆ worker ┆ Other  ┆ 1      ┆ 31.41  │\n",
              "│         ┆ -30 23: ┆        ┆     ┆         ┆ ia     ┆        ┆ s      ┆        ┆        ┆        │\n",
              "│         ┆ 45:00   ┆        ┆     ┆         ┆        ┆        ┆        ┆        ┆        ┆        │\n",
              "│ 1000997 ┆ 2025-01 ┆ Female ┆ 61  ┆ Married ┆ Kansas ┆ Basic  ┆ self-e ┆ Other  ┆ 1      ┆ 1699.3 │\n",
              "│         ┆ -30 23: ┆        ┆     ┆         ┆        ┆        ┆ mploye ┆        ┆        ┆ 1      │\n",
              "│         ┆ 47:00   ┆        ┆     ┆         ┆        ┆        ┆ d      ┆        ┆        ┆        │\n",
              "│ 1000998 ┆ 2025-01 ┆ Female ┆ 68  ┆ Married ┆ Utah   ┆ Basic  ┆ Employ ┆ PayPal ┆ 1      ┆ 208.26 │\n",
              "│         ┆ -30 23: ┆        ┆     ┆         ┆        ┆        ┆ ees    ┆        ┆        ┆        │\n",
              "│         ┆ 52:00   ┆        ┆     ┆         ┆        ┆        ┆        ┆        ┆        ┆        │\n",
              "│ 1000999 ┆ 2025-01 ┆ Male   ┆ 55  ┆ Single  ┆ Nevada ┆ Missin ┆ worker ┆ PayPal ┆ 0      ┆ 2063.9 │\n",
              "│         ┆ -30 23: ┆        ┆     ┆         ┆        ┆ g      ┆ s      ┆        ┆        ┆ 2      │\n",
              "│         ┆ 57:00   ┆        ┆     ┆         ┆        ┆        ┆        ┆        ┆        ┆        │\n",
              "└─────────┴─────────┴────────┴─────┴─────────┴────────┴────────┴────────┴────────┴────────┴────────┘"
            ],
            "text/html": [
              "<div><style>\n",
              ".dataframe > thead > tr,\n",
              ".dataframe > tbody > tr {\n",
              "  text-align: right;\n",
              "  white-space: pre-wrap;\n",
              "}\n",
              "</style>\n",
              "<small>shape: (5, 11)</small><table border=\"1\" class=\"dataframe\"><thead><tr><th>Transaction_ID</th><th>Transaction_date</th><th>Gender</th><th>Age</th><th>Marital_status</th><th>State_names</th><th>Segment</th><th>Employees_status</th><th>Payment_method</th><th>Referal</th><th>Amount_spent</th></tr><tr><td>i64</td><td>datetime[μs]</td><td>str</td><td>i64</td><td>str</td><td>str</td><td>str</td><td>str</td><td>str</td><td>i64</td><td>f64</td></tr></thead><tbody><tr><td>1000995</td><td>2025-01-30 23:43:00</td><td>&quot;Male&quot;</td><td>45</td><td>&quot;Single&quot;</td><td>&quot;Arkansas&quot;</td><td>&quot;Gold&quot;</td><td>&quot;Employees&quot;</td><td>&quot;PayPal&quot;</td><td>1</td><td>1762.76</td></tr><tr><td>1000996</td><td>2025-01-30 23:45:00</td><td>&quot;Female&quot;</td><td>75</td><td>&quot;Married&quot;</td><td>&quot;Virginia&quot;</td><td>&quot;Silver&quot;</td><td>&quot;workers&quot;</td><td>&quot;Other&quot;</td><td>1</td><td>31.41</td></tr><tr><td>1000997</td><td>2025-01-30 23:47:00</td><td>&quot;Female&quot;</td><td>61</td><td>&quot;Married&quot;</td><td>&quot;Kansas&quot;</td><td>&quot;Basic&quot;</td><td>&quot;self-employed&quot;</td><td>&quot;Other&quot;</td><td>1</td><td>1699.31</td></tr><tr><td>1000998</td><td>2025-01-30 23:52:00</td><td>&quot;Female&quot;</td><td>68</td><td>&quot;Married&quot;</td><td>&quot;Utah&quot;</td><td>&quot;Basic&quot;</td><td>&quot;Employees&quot;</td><td>&quot;PayPal&quot;</td><td>1</td><td>208.26</td></tr><tr><td>1000999</td><td>2025-01-30 23:57:00</td><td>&quot;Male&quot;</td><td>55</td><td>&quot;Single&quot;</td><td>&quot;Nevada&quot;</td><td>&quot;Missing&quot;</td><td>&quot;workers&quot;</td><td>&quot;PayPal&quot;</td><td>0</td><td>2063.92</td></tr></tbody></table></div>"
            ]
          },
          "metadata": {},
          "execution_count": 29
        }
      ]
    },
    {
      "cell_type": "markdown",
      "source": [
        "**Retrieving Sample Rows from a DataFrame**"
      ],
      "metadata": {
        "id": "_nMlFtfB3OoS"
      }
    },
    {
      "cell_type": "code",
      "source": [
        "df.sample(n=4)"
      ],
      "metadata": {
        "colab": {
          "base_uri": "https://localhost:8080/",
          "height": 223
        },
        "id": "oLIl70oC15Dq",
        "outputId": "25e452eb-5ebc-41a2-8fd7-d6d0a957e530"
      },
      "execution_count": 30,
      "outputs": [
        {
          "output_type": "execute_result",
          "data": {
            "text/plain": [
              "shape: (4, 11)\n",
              "┌─────────┬─────────┬────────┬─────┬─────────┬────────┬────────┬────────┬────────┬────────┬────────┐\n",
              "│ Transac ┆ Transac ┆ Gender ┆ Age ┆ Marital ┆ State_ ┆ Segmen ┆ Employ ┆ Paymen ┆ Refera ┆ Amount │\n",
              "│ tion_ID ┆ tion_da ┆ ---    ┆ --- ┆ _status ┆ names  ┆ t      ┆ ees_st ┆ t_meth ┆ l      ┆ _spent │\n",
              "│ ---     ┆ te      ┆ str    ┆ i64 ┆ ---     ┆ ---    ┆ ---    ┆ atus   ┆ od     ┆ ---    ┆ ---    │\n",
              "│ i64     ┆ ---     ┆        ┆     ┆ str     ┆ str    ┆ str    ┆ ---    ┆ ---    ┆ i64    ┆ f64    │\n",
              "│         ┆ datetim ┆        ┆     ┆         ┆        ┆        ┆ str    ┆ str    ┆        ┆        │\n",
              "│         ┆ e[μs]   ┆        ┆     ┆         ┆        ┆        ┆        ┆        ┆        ┆        │\n",
              "╞═════════╪═════════╪════════╪═════╪═════════╪════════╪════════╪════════╪════════╪════════╪════════╡\n",
              "│ 683320  ┆ 2022-11 ┆ Male   ┆ 75  ┆ Single  ┆ Alaska ┆ Basic  ┆ worker ┆ Card   ┆ 1      ┆ 2497.3 │\n",
              "│         ┆ -01 16: ┆        ┆     ┆         ┆        ┆        ┆ s      ┆        ┆        ┆ 1      │\n",
              "│         ┆ 30:00   ┆        ┆     ┆         ┆        ┆        ┆        ┆        ┆        ┆        │\n",
              "│ 557336  ┆ 2021-12 ┆ Female ┆ 59  ┆ Single  ┆ Califo ┆ Silver ┆ self-e ┆ PayPal ┆ 1      ┆ null   │\n",
              "│         ┆ -11 07: ┆        ┆     ┆         ┆ rnia   ┆        ┆ mploye ┆        ┆        ┆        │\n",
              "│         ┆ 12:00   ┆        ┆     ┆         ┆        ┆        ┆ d      ┆        ┆        ┆        │\n",
              "│ 218772  ┆ 2019-07 ┆ Male   ┆ 25  ┆ Married ┆ North  ┆ Basic  ┆ self-e ┆ PayPal ┆ 1      ┆ null   │\n",
              "│         ┆ -20 03: ┆        ┆     ┆         ┆ Caroli ┆        ┆ mploye ┆        ┆        ┆        │\n",
              "│         ┆ 05:00   ┆        ┆     ┆         ┆ na     ┆        ┆ d      ┆        ┆        ┆        │\n",
              "│ 286678  ┆ 2020-01 ┆ Female ┆ 58  ┆ Married ┆ Arkans ┆ Gold   ┆ worker ┆ Card   ┆ 1      ┆ 2602.8 │\n",
              "│         ┆ -10 15: ┆        ┆     ┆         ┆ as     ┆        ┆ s      ┆        ┆        ┆ 1      │\n",
              "│         ┆ 48:00   ┆        ┆     ┆         ┆        ┆        ┆        ┆        ┆        ┆        │\n",
              "└─────────┴─────────┴────────┴─────┴─────────┴────────┴────────┴────────┴────────┴────────┴────────┘"
            ],
            "text/html": [
              "<div><style>\n",
              ".dataframe > thead > tr,\n",
              ".dataframe > tbody > tr {\n",
              "  text-align: right;\n",
              "  white-space: pre-wrap;\n",
              "}\n",
              "</style>\n",
              "<small>shape: (4, 11)</small><table border=\"1\" class=\"dataframe\"><thead><tr><th>Transaction_ID</th><th>Transaction_date</th><th>Gender</th><th>Age</th><th>Marital_status</th><th>State_names</th><th>Segment</th><th>Employees_status</th><th>Payment_method</th><th>Referal</th><th>Amount_spent</th></tr><tr><td>i64</td><td>datetime[μs]</td><td>str</td><td>i64</td><td>str</td><td>str</td><td>str</td><td>str</td><td>str</td><td>i64</td><td>f64</td></tr></thead><tbody><tr><td>683320</td><td>2022-11-01 16:30:00</td><td>&quot;Male&quot;</td><td>75</td><td>&quot;Single&quot;</td><td>&quot;Alaska&quot;</td><td>&quot;Basic&quot;</td><td>&quot;workers&quot;</td><td>&quot;Card&quot;</td><td>1</td><td>2497.31</td></tr><tr><td>557336</td><td>2021-12-11 07:12:00</td><td>&quot;Female&quot;</td><td>59</td><td>&quot;Single&quot;</td><td>&quot;California&quot;</td><td>&quot;Silver&quot;</td><td>&quot;self-employed&quot;</td><td>&quot;PayPal&quot;</td><td>1</td><td>null</td></tr><tr><td>218772</td><td>2019-07-20 03:05:00</td><td>&quot;Male&quot;</td><td>25</td><td>&quot;Married&quot;</td><td>&quot;North Carolina&quot;</td><td>&quot;Basic&quot;</td><td>&quot;self-employed&quot;</td><td>&quot;PayPal&quot;</td><td>1</td><td>null</td></tr><tr><td>286678</td><td>2020-01-10 15:48:00</td><td>&quot;Female&quot;</td><td>58</td><td>&quot;Married&quot;</td><td>&quot;Arkansas&quot;</td><td>&quot;Gold&quot;</td><td>&quot;workers&quot;</td><td>&quot;Card&quot;</td><td>1</td><td>2602.81</td></tr></tbody></table></div>"
            ]
          },
          "metadata": {},
          "execution_count": 30
        }
      ]
    },
    {
      "cell_type": "markdown",
      "source": [
        "**Checking the Structure of the Data (df.schema)**"
      ],
      "metadata": {
        "id": "LVrMrIFR3XZt"
      }
    },
    {
      "cell_type": "code",
      "source": [
        "df.schema"
      ],
      "metadata": {
        "colab": {
          "base_uri": "https://localhost:8080/"
        },
        "id": "H9EVMVdE15Aq",
        "outputId": "2ea417d2-7200-4e90-956a-b01ec73d90ee"
      },
      "execution_count": 31,
      "outputs": [
        {
          "output_type": "execute_result",
          "data": {
            "text/plain": [
              "Schema([('Transaction_ID', Int64),\n",
              "        ('Transaction_date', Datetime(time_unit='us', time_zone=None)),\n",
              "        ('Gender', String),\n",
              "        ('Age', Int64),\n",
              "        ('Marital_status', String),\n",
              "        ('State_names', String),\n",
              "        ('Segment', String),\n",
              "        ('Employees_status', String),\n",
              "        ('Payment_method', String),\n",
              "        ('Referal', Int64),\n",
              "        ('Amount_spent', Float64)])"
            ]
          },
          "metadata": {},
          "execution_count": 31
        }
      ]
    },
    {
      "cell_type": "markdown",
      "source": [
        "**Summarizing Data**"
      ],
      "metadata": {
        "id": "yM7fOoDb3gj2"
      }
    },
    {
      "cell_type": "code",
      "source": [
        "df.describe()"
      ],
      "metadata": {
        "colab": {
          "base_uri": "https://localhost:8080/",
          "height": 398
        },
        "id": "6L86yv1R14-N",
        "outputId": "aeba6107-d1a0-47bd-ff7d-e17a10f26574"
      },
      "execution_count": 32,
      "outputs": [
        {
          "output_type": "execute_result",
          "data": {
            "text/plain": [
              "shape: (9, 12)\n",
              "┌────────┬────────┬────────┬───────┬───────┬───────┬───────┬───────┬───────┬───────┬───────┬───────┐\n",
              "│ statis ┆ Transa ┆ Transa ┆ Gende ┆ Age   ┆ Marit ┆ State ┆ Segme ┆ Emplo ┆ Payme ┆ Refer ┆ Amoun │\n",
              "│ tic    ┆ ction_ ┆ ction_ ┆ r     ┆ ---   ┆ al_st ┆ _name ┆ nt    ┆ yees_ ┆ nt_me ┆ al    ┆ t_spe │\n",
              "│ ---    ┆ ID     ┆ date   ┆ ---   ┆ f64   ┆ atus  ┆ s     ┆ ---   ┆ statu ┆ thod  ┆ ---   ┆ nt    │\n",
              "│ str    ┆ ---    ┆ ---    ┆ str   ┆       ┆ ---   ┆ ---   ┆ str   ┆ s     ┆ ---   ┆ f64   ┆ ---   │\n",
              "│        ┆ f64    ┆ str    ┆       ┆       ┆ str   ┆ str   ┆       ┆ ---   ┆ str   ┆       ┆ f64   │\n",
              "│        ┆        ┆        ┆       ┆       ┆       ┆       ┆       ┆ str   ┆       ┆       ┆       │\n",
              "╞════════╪════════╪════════╪═══════╪═══════╪═══════╪═══════╪═══════╪═══════╪═══════╪═══════╪═══════╡\n",
              "│ count  ┆ 1e6    ┆ 100000 ┆ 98894 ┆ 98334 ┆ 10000 ┆ 10000 ┆ 10000 ┆ 98977 ┆ 10000 ┆ 93818 ┆ 90393 │\n",
              "│        ┆        ┆ 0      ┆ 8     ┆ 6.0   ┆ 00    ┆ 00    ┆ 00    ┆ 5     ┆ 00    ┆ 8.0   ┆ 5.0   │\n",
              "│ null_c ┆ 0.0    ┆ 0      ┆ 11052 ┆ 16654 ┆ 0     ┆ 0     ┆ 0     ┆ 10225 ┆ 0     ┆ 61812 ┆ 96065 │\n",
              "│ ount   ┆        ┆        ┆       ┆ .0    ┆       ┆       ┆       ┆       ┆       ┆ .0    ┆ .0    │\n",
              "│ mean   ┆ 500999 ┆ 2021-0 ┆ null  ┆ 46.64 ┆ null  ┆ null  ┆ null  ┆ null  ┆ null  ┆ 0.652 ┆ 1416. │\n",
              "│        ┆ .5     ┆ 7-18   ┆       ┆ 717   ┆       ┆       ┆       ┆       ┆       ┆ 339   ┆ 12610 │\n",
              "│        ┆        ┆ 02:33: ┆       ┆       ┆       ┆       ┆       ┆       ┆       ┆       ┆ 6     │\n",
              "│        ┆        ┆ 57.352 ┆       ┆       ┆       ┆       ┆       ┆       ┆       ┆       ┆       │\n",
              "│        ┆        ┆ 319    ┆       ┆       ┆       ┆       ┆       ┆       ┆       ┆       ┆       │\n",
              "│ std    ┆ 288675 ┆ null   ┆ null  ┆ 18.18 ┆ null  ┆ null  ┆ null  ┆ null  ┆ null  ┆ 0.476 ┆ 878.1 │\n",
              "│        ┆ .27893 ┆        ┆       ┆ 3986  ┆       ┆       ┆       ┆       ┆       ┆ 228   ┆ 23082 │\n",
              "│        ┆ 2      ┆        ┆       ┆       ┆       ┆       ┆       ┆       ┆       ┆       ┆       │\n",
              "│ min    ┆ 1000.0 ┆ 2018-0 ┆ Femal ┆ 15.0  ┆ Marri ┆ Alaba ┆ Basic ┆ Emplo ┆ Card  ┆ 0.0   ┆ 2.09  │\n",
              "│        ┆        ┆ 1-01   ┆ e     ┆       ┆ ed    ┆ ma    ┆       ┆ yees  ┆       ┆       ┆       │\n",
              "│        ┆        ┆ 00:04: ┆       ┆       ┆       ┆       ┆       ┆       ┆       ┆       ┆       │\n",
              "│        ┆        ┆ 00     ┆       ┆       ┆       ┆       ┆       ┆       ┆       ┆       ┆       │\n",
              "│ 25%    ┆ 251000 ┆ 2019-1 ┆ null  ┆ 32.0  ┆ null  ┆ null  ┆ null  ┆ null  ┆ null  ┆ 0.0   ┆ 677.3 │\n",
              "│        ┆ .0     ┆ 0-11   ┆       ┆       ┆       ┆       ┆       ┆       ┆       ┆       ┆ 6     │\n",
              "│        ┆        ┆ 00:16: ┆       ┆       ┆       ┆       ┆       ┆       ┆       ┆       ┆       │\n",
              "│        ┆        ┆ 00     ┆       ┆       ┆       ┆       ┆       ┆       ┆       ┆       ┆       │\n",
              "│ 50%    ┆ 501000 ┆ 2021-0 ┆ null  ┆ 47.0  ┆ null  ┆ null  ┆ null  ┆ null  ┆ null  ┆ 1.0   ┆ 1332. │\n",
              "│        ┆ .0     ┆ 7-18   ┆       ┆       ┆       ┆       ┆       ┆       ┆       ┆       ┆ 48    │\n",
              "│        ┆        ┆ 03:11: ┆       ┆       ┆       ┆       ┆       ┆       ┆       ┆       ┆       │\n",
              "│        ┆        ┆ 00     ┆       ┆       ┆       ┆       ┆       ┆       ┆       ┆       ┆       │\n",
              "│ 75%    ┆ 750999 ┆ 2023-0 ┆ null  ┆ 62.0  ┆ null  ┆ null  ┆ null  ┆ null  ┆ null  ┆ 1.0   ┆ 2037. │\n",
              "│        ┆ .0     ┆ 4-25   ┆       ┆       ┆       ┆       ┆       ┆       ┆       ┆       ┆ 59    │\n",
              "│        ┆        ┆ 02:40: ┆       ┆       ┆       ┆       ┆       ┆       ┆       ┆       ┆       │\n",
              "│        ┆        ┆ 00     ┆       ┆       ┆       ┆       ┆       ┆       ┆       ┆       ┆       │\n",
              "│ max    ┆ 1.0009 ┆ 2025-0 ┆ Male  ┆ 78.0  ┆ Singl ┆ Wyomi ┆ Silve ┆ worke ┆ PayPa ┆ 1.0   ┆ 2999. │\n",
              "│        ┆ 99e6   ┆ 1-30   ┆       ┆       ┆ e     ┆ ng    ┆ r     ┆ rs    ┆ l     ┆       ┆ 98    │\n",
              "│        ┆        ┆ 23:57: ┆       ┆       ┆       ┆       ┆       ┆       ┆       ┆       ┆       │\n",
              "│        ┆        ┆ 00     ┆       ┆       ┆       ┆       ┆       ┆       ┆       ┆       ┆       │\n",
              "└────────┴────────┴────────┴───────┴───────┴───────┴───────┴───────┴───────┴───────┴───────┴───────┘"
            ],
            "text/html": [
              "<div><style>\n",
              ".dataframe > thead > tr,\n",
              ".dataframe > tbody > tr {\n",
              "  text-align: right;\n",
              "  white-space: pre-wrap;\n",
              "}\n",
              "</style>\n",
              "<small>shape: (9, 12)</small><table border=\"1\" class=\"dataframe\"><thead><tr><th>statistic</th><th>Transaction_ID</th><th>Transaction_date</th><th>Gender</th><th>Age</th><th>Marital_status</th><th>State_names</th><th>Segment</th><th>Employees_status</th><th>Payment_method</th><th>Referal</th><th>Amount_spent</th></tr><tr><td>str</td><td>f64</td><td>str</td><td>str</td><td>f64</td><td>str</td><td>str</td><td>str</td><td>str</td><td>str</td><td>f64</td><td>f64</td></tr></thead><tbody><tr><td>&quot;count&quot;</td><td>1e6</td><td>&quot;1000000&quot;</td><td>&quot;988948&quot;</td><td>983346.0</td><td>&quot;1000000&quot;</td><td>&quot;1000000&quot;</td><td>&quot;1000000&quot;</td><td>&quot;989775&quot;</td><td>&quot;1000000&quot;</td><td>938188.0</td><td>903935.0</td></tr><tr><td>&quot;null_count&quot;</td><td>0.0</td><td>&quot;0&quot;</td><td>&quot;11052&quot;</td><td>16654.0</td><td>&quot;0&quot;</td><td>&quot;0&quot;</td><td>&quot;0&quot;</td><td>&quot;10225&quot;</td><td>&quot;0&quot;</td><td>61812.0</td><td>96065.0</td></tr><tr><td>&quot;mean&quot;</td><td>500999.5</td><td>&quot;2021-07-18 02:33:57.352319&quot;</td><td>null</td><td>46.64717</td><td>null</td><td>null</td><td>null</td><td>null</td><td>null</td><td>0.652339</td><td>1416.126106</td></tr><tr><td>&quot;std&quot;</td><td>288675.278932</td><td>null</td><td>null</td><td>18.183986</td><td>null</td><td>null</td><td>null</td><td>null</td><td>null</td><td>0.476228</td><td>878.123082</td></tr><tr><td>&quot;min&quot;</td><td>1000.0</td><td>&quot;2018-01-01 00:04:00&quot;</td><td>&quot;Female&quot;</td><td>15.0</td><td>&quot;Married&quot;</td><td>&quot;Alabama&quot;</td><td>&quot;Basic&quot;</td><td>&quot;Employees&quot;</td><td>&quot;Card&quot;</td><td>0.0</td><td>2.09</td></tr><tr><td>&quot;25%&quot;</td><td>251000.0</td><td>&quot;2019-10-11 00:16:00&quot;</td><td>null</td><td>32.0</td><td>null</td><td>null</td><td>null</td><td>null</td><td>null</td><td>0.0</td><td>677.36</td></tr><tr><td>&quot;50%&quot;</td><td>501000.0</td><td>&quot;2021-07-18 03:11:00&quot;</td><td>null</td><td>47.0</td><td>null</td><td>null</td><td>null</td><td>null</td><td>null</td><td>1.0</td><td>1332.48</td></tr><tr><td>&quot;75%&quot;</td><td>750999.0</td><td>&quot;2023-04-25 02:40:00&quot;</td><td>null</td><td>62.0</td><td>null</td><td>null</td><td>null</td><td>null</td><td>null</td><td>1.0</td><td>2037.59</td></tr><tr><td>&quot;max&quot;</td><td>1.000999e6</td><td>&quot;2025-01-30 23:57:00&quot;</td><td>&quot;Male&quot;</td><td>78.0</td><td>&quot;Single&quot;</td><td>&quot;Wyoming&quot;</td><td>&quot;Silver&quot;</td><td>&quot;workers&quot;</td><td>&quot;PayPal&quot;</td><td>1.0</td><td>2999.98</td></tr></tbody></table></div>"
            ]
          },
          "metadata": {},
          "execution_count": 32
        }
      ]
    },
    {
      "cell_type": "markdown",
      "source": [
        "### Selecting, Filtering, and Slicing Data"
      ],
      "metadata": {
        "id": "80Xx1Vss3p3P"
      }
    },
    {
      "cell_type": "markdown",
      "source": [
        "**Selecting Specific Columns**"
      ],
      "metadata": {
        "id": "eNiJVsKa3yis"
      }
    },
    {
      "cell_type": "code",
      "source": [
        "#Selecting One Column\n",
        "df.select(\"Amount_spent\")"
      ],
      "metadata": {
        "colab": {
          "base_uri": "https://localhost:8080/",
          "height": 443
        },
        "id": "pqx7x-oK147n",
        "outputId": "e0304824-2140-49fb-f698-06b1bd32f810"
      },
      "execution_count": 41,
      "outputs": [
        {
          "output_type": "execute_result",
          "data": {
            "text/plain": [
              "shape: (1_000_000, 1)\n",
              "┌──────────────┐\n",
              "│ Amount_spent │\n",
              "│ ---          │\n",
              "│ f64          │\n",
              "╞══════════════╡\n",
              "│ 1557.5       │\n",
              "│ 153.55       │\n",
              "│ 2640.96      │\n",
              "│ 293.58       │\n",
              "│ 1608.01      │\n",
              "│ …            │\n",
              "│ 1762.76      │\n",
              "│ 31.41        │\n",
              "│ 1699.31      │\n",
              "│ 208.26       │\n",
              "│ 2063.92      │\n",
              "└──────────────┘"
            ],
            "text/html": [
              "<div><style>\n",
              ".dataframe > thead > tr,\n",
              ".dataframe > tbody > tr {\n",
              "  text-align: right;\n",
              "  white-space: pre-wrap;\n",
              "}\n",
              "</style>\n",
              "<small>shape: (1_000_000, 1)</small><table border=\"1\" class=\"dataframe\"><thead><tr><th>Amount_spent</th></tr><tr><td>f64</td></tr></thead><tbody><tr><td>1557.5</td></tr><tr><td>153.55</td></tr><tr><td>2640.96</td></tr><tr><td>293.58</td></tr><tr><td>1608.01</td></tr><tr><td>&hellip;</td></tr><tr><td>1762.76</td></tr><tr><td>31.41</td></tr><tr><td>1699.31</td></tr><tr><td>208.26</td></tr><tr><td>2063.92</td></tr></tbody></table></div>"
            ]
          },
          "metadata": {},
          "execution_count": 41
        }
      ]
    },
    {
      "cell_type": "code",
      "source": [
        "# Selecting Multiple Columns\n",
        "df.select([\"Amount_spent\", \"Transaction_ID\", \"Gender\"])"
      ],
      "metadata": {
        "colab": {
          "base_uri": "https://localhost:8080/",
          "height": 443
        },
        "id": "hcf65H7c145N",
        "outputId": "89b7aacd-79a8-41ff-c00a-48107dc42c03"
      },
      "execution_count": 42,
      "outputs": [
        {
          "output_type": "execute_result",
          "data": {
            "text/plain": [
              "shape: (1_000_000, 3)\n",
              "┌──────────────┬────────────────┬────────┐\n",
              "│ Amount_spent ┆ Transaction_ID ┆ Gender │\n",
              "│ ---          ┆ ---            ┆ ---    │\n",
              "│ f64          ┆ i64            ┆ str    │\n",
              "╞══════════════╪════════════════╪════════╡\n",
              "│ 1557.5       ┆ 1000           ┆ Female │\n",
              "│ 153.55       ┆ 1001           ┆ Male   │\n",
              "│ 2640.96      ┆ 1002           ┆ Female │\n",
              "│ 293.58       ┆ 1003           ┆ Male   │\n",
              "│ 1608.01      ┆ 1004           ┆ Female │\n",
              "│ …            ┆ …              ┆ …      │\n",
              "│ 1762.76      ┆ 1000995        ┆ Male   │\n",
              "│ 31.41        ┆ 1000996        ┆ Female │\n",
              "│ 1699.31      ┆ 1000997        ┆ Female │\n",
              "│ 208.26       ┆ 1000998        ┆ Female │\n",
              "│ 2063.92      ┆ 1000999        ┆ Male   │\n",
              "└──────────────┴────────────────┴────────┘"
            ],
            "text/html": [
              "<div><style>\n",
              ".dataframe > thead > tr,\n",
              ".dataframe > tbody > tr {\n",
              "  text-align: right;\n",
              "  white-space: pre-wrap;\n",
              "}\n",
              "</style>\n",
              "<small>shape: (1_000_000, 3)</small><table border=\"1\" class=\"dataframe\"><thead><tr><th>Amount_spent</th><th>Transaction_ID</th><th>Gender</th></tr><tr><td>f64</td><td>i64</td><td>str</td></tr></thead><tbody><tr><td>1557.5</td><td>1000</td><td>&quot;Female&quot;</td></tr><tr><td>153.55</td><td>1001</td><td>&quot;Male&quot;</td></tr><tr><td>2640.96</td><td>1002</td><td>&quot;Female&quot;</td></tr><tr><td>293.58</td><td>1003</td><td>&quot;Male&quot;</td></tr><tr><td>1608.01</td><td>1004</td><td>&quot;Female&quot;</td></tr><tr><td>&hellip;</td><td>&hellip;</td><td>&hellip;</td></tr><tr><td>1762.76</td><td>1000995</td><td>&quot;Male&quot;</td></tr><tr><td>31.41</td><td>1000996</td><td>&quot;Female&quot;</td></tr><tr><td>1699.31</td><td>1000997</td><td>&quot;Female&quot;</td></tr><tr><td>208.26</td><td>1000998</td><td>&quot;Female&quot;</td></tr><tr><td>2063.92</td><td>1000999</td><td>&quot;Male&quot;</td></tr></tbody></table></div>"
            ]
          },
          "metadata": {},
          "execution_count": 42
        }
      ]
    },
    {
      "cell_type": "markdown",
      "source": [
        "#### Filtering Rows Based on Conditions"
      ],
      "metadata": {
        "id": "8DEjVq1Y4NFu"
      }
    },
    {
      "cell_type": "code",
      "source": [
        "# Filtering Rows Based on a Single Condition\n",
        "df.filter(pl.col(\"Amount_spent\") > 50)\n"
      ],
      "metadata": {
        "colab": {
          "base_uri": "https://localhost:8080/",
          "height": 443
        },
        "id": "KDzqUOhS142a",
        "outputId": "097d12b8-c723-4187-f08b-5d7eaf0c7044"
      },
      "execution_count": 43,
      "outputs": [
        {
          "output_type": "execute_result",
          "data": {
            "text/plain": [
              "shape: (889_589, 11)\n",
              "┌─────────┬─────────┬────────┬─────┬─────────┬────────┬────────┬────────┬────────┬────────┬────────┐\n",
              "│ Transac ┆ Transac ┆ Gender ┆ Age ┆ Marital ┆ State_ ┆ Segmen ┆ Employ ┆ Paymen ┆ Refera ┆ Amount │\n",
              "│ tion_ID ┆ tion_da ┆ ---    ┆ --- ┆ _status ┆ names  ┆ t      ┆ ees_st ┆ t_meth ┆ l      ┆ _spent │\n",
              "│ ---     ┆ te      ┆ str    ┆ i64 ┆ ---     ┆ ---    ┆ ---    ┆ atus   ┆ od     ┆ ---    ┆ ---    │\n",
              "│ i64     ┆ ---     ┆        ┆     ┆ str     ┆ str    ┆ str    ┆ ---    ┆ ---    ┆ i64    ┆ f64    │\n",
              "│         ┆ datetim ┆        ┆     ┆         ┆        ┆        ┆ str    ┆ str    ┆        ┆        │\n",
              "│         ┆ e[μs]   ┆        ┆     ┆         ┆        ┆        ┆        ┆        ┆        ┆        │\n",
              "╞═════════╪═════════╪════════╪═════╪═════════╪════════╪════════╪════════╪════════╪════════╪════════╡\n",
              "│ 1000    ┆ 2018-01 ┆ Female ┆ 39  ┆ Single  ┆ Oklaho ┆ Platin ┆ Unempl ┆ Card   ┆ 0      ┆ 1557.5 │\n",
              "│         ┆ -01 00: ┆        ┆     ┆         ┆ ma     ┆ um     ┆ oyment ┆        ┆        ┆        │\n",
              "│         ┆ 04:00   ┆        ┆     ┆         ┆        ┆        ┆        ┆        ┆        ┆        │\n",
              "│ 1001    ┆ 2018-01 ┆ Male   ┆ 34  ┆ Married ┆ Hawaii ┆ Basic  ┆ worker ┆ PayPal ┆ 1      ┆ 153.55 │\n",
              "│         ┆ -01 00: ┆        ┆     ┆         ┆        ┆        ┆ s      ┆        ┆        ┆        │\n",
              "│         ┆ 06:00   ┆        ┆     ┆         ┆        ┆        ┆        ┆        ┆        ┆        │\n",
              "│ 1002    ┆ 2018-01 ┆ Female ┆ 53  ┆ Married ┆ Iowa   ┆ Basic  ┆ self-e ┆ PayPal ┆ 1      ┆ 2640.9 │\n",
              "│         ┆ -01 00: ┆        ┆     ┆         ┆        ┆        ┆ mploye ┆        ┆        ┆ 6      │\n",
              "│         ┆ 14:00   ┆        ┆     ┆         ┆        ┆        ┆ d      ┆        ┆        ┆        │\n",
              "│ 1003    ┆ 2018-01 ┆ Male   ┆ 33  ┆ Married ┆ Wiscon ┆ Basic  ┆ self-e ┆ Card   ┆ 1      ┆ 293.58 │\n",
              "│         ┆ -01 00: ┆        ┆     ┆         ┆ sin    ┆        ┆ mploye ┆        ┆        ┆        │\n",
              "│         ┆ 23:00   ┆        ┆     ┆         ┆        ┆        ┆ d      ┆        ┆        ┆        │\n",
              "│ 1004    ┆ 2018-01 ┆ Female ┆ 36  ┆ Married ┆ Texas  ┆ Platin ┆ Employ ┆ Card   ┆ 0      ┆ 1608.0 │\n",
              "│         ┆ -01 00: ┆        ┆     ┆         ┆        ┆ um     ┆ ees    ┆        ┆        ┆ 1      │\n",
              "│         ┆ 25:00   ┆        ┆     ┆         ┆        ┆        ┆        ┆        ┆        ┆        │\n",
              "│ …       ┆ …       ┆ …      ┆ …   ┆ …       ┆ …      ┆ …      ┆ …      ┆ …      ┆ …      ┆ …      │\n",
              "│ 1000994 ┆ 2025-01 ┆ Female ┆ 51  ┆ Single  ┆ West   ┆ Platin ┆ Unempl ┆ Card   ┆ 0      ┆ 522.04 │\n",
              "│         ┆ -30 23: ┆        ┆     ┆         ┆ Virgin ┆ um     ┆ oyment ┆        ┆        ┆        │\n",
              "│         ┆ 29:00   ┆        ┆     ┆         ┆ ia     ┆        ┆        ┆        ┆        ┆        │\n",
              "│ 1000995 ┆ 2025-01 ┆ Male   ┆ 45  ┆ Single  ┆ Arkans ┆ Gold   ┆ Employ ┆ PayPal ┆ 1      ┆ 1762.7 │\n",
              "│         ┆ -30 23: ┆        ┆     ┆         ┆ as     ┆        ┆ ees    ┆        ┆        ┆ 6      │\n",
              "│         ┆ 43:00   ┆        ┆     ┆         ┆        ┆        ┆        ┆        ┆        ┆        │\n",
              "│ 1000997 ┆ 2025-01 ┆ Female ┆ 61  ┆ Married ┆ Kansas ┆ Basic  ┆ self-e ┆ Other  ┆ 1      ┆ 1699.3 │\n",
              "│         ┆ -30 23: ┆        ┆     ┆         ┆        ┆        ┆ mploye ┆        ┆        ┆ 1      │\n",
              "│         ┆ 47:00   ┆        ┆     ┆         ┆        ┆        ┆ d      ┆        ┆        ┆        │\n",
              "│ 1000998 ┆ 2025-01 ┆ Female ┆ 68  ┆ Married ┆ Utah   ┆ Basic  ┆ Employ ┆ PayPal ┆ 1      ┆ 208.26 │\n",
              "│         ┆ -30 23: ┆        ┆     ┆         ┆        ┆        ┆ ees    ┆        ┆        ┆        │\n",
              "│         ┆ 52:00   ┆        ┆     ┆         ┆        ┆        ┆        ┆        ┆        ┆        │\n",
              "│ 1000999 ┆ 2025-01 ┆ Male   ┆ 55  ┆ Single  ┆ Nevada ┆ Missin ┆ worker ┆ PayPal ┆ 0      ┆ 2063.9 │\n",
              "│         ┆ -30 23: ┆        ┆     ┆         ┆        ┆ g      ┆ s      ┆        ┆        ┆ 2      │\n",
              "│         ┆ 57:00   ┆        ┆     ┆         ┆        ┆        ┆        ┆        ┆        ┆        │\n",
              "└─────────┴─────────┴────────┴─────┴─────────┴────────┴────────┴────────┴────────┴────────┴────────┘"
            ],
            "text/html": [
              "<div><style>\n",
              ".dataframe > thead > tr,\n",
              ".dataframe > tbody > tr {\n",
              "  text-align: right;\n",
              "  white-space: pre-wrap;\n",
              "}\n",
              "</style>\n",
              "<small>shape: (889_589, 11)</small><table border=\"1\" class=\"dataframe\"><thead><tr><th>Transaction_ID</th><th>Transaction_date</th><th>Gender</th><th>Age</th><th>Marital_status</th><th>State_names</th><th>Segment</th><th>Employees_status</th><th>Payment_method</th><th>Referal</th><th>Amount_spent</th></tr><tr><td>i64</td><td>datetime[μs]</td><td>str</td><td>i64</td><td>str</td><td>str</td><td>str</td><td>str</td><td>str</td><td>i64</td><td>f64</td></tr></thead><tbody><tr><td>1000</td><td>2018-01-01 00:04:00</td><td>&quot;Female&quot;</td><td>39</td><td>&quot;Single&quot;</td><td>&quot;Oklahoma&quot;</td><td>&quot;Platinum&quot;</td><td>&quot;Unemployment&quot;</td><td>&quot;Card&quot;</td><td>0</td><td>1557.5</td></tr><tr><td>1001</td><td>2018-01-01 00:06:00</td><td>&quot;Male&quot;</td><td>34</td><td>&quot;Married&quot;</td><td>&quot;Hawaii&quot;</td><td>&quot;Basic&quot;</td><td>&quot;workers&quot;</td><td>&quot;PayPal&quot;</td><td>1</td><td>153.55</td></tr><tr><td>1002</td><td>2018-01-01 00:14:00</td><td>&quot;Female&quot;</td><td>53</td><td>&quot;Married&quot;</td><td>&quot;Iowa&quot;</td><td>&quot;Basic&quot;</td><td>&quot;self-employed&quot;</td><td>&quot;PayPal&quot;</td><td>1</td><td>2640.96</td></tr><tr><td>1003</td><td>2018-01-01 00:23:00</td><td>&quot;Male&quot;</td><td>33</td><td>&quot;Married&quot;</td><td>&quot;Wisconsin&quot;</td><td>&quot;Basic&quot;</td><td>&quot;self-employed&quot;</td><td>&quot;Card&quot;</td><td>1</td><td>293.58</td></tr><tr><td>1004</td><td>2018-01-01 00:25:00</td><td>&quot;Female&quot;</td><td>36</td><td>&quot;Married&quot;</td><td>&quot;Texas&quot;</td><td>&quot;Platinum&quot;</td><td>&quot;Employees&quot;</td><td>&quot;Card&quot;</td><td>0</td><td>1608.01</td></tr><tr><td>&hellip;</td><td>&hellip;</td><td>&hellip;</td><td>&hellip;</td><td>&hellip;</td><td>&hellip;</td><td>&hellip;</td><td>&hellip;</td><td>&hellip;</td><td>&hellip;</td><td>&hellip;</td></tr><tr><td>1000994</td><td>2025-01-30 23:29:00</td><td>&quot;Female&quot;</td><td>51</td><td>&quot;Single&quot;</td><td>&quot;West Virginia&quot;</td><td>&quot;Platinum&quot;</td><td>&quot;Unemployment&quot;</td><td>&quot;Card&quot;</td><td>0</td><td>522.04</td></tr><tr><td>1000995</td><td>2025-01-30 23:43:00</td><td>&quot;Male&quot;</td><td>45</td><td>&quot;Single&quot;</td><td>&quot;Arkansas&quot;</td><td>&quot;Gold&quot;</td><td>&quot;Employees&quot;</td><td>&quot;PayPal&quot;</td><td>1</td><td>1762.76</td></tr><tr><td>1000997</td><td>2025-01-30 23:47:00</td><td>&quot;Female&quot;</td><td>61</td><td>&quot;Married&quot;</td><td>&quot;Kansas&quot;</td><td>&quot;Basic&quot;</td><td>&quot;self-employed&quot;</td><td>&quot;Other&quot;</td><td>1</td><td>1699.31</td></tr><tr><td>1000998</td><td>2025-01-30 23:52:00</td><td>&quot;Female&quot;</td><td>68</td><td>&quot;Married&quot;</td><td>&quot;Utah&quot;</td><td>&quot;Basic&quot;</td><td>&quot;Employees&quot;</td><td>&quot;PayPal&quot;</td><td>1</td><td>208.26</td></tr><tr><td>1000999</td><td>2025-01-30 23:57:00</td><td>&quot;Male&quot;</td><td>55</td><td>&quot;Single&quot;</td><td>&quot;Nevada&quot;</td><td>&quot;Missing&quot;</td><td>&quot;workers&quot;</td><td>&quot;PayPal&quot;</td><td>0</td><td>2063.92</td></tr></tbody></table></div>"
            ]
          },
          "metadata": {},
          "execution_count": 43
        }
      ]
    },
    {
      "cell_type": "code",
      "source": [
        "# Filtering Rows Based on Multiple Conditions\n",
        "df.filter((pl.col(\"Amount_spent\") > 100) & (pl.col(\"Gender\") == \"Female\"))"
      ],
      "metadata": {
        "colab": {
          "base_uri": "https://localhost:8080/",
          "height": 443
        },
        "id": "NEdJlB3I14zy",
        "outputId": "ceb8562f-3ad3-4119-9435-e603d4367b9f"
      },
      "execution_count": 44,
      "outputs": [
        {
          "output_type": "execute_result",
          "data": {
            "text/plain": [
              "shape: (466_044, 11)\n",
              "┌─────────┬─────────┬────────┬─────┬─────────┬────────┬────────┬────────┬────────┬────────┬────────┐\n",
              "│ Transac ┆ Transac ┆ Gender ┆ Age ┆ Marital ┆ State_ ┆ Segmen ┆ Employ ┆ Paymen ┆ Refera ┆ Amount │\n",
              "│ tion_ID ┆ tion_da ┆ ---    ┆ --- ┆ _status ┆ names  ┆ t      ┆ ees_st ┆ t_meth ┆ l      ┆ _spent │\n",
              "│ ---     ┆ te      ┆ str    ┆ i64 ┆ ---     ┆ ---    ┆ ---    ┆ atus   ┆ od     ┆ ---    ┆ ---    │\n",
              "│ i64     ┆ ---     ┆        ┆     ┆ str     ┆ str    ┆ str    ┆ ---    ┆ ---    ┆ i64    ┆ f64    │\n",
              "│         ┆ datetim ┆        ┆     ┆         ┆        ┆        ┆ str    ┆ str    ┆        ┆        │\n",
              "│         ┆ e[μs]   ┆        ┆     ┆         ┆        ┆        ┆        ┆        ┆        ┆        │\n",
              "╞═════════╪═════════╪════════╪═════╪═════════╪════════╪════════╪════════╪════════╪════════╪════════╡\n",
              "│ 1000    ┆ 2018-01 ┆ Female ┆ 39  ┆ Single  ┆ Oklaho ┆ Platin ┆ Unempl ┆ Card   ┆ 0      ┆ 1557.5 │\n",
              "│         ┆ -01 00: ┆        ┆     ┆         ┆ ma     ┆ um     ┆ oyment ┆        ┆        ┆        │\n",
              "│         ┆ 04:00   ┆        ┆     ┆         ┆        ┆        ┆        ┆        ┆        ┆        │\n",
              "│ 1002    ┆ 2018-01 ┆ Female ┆ 53  ┆ Married ┆ Iowa   ┆ Basic  ┆ self-e ┆ PayPal ┆ 1      ┆ 2640.9 │\n",
              "│         ┆ -01 00: ┆        ┆     ┆         ┆        ┆        ┆ mploye ┆        ┆        ┆ 6      │\n",
              "│         ┆ 14:00   ┆        ┆     ┆         ┆        ┆        ┆ d      ┆        ┆        ┆        │\n",
              "│ 1004    ┆ 2018-01 ┆ Female ┆ 36  ┆ Married ┆ Texas  ┆ Platin ┆ Employ ┆ Card   ┆ 0      ┆ 1608.0 │\n",
              "│         ┆ -01 00: ┆        ┆     ┆         ┆        ┆ um     ┆ ees    ┆        ┆        ┆ 1      │\n",
              "│         ┆ 25:00   ┆        ┆     ┆         ┆        ┆        ┆        ┆        ┆        ┆        │\n",
              "│ 1006    ┆ 2018-01 ┆ Female ┆ 55  ┆ Single  ┆ Ohio   ┆ Silver ┆ Unempl ┆ PayPal ┆ 0      ┆ 1553.6 │\n",
              "│         ┆ -01 00: ┆        ┆     ┆         ┆        ┆        ┆ oyment ┆        ┆        ┆ 1      │\n",
              "│         ┆ 29:00   ┆        ┆     ┆         ┆        ┆        ┆        ┆        ┆        ┆        │\n",
              "│ 1007    ┆ 2018-01 ┆ Female ┆ 35  ┆ Married ┆ Hawaii ┆ Basic  ┆ worker ┆ Other  ┆ 1      ┆ 1851.5 │\n",
              "│         ┆ -01 00: ┆        ┆     ┆         ┆        ┆        ┆ s      ┆        ┆        ┆ 8      │\n",
              "│         ┆ 29:00   ┆        ┆     ┆         ┆        ┆        ┆        ┆        ┆        ┆        │\n",
              "│ …       ┆ …       ┆ …      ┆ …   ┆ …       ┆ …      ┆ …      ┆ …      ┆ …      ┆ …      ┆ …      │\n",
              "│ 1000992 ┆ 2025-01 ┆ Female ┆ 25  ┆ Married ┆ Nebras ┆ Basic  ┆ worker ┆ PayPal ┆ 0      ┆ 1735.0 │\n",
              "│         ┆ -30 23: ┆        ┆     ┆         ┆ ka     ┆        ┆ s      ┆        ┆        ┆ 7      │\n",
              "│         ┆ 23:00   ┆        ┆     ┆         ┆        ┆        ┆        ┆        ┆        ┆        │\n",
              "│ 1000993 ┆ 2025-01 ┆ Female ┆ 18  ┆ Married ┆ Alabam ┆ Silver ┆ worker ┆ PayPal ┆ null   ┆ 2091.7 │\n",
              "│         ┆ -30 23: ┆        ┆     ┆         ┆ a      ┆        ┆ s      ┆        ┆        ┆ 3      │\n",
              "│         ┆ 29:00   ┆        ┆     ┆         ┆        ┆        ┆        ┆        ┆        ┆        │\n",
              "│ 1000994 ┆ 2025-01 ┆ Female ┆ 51  ┆ Single  ┆ West   ┆ Platin ┆ Unempl ┆ Card   ┆ 0      ┆ 522.04 │\n",
              "│         ┆ -30 23: ┆        ┆     ┆         ┆ Virgin ┆ um     ┆ oyment ┆        ┆        ┆        │\n",
              "│         ┆ 29:00   ┆        ┆     ┆         ┆ ia     ┆        ┆        ┆        ┆        ┆        │\n",
              "│ 1000997 ┆ 2025-01 ┆ Female ┆ 61  ┆ Married ┆ Kansas ┆ Basic  ┆ self-e ┆ Other  ┆ 1      ┆ 1699.3 │\n",
              "│         ┆ -30 23: ┆        ┆     ┆         ┆        ┆        ┆ mploye ┆        ┆        ┆ 1      │\n",
              "│         ┆ 47:00   ┆        ┆     ┆         ┆        ┆        ┆ d      ┆        ┆        ┆        │\n",
              "│ 1000998 ┆ 2025-01 ┆ Female ┆ 68  ┆ Married ┆ Utah   ┆ Basic  ┆ Employ ┆ PayPal ┆ 1      ┆ 208.26 │\n",
              "│         ┆ -30 23: ┆        ┆     ┆         ┆        ┆        ┆ ees    ┆        ┆        ┆        │\n",
              "│         ┆ 52:00   ┆        ┆     ┆         ┆        ┆        ┆        ┆        ┆        ┆        │\n",
              "└─────────┴─────────┴────────┴─────┴─────────┴────────┴────────┴────────┴────────┴────────┴────────┘"
            ],
            "text/html": [
              "<div><style>\n",
              ".dataframe > thead > tr,\n",
              ".dataframe > tbody > tr {\n",
              "  text-align: right;\n",
              "  white-space: pre-wrap;\n",
              "}\n",
              "</style>\n",
              "<small>shape: (466_044, 11)</small><table border=\"1\" class=\"dataframe\"><thead><tr><th>Transaction_ID</th><th>Transaction_date</th><th>Gender</th><th>Age</th><th>Marital_status</th><th>State_names</th><th>Segment</th><th>Employees_status</th><th>Payment_method</th><th>Referal</th><th>Amount_spent</th></tr><tr><td>i64</td><td>datetime[μs]</td><td>str</td><td>i64</td><td>str</td><td>str</td><td>str</td><td>str</td><td>str</td><td>i64</td><td>f64</td></tr></thead><tbody><tr><td>1000</td><td>2018-01-01 00:04:00</td><td>&quot;Female&quot;</td><td>39</td><td>&quot;Single&quot;</td><td>&quot;Oklahoma&quot;</td><td>&quot;Platinum&quot;</td><td>&quot;Unemployment&quot;</td><td>&quot;Card&quot;</td><td>0</td><td>1557.5</td></tr><tr><td>1002</td><td>2018-01-01 00:14:00</td><td>&quot;Female&quot;</td><td>53</td><td>&quot;Married&quot;</td><td>&quot;Iowa&quot;</td><td>&quot;Basic&quot;</td><td>&quot;self-employed&quot;</td><td>&quot;PayPal&quot;</td><td>1</td><td>2640.96</td></tr><tr><td>1004</td><td>2018-01-01 00:25:00</td><td>&quot;Female&quot;</td><td>36</td><td>&quot;Married&quot;</td><td>&quot;Texas&quot;</td><td>&quot;Platinum&quot;</td><td>&quot;Employees&quot;</td><td>&quot;Card&quot;</td><td>0</td><td>1608.01</td></tr><tr><td>1006</td><td>2018-01-01 00:29:00</td><td>&quot;Female&quot;</td><td>55</td><td>&quot;Single&quot;</td><td>&quot;Ohio&quot;</td><td>&quot;Silver&quot;</td><td>&quot;Unemployment&quot;</td><td>&quot;PayPal&quot;</td><td>0</td><td>1553.61</td></tr><tr><td>1007</td><td>2018-01-01 00:29:00</td><td>&quot;Female&quot;</td><td>35</td><td>&quot;Married&quot;</td><td>&quot;Hawaii&quot;</td><td>&quot;Basic&quot;</td><td>&quot;workers&quot;</td><td>&quot;Other&quot;</td><td>1</td><td>1851.58</td></tr><tr><td>&hellip;</td><td>&hellip;</td><td>&hellip;</td><td>&hellip;</td><td>&hellip;</td><td>&hellip;</td><td>&hellip;</td><td>&hellip;</td><td>&hellip;</td><td>&hellip;</td><td>&hellip;</td></tr><tr><td>1000992</td><td>2025-01-30 23:23:00</td><td>&quot;Female&quot;</td><td>25</td><td>&quot;Married&quot;</td><td>&quot;Nebraska&quot;</td><td>&quot;Basic&quot;</td><td>&quot;workers&quot;</td><td>&quot;PayPal&quot;</td><td>0</td><td>1735.07</td></tr><tr><td>1000993</td><td>2025-01-30 23:29:00</td><td>&quot;Female&quot;</td><td>18</td><td>&quot;Married&quot;</td><td>&quot;Alabama&quot;</td><td>&quot;Silver&quot;</td><td>&quot;workers&quot;</td><td>&quot;PayPal&quot;</td><td>null</td><td>2091.73</td></tr><tr><td>1000994</td><td>2025-01-30 23:29:00</td><td>&quot;Female&quot;</td><td>51</td><td>&quot;Single&quot;</td><td>&quot;West Virginia&quot;</td><td>&quot;Platinum&quot;</td><td>&quot;Unemployment&quot;</td><td>&quot;Card&quot;</td><td>0</td><td>522.04</td></tr><tr><td>1000997</td><td>2025-01-30 23:47:00</td><td>&quot;Female&quot;</td><td>61</td><td>&quot;Married&quot;</td><td>&quot;Kansas&quot;</td><td>&quot;Basic&quot;</td><td>&quot;self-employed&quot;</td><td>&quot;Other&quot;</td><td>1</td><td>1699.31</td></tr><tr><td>1000998</td><td>2025-01-30 23:52:00</td><td>&quot;Female&quot;</td><td>68</td><td>&quot;Married&quot;</td><td>&quot;Utah&quot;</td><td>&quot;Basic&quot;</td><td>&quot;Employees&quot;</td><td>&quot;PayPal&quot;</td><td>1</td><td>208.26</td></tr></tbody></table></div>"
            ]
          },
          "metadata": {},
          "execution_count": 44
        }
      ]
    },
    {
      "cell_type": "code",
      "source": [
        "df.filter((pl.col(\"Marital_status\") == \"Married\") & (pl.col(\"State_names\") == \"California\"))"
      ],
      "metadata": {
        "colab": {
          "base_uri": "https://localhost:8080/",
          "height": 443
        },
        "id": "KylTo7Vq4hn7",
        "outputId": "925a1849-7d3d-4784-d03a-d10b748288e7"
      },
      "execution_count": 45,
      "outputs": [
        {
          "output_type": "execute_result",
          "data": {
            "text/plain": [
              "shape: (13_747, 11)\n",
              "┌─────────┬─────────┬────────┬─────┬─────────┬────────┬────────┬────────┬────────┬────────┬────────┐\n",
              "│ Transac ┆ Transac ┆ Gender ┆ Age ┆ Marital ┆ State_ ┆ Segmen ┆ Employ ┆ Paymen ┆ Refera ┆ Amount │\n",
              "│ tion_ID ┆ tion_da ┆ ---    ┆ --- ┆ _status ┆ names  ┆ t      ┆ ees_st ┆ t_meth ┆ l      ┆ _spent │\n",
              "│ ---     ┆ te      ┆ str    ┆ i64 ┆ ---     ┆ ---    ┆ ---    ┆ atus   ┆ od     ┆ ---    ┆ ---    │\n",
              "│ i64     ┆ ---     ┆        ┆     ┆ str     ┆ str    ┆ str    ┆ ---    ┆ ---    ┆ i64    ┆ f64    │\n",
              "│         ┆ datetim ┆        ┆     ┆         ┆        ┆        ┆ str    ┆ str    ┆        ┆        │\n",
              "│         ┆ e[μs]   ┆        ┆     ┆         ┆        ┆        ┆        ┆        ┆        ┆        │\n",
              "╞═════════╪═════════╪════════╪═════╪═════════╪════════╪════════╪════════╪════════╪════════╪════════╡\n",
              "│ 1085    ┆ 2018-01 ┆ Male   ┆ 33  ┆ Married ┆ Califo ┆ Basic  ┆ Employ ┆ Other  ┆ 0      ┆ 2621.9 │\n",
              "│         ┆ -01 04: ┆        ┆     ┆         ┆ rnia   ┆        ┆ ees    ┆        ┆        ┆ 1      │\n",
              "│         ┆ 59:00   ┆        ┆     ┆         ┆        ┆        ┆        ┆        ┆        ┆        │\n",
              "│ 1107    ┆ 2018-01 ┆ Male   ┆ 65  ┆ Married ┆ Califo ┆ Basic  ┆ Unempl ┆ PayPal ┆ 1      ┆ 884.14 │\n",
              "│         ┆ -01 06: ┆        ┆     ┆         ┆ rnia   ┆        ┆ oyment ┆        ┆        ┆        │\n",
              "│         ┆ 11:00   ┆        ┆     ┆         ┆        ┆        ┆        ┆        ┆        ┆        │\n",
              "│ 1140    ┆ 2018-01 ┆ Female ┆ 60  ┆ Married ┆ Califo ┆ Basic  ┆ Unempl ┆ Other  ┆ 0      ┆ 2785.7 │\n",
              "│         ┆ -01 08: ┆        ┆     ┆         ┆ rnia   ┆        ┆ oyment ┆        ┆        ┆ 8      │\n",
              "│         ┆ 41:00   ┆        ┆     ┆         ┆        ┆        ┆        ┆        ┆        ┆        │\n",
              "│ 1335    ┆ 2018-01 ┆ Male   ┆ 61  ┆ Married ┆ Califo ┆ Basic  ┆ self-e ┆ PayPal ┆ 1      ┆ 670.59 │\n",
              "│         ┆ -01 21: ┆        ┆     ┆         ┆ rnia   ┆        ┆ mploye ┆        ┆        ┆        │\n",
              "│         ┆ 20:00   ┆        ┆     ┆         ┆        ┆        ┆ d      ┆        ┆        ┆        │\n",
              "│ 1395    ┆ 2018-01 ┆ Female ┆ 28  ┆ Married ┆ Califo ┆ Gold   ┆ worker ┆ Card   ┆ 1      ┆ 1887.3 │\n",
              "│         ┆ -02 01: ┆        ┆     ┆         ┆ rnia   ┆        ┆ s      ┆        ┆        ┆        │\n",
              "│         ┆ 42:00   ┆        ┆     ┆         ┆        ┆        ┆        ┆        ┆        ┆        │\n",
              "│ …       ┆ …       ┆ …      ┆ …   ┆ …       ┆ …      ┆ …      ┆ …      ┆ …      ┆ …      ┆ …      │\n",
              "│ 1000583 ┆ 2025-01 ┆ Female ┆ 22  ┆ Married ┆ Califo ┆ Basic  ┆ worker ┆ PayPal ┆ 1      ┆ 1510.2 │\n",
              "│         ┆ -30 00: ┆        ┆     ┆         ┆ rnia   ┆        ┆ s      ┆        ┆        ┆ 8      │\n",
              "│         ┆ 04:00   ┆        ┆     ┆         ┆        ┆        ┆        ┆        ┆        ┆        │\n",
              "│ 1000586 ┆ 2025-01 ┆ Male   ┆ 49  ┆ Married ┆ Califo ┆ Basic  ┆ worker ┆ PayPal ┆ 1      ┆ 337.17 │\n",
              "│         ┆ -30 00: ┆        ┆     ┆         ┆ rnia   ┆        ┆ s      ┆        ┆        ┆        │\n",
              "│         ┆ 12:00   ┆        ┆     ┆         ┆        ┆        ┆        ┆        ┆        ┆        │\n",
              "│ 1000632 ┆ 2025-01 ┆ Female ┆ 28  ┆ Married ┆ Califo ┆ Basic  ┆ Employ ┆ PayPal ┆ 1      ┆ 1287.3 │\n",
              "│         ┆ -30 02: ┆        ┆     ┆         ┆ rnia   ┆        ┆ ees    ┆        ┆        ┆ 1      │\n",
              "│         ┆ 26:00   ┆        ┆     ┆         ┆        ┆        ┆        ┆        ┆        ┆        │\n",
              "│ 1000778 ┆ 2025-01 ┆ Male   ┆ 78  ┆ Married ┆ Califo ┆ Missin ┆ Employ ┆ Other  ┆ 1      ┆ 150.76 │\n",
              "│         ┆ -30 10: ┆        ┆     ┆         ┆ rnia   ┆ g      ┆ ees    ┆        ┆        ┆        │\n",
              "│         ┆ 31:00   ┆        ┆     ┆         ┆        ┆        ┆        ┆        ┆        ┆        │\n",
              "│ 1000972 ┆ 2025-01 ┆ Female ┆ 59  ┆ Married ┆ Califo ┆ Missin ┆ worker ┆ Card   ┆ 0      ┆ 880.28 │\n",
              "│         ┆ -30 21: ┆        ┆     ┆         ┆ rnia   ┆ g      ┆ s      ┆        ┆        ┆        │\n",
              "│         ┆ 55:00   ┆        ┆     ┆         ┆        ┆        ┆        ┆        ┆        ┆        │\n",
              "└─────────┴─────────┴────────┴─────┴─────────┴────────┴────────┴────────┴────────┴────────┴────────┘"
            ],
            "text/html": [
              "<div><style>\n",
              ".dataframe > thead > tr,\n",
              ".dataframe > tbody > tr {\n",
              "  text-align: right;\n",
              "  white-space: pre-wrap;\n",
              "}\n",
              "</style>\n",
              "<small>shape: (13_747, 11)</small><table border=\"1\" class=\"dataframe\"><thead><tr><th>Transaction_ID</th><th>Transaction_date</th><th>Gender</th><th>Age</th><th>Marital_status</th><th>State_names</th><th>Segment</th><th>Employees_status</th><th>Payment_method</th><th>Referal</th><th>Amount_spent</th></tr><tr><td>i64</td><td>datetime[μs]</td><td>str</td><td>i64</td><td>str</td><td>str</td><td>str</td><td>str</td><td>str</td><td>i64</td><td>f64</td></tr></thead><tbody><tr><td>1085</td><td>2018-01-01 04:59:00</td><td>&quot;Male&quot;</td><td>33</td><td>&quot;Married&quot;</td><td>&quot;California&quot;</td><td>&quot;Basic&quot;</td><td>&quot;Employees&quot;</td><td>&quot;Other&quot;</td><td>0</td><td>2621.91</td></tr><tr><td>1107</td><td>2018-01-01 06:11:00</td><td>&quot;Male&quot;</td><td>65</td><td>&quot;Married&quot;</td><td>&quot;California&quot;</td><td>&quot;Basic&quot;</td><td>&quot;Unemployment&quot;</td><td>&quot;PayPal&quot;</td><td>1</td><td>884.14</td></tr><tr><td>1140</td><td>2018-01-01 08:41:00</td><td>&quot;Female&quot;</td><td>60</td><td>&quot;Married&quot;</td><td>&quot;California&quot;</td><td>&quot;Basic&quot;</td><td>&quot;Unemployment&quot;</td><td>&quot;Other&quot;</td><td>0</td><td>2785.78</td></tr><tr><td>1335</td><td>2018-01-01 21:20:00</td><td>&quot;Male&quot;</td><td>61</td><td>&quot;Married&quot;</td><td>&quot;California&quot;</td><td>&quot;Basic&quot;</td><td>&quot;self-employed&quot;</td><td>&quot;PayPal&quot;</td><td>1</td><td>670.59</td></tr><tr><td>1395</td><td>2018-01-02 01:42:00</td><td>&quot;Female&quot;</td><td>28</td><td>&quot;Married&quot;</td><td>&quot;California&quot;</td><td>&quot;Gold&quot;</td><td>&quot;workers&quot;</td><td>&quot;Card&quot;</td><td>1</td><td>1887.3</td></tr><tr><td>&hellip;</td><td>&hellip;</td><td>&hellip;</td><td>&hellip;</td><td>&hellip;</td><td>&hellip;</td><td>&hellip;</td><td>&hellip;</td><td>&hellip;</td><td>&hellip;</td><td>&hellip;</td></tr><tr><td>1000583</td><td>2025-01-30 00:04:00</td><td>&quot;Female&quot;</td><td>22</td><td>&quot;Married&quot;</td><td>&quot;California&quot;</td><td>&quot;Basic&quot;</td><td>&quot;workers&quot;</td><td>&quot;PayPal&quot;</td><td>1</td><td>1510.28</td></tr><tr><td>1000586</td><td>2025-01-30 00:12:00</td><td>&quot;Male&quot;</td><td>49</td><td>&quot;Married&quot;</td><td>&quot;California&quot;</td><td>&quot;Basic&quot;</td><td>&quot;workers&quot;</td><td>&quot;PayPal&quot;</td><td>1</td><td>337.17</td></tr><tr><td>1000632</td><td>2025-01-30 02:26:00</td><td>&quot;Female&quot;</td><td>28</td><td>&quot;Married&quot;</td><td>&quot;California&quot;</td><td>&quot;Basic&quot;</td><td>&quot;Employees&quot;</td><td>&quot;PayPal&quot;</td><td>1</td><td>1287.31</td></tr><tr><td>1000778</td><td>2025-01-30 10:31:00</td><td>&quot;Male&quot;</td><td>78</td><td>&quot;Married&quot;</td><td>&quot;California&quot;</td><td>&quot;Missing&quot;</td><td>&quot;Employees&quot;</td><td>&quot;Other&quot;</td><td>1</td><td>150.76</td></tr><tr><td>1000972</td><td>2025-01-30 21:55:00</td><td>&quot;Female&quot;</td><td>59</td><td>&quot;Married&quot;</td><td>&quot;California&quot;</td><td>&quot;Missing&quot;</td><td>&quot;workers&quot;</td><td>&quot;Card&quot;</td><td>0</td><td>880.28</td></tr></tbody></table></div>"
            ]
          },
          "metadata": {},
          "execution_count": 45
        }
      ]
    },
    {
      "cell_type": "markdown",
      "source": [
        "### Extracting a Specific Range of Rows (Slicing)"
      ],
      "metadata": {
        "id": "MlE1-gE04pCt"
      }
    },
    {
      "cell_type": "markdown",
      "source": [
        "**Extract a Range of Rows by Index**"
      ],
      "metadata": {
        "id": "NmF12BZb9wYX"
      }
    },
    {
      "cell_type": "code",
      "source": [
        "df.slice(10, 10)  # Start at index 10, retrieve 10 rows (rows 10 to 19)\n"
      ],
      "metadata": {
        "colab": {
          "base_uri": "https://localhost:8080/",
          "height": 412
        },
        "id": "-USREEYH4oz9",
        "outputId": "16a82604-1e34-4ff6-9f59-8997966ff3d2"
      },
      "execution_count": 38,
      "outputs": [
        {
          "output_type": "execute_result",
          "data": {
            "text/plain": [
              "shape: (10, 11)\n",
              "┌─────────┬─────────┬────────┬─────┬─────────┬────────┬────────┬────────┬────────┬────────┬────────┐\n",
              "│ Transac ┆ Transac ┆ Gender ┆ Age ┆ Marital ┆ State_ ┆ Segmen ┆ Employ ┆ Paymen ┆ Refera ┆ Amount │\n",
              "│ tion_ID ┆ tion_da ┆ ---    ┆ --- ┆ _status ┆ names  ┆ t      ┆ ees_st ┆ t_meth ┆ l      ┆ _spent │\n",
              "│ ---     ┆ te      ┆ str    ┆ i64 ┆ ---     ┆ ---    ┆ ---    ┆ atus   ┆ od     ┆ ---    ┆ ---    │\n",
              "│ i64     ┆ ---     ┆        ┆     ┆ str     ┆ str    ┆ str    ┆ ---    ┆ ---    ┆ i64    ┆ f64    │\n",
              "│         ┆ datetim ┆        ┆     ┆         ┆        ┆        ┆ str    ┆ str    ┆        ┆        │\n",
              "│         ┆ e[μs]   ┆        ┆     ┆         ┆        ┆        ┆        ┆        ┆        ┆        │\n",
              "╞═════════╪═════════╪════════╪═════╪═════════╪════════╪════════╪════════╪════════╪════════╪════════╡\n",
              "│ 1010    ┆ 2018-01 ┆ Female ┆ 40  ┆ Single  ┆ Illino ┆ Basic  ┆ Unempl ┆ PayPal ┆ 1      ┆ 1160.6 │\n",
              "│         ┆ -01 00: ┆        ┆     ┆         ┆ is     ┆        ┆ oyment ┆        ┆        ┆ 5      │\n",
              "│         ┆ 34:00   ┆        ┆     ┆         ┆        ┆        ┆        ┆        ┆        ┆        │\n",
              "│ 1011    ┆ 2018-01 ┆ Male   ┆ 73  ┆ Married ┆ West   ┆ Basic  ┆ Employ ┆ PayPal ┆ 0      ┆ 1397.0 │\n",
              "│         ┆ -01 00: ┆        ┆     ┆         ┆ Virgin ┆        ┆ ees    ┆        ┆        ┆ 9      │\n",
              "│         ┆ 36:00   ┆        ┆     ┆         ┆ ia     ┆        ┆        ┆        ┆        ┆        │\n",
              "│ 1012    ┆ 2018-01 ┆ Female ┆ 44  ┆ Single  ┆ Florid ┆ Basic  ┆ worker ┆ PayPal ┆ 0      ┆ 1778.3 │\n",
              "│         ┆ -01 00: ┆        ┆     ┆         ┆ a      ┆        ┆ s      ┆        ┆        ┆ 3      │\n",
              "│         ┆ 41:00   ┆        ┆     ┆         ┆        ┆        ┆        ┆        ┆        ┆        │\n",
              "│ 1013    ┆ 2018-01 ┆ Male   ┆ 77  ┆ Married ┆ Oregon ┆ Missin ┆ worker ┆ Card   ┆ 0      ┆ 1449.9 │\n",
              "│         ┆ -01 00: ┆        ┆     ┆         ┆        ┆ g      ┆ s      ┆        ┆        ┆ 8      │\n",
              "│         ┆ 43:00   ┆        ┆     ┆         ┆        ┆        ┆        ┆        ┆        ┆        │\n",
              "│ 1014    ┆ 2018-01 ┆ Male   ┆ 54  ┆ Single  ┆ North  ┆ Platin ┆ Employ ┆ Card   ┆ 1      ┆ 2936.9 │\n",
              "│         ┆ -01 00: ┆        ┆     ┆         ┆ Caroli ┆ um     ┆ ees    ┆        ┆        ┆ 6      │\n",
              "│         ┆ 43:00   ┆        ┆     ┆         ┆ na     ┆        ┆        ┆        ┆        ┆        │\n",
              "│ 1015    ┆ 2018-01 ┆ Female ┆ 37  ┆ Married ┆ Arizon ┆ Basic  ┆ Employ ┆ Other  ┆ 1      ┆ null   │\n",
              "│         ┆ -01 00: ┆        ┆     ┆         ┆ a      ┆        ┆ ees    ┆        ┆        ┆        │\n",
              "│         ┆ 44:00   ┆        ┆     ┆         ┆        ┆        ┆        ┆        ┆        ┆        │\n",
              "│ 1016    ┆ 2018-01 ┆ Female ┆ 75  ┆ Single  ┆ Tennes ┆ Platin ┆ Employ ┆ Card   ┆ 0      ┆ 2870.6 │\n",
              "│         ┆ -01 00: ┆        ┆     ┆         ┆ see    ┆ um     ┆ ees    ┆        ┆        ┆ 9      │\n",
              "│         ┆ 52:00   ┆        ┆     ┆         ┆        ┆        ┆        ┆        ┆        ┆        │\n",
              "│ 1017    ┆ 2018-01 ┆ Female ┆ 77  ┆ Single  ┆ Washin ┆ Platin ┆ Employ ┆ PayPal ┆ 0      ┆ 439.56 │\n",
              "│         ┆ -01 00: ┆        ┆     ┆         ┆ gton   ┆ um     ┆ ees    ┆        ┆        ┆        │\n",
              "│         ┆ 53:00   ┆        ┆     ┆         ┆        ┆        ┆        ┆        ┆        ┆        │\n",
              "│ 1018    ┆ 2018-01 ┆ Male   ┆ 55  ┆ Married ┆ South  ┆ Basic  ┆ Employ ┆ PayPal ┆ 1      ┆ 1274.6 │\n",
              "│         ┆ -01 00: ┆        ┆     ┆         ┆ Caroli ┆        ┆ ees    ┆        ┆        ┆ 2      │\n",
              "│         ┆ 57:00   ┆        ┆     ┆         ┆ na     ┆        ┆        ┆        ┆        ┆        │\n",
              "│ 1019    ┆ 2018-01 ┆ Female ┆ 37  ┆ Married ┆ Missou ┆ Platin ┆ worker ┆ Card   ┆ null   ┆ 1319.6 │\n",
              "│         ┆ -01 01: ┆        ┆     ┆         ┆ ri     ┆ um     ┆ s      ┆        ┆        ┆ 8      │\n",
              "│         ┆ 02:00   ┆        ┆     ┆         ┆        ┆        ┆        ┆        ┆        ┆        │\n",
              "└─────────┴─────────┴────────┴─────┴─────────┴────────┴────────┴────────┴────────┴────────┴────────┘"
            ],
            "text/html": [
              "<div><style>\n",
              ".dataframe > thead > tr,\n",
              ".dataframe > tbody > tr {\n",
              "  text-align: right;\n",
              "  white-space: pre-wrap;\n",
              "}\n",
              "</style>\n",
              "<small>shape: (10, 11)</small><table border=\"1\" class=\"dataframe\"><thead><tr><th>Transaction_ID</th><th>Transaction_date</th><th>Gender</th><th>Age</th><th>Marital_status</th><th>State_names</th><th>Segment</th><th>Employees_status</th><th>Payment_method</th><th>Referal</th><th>Amount_spent</th></tr><tr><td>i64</td><td>datetime[μs]</td><td>str</td><td>i64</td><td>str</td><td>str</td><td>str</td><td>str</td><td>str</td><td>i64</td><td>f64</td></tr></thead><tbody><tr><td>1010</td><td>2018-01-01 00:34:00</td><td>&quot;Female&quot;</td><td>40</td><td>&quot;Single&quot;</td><td>&quot;Illinois&quot;</td><td>&quot;Basic&quot;</td><td>&quot;Unemployment&quot;</td><td>&quot;PayPal&quot;</td><td>1</td><td>1160.65</td></tr><tr><td>1011</td><td>2018-01-01 00:36:00</td><td>&quot;Male&quot;</td><td>73</td><td>&quot;Married&quot;</td><td>&quot;West Virginia&quot;</td><td>&quot;Basic&quot;</td><td>&quot;Employees&quot;</td><td>&quot;PayPal&quot;</td><td>0</td><td>1397.09</td></tr><tr><td>1012</td><td>2018-01-01 00:41:00</td><td>&quot;Female&quot;</td><td>44</td><td>&quot;Single&quot;</td><td>&quot;Florida&quot;</td><td>&quot;Basic&quot;</td><td>&quot;workers&quot;</td><td>&quot;PayPal&quot;</td><td>0</td><td>1778.33</td></tr><tr><td>1013</td><td>2018-01-01 00:43:00</td><td>&quot;Male&quot;</td><td>77</td><td>&quot;Married&quot;</td><td>&quot;Oregon&quot;</td><td>&quot;Missing&quot;</td><td>&quot;workers&quot;</td><td>&quot;Card&quot;</td><td>0</td><td>1449.98</td></tr><tr><td>1014</td><td>2018-01-01 00:43:00</td><td>&quot;Male&quot;</td><td>54</td><td>&quot;Single&quot;</td><td>&quot;North Carolina&quot;</td><td>&quot;Platinum&quot;</td><td>&quot;Employees&quot;</td><td>&quot;Card&quot;</td><td>1</td><td>2936.96</td></tr><tr><td>1015</td><td>2018-01-01 00:44:00</td><td>&quot;Female&quot;</td><td>37</td><td>&quot;Married&quot;</td><td>&quot;Arizona&quot;</td><td>&quot;Basic&quot;</td><td>&quot;Employees&quot;</td><td>&quot;Other&quot;</td><td>1</td><td>null</td></tr><tr><td>1016</td><td>2018-01-01 00:52:00</td><td>&quot;Female&quot;</td><td>75</td><td>&quot;Single&quot;</td><td>&quot;Tennessee&quot;</td><td>&quot;Platinum&quot;</td><td>&quot;Employees&quot;</td><td>&quot;Card&quot;</td><td>0</td><td>2870.69</td></tr><tr><td>1017</td><td>2018-01-01 00:53:00</td><td>&quot;Female&quot;</td><td>77</td><td>&quot;Single&quot;</td><td>&quot;Washington&quot;</td><td>&quot;Platinum&quot;</td><td>&quot;Employees&quot;</td><td>&quot;PayPal&quot;</td><td>0</td><td>439.56</td></tr><tr><td>1018</td><td>2018-01-01 00:57:00</td><td>&quot;Male&quot;</td><td>55</td><td>&quot;Married&quot;</td><td>&quot;South Carolina&quot;</td><td>&quot;Basic&quot;</td><td>&quot;Employees&quot;</td><td>&quot;PayPal&quot;</td><td>1</td><td>1274.62</td></tr><tr><td>1019</td><td>2018-01-01 01:02:00</td><td>&quot;Female&quot;</td><td>37</td><td>&quot;Married&quot;</td><td>&quot;Missouri&quot;</td><td>&quot;Platinum&quot;</td><td>&quot;workers&quot;</td><td>&quot;Card&quot;</td><td>null</td><td>1319.68</td></tr></tbody></table></div>"
            ]
          },
          "metadata": {},
          "execution_count": 38
        }
      ]
    },
    {
      "cell_type": "code",
      "source": [
        "df.slice(0, 100)  # Retrieve the first 100 rows"
      ],
      "metadata": {
        "colab": {
          "base_uri": "https://localhost:8080/",
          "height": 443
        },
        "id": "qyhSeN2K4owe",
        "outputId": "663c09ba-3833-4acc-d1d8-a94573ec8084"
      },
      "execution_count": 39,
      "outputs": [
        {
          "output_type": "execute_result",
          "data": {
            "text/plain": [
              "shape: (100, 11)\n",
              "┌─────────┬─────────┬────────┬─────┬─────────┬────────┬────────┬────────┬────────┬────────┬────────┐\n",
              "│ Transac ┆ Transac ┆ Gender ┆ Age ┆ Marital ┆ State_ ┆ Segmen ┆ Employ ┆ Paymen ┆ Refera ┆ Amount │\n",
              "│ tion_ID ┆ tion_da ┆ ---    ┆ --- ┆ _status ┆ names  ┆ t      ┆ ees_st ┆ t_meth ┆ l      ┆ _spent │\n",
              "│ ---     ┆ te      ┆ str    ┆ i64 ┆ ---     ┆ ---    ┆ ---    ┆ atus   ┆ od     ┆ ---    ┆ ---    │\n",
              "│ i64     ┆ ---     ┆        ┆     ┆ str     ┆ str    ┆ str    ┆ ---    ┆ ---    ┆ i64    ┆ f64    │\n",
              "│         ┆ datetim ┆        ┆     ┆         ┆        ┆        ┆ str    ┆ str    ┆        ┆        │\n",
              "│         ┆ e[μs]   ┆        ┆     ┆         ┆        ┆        ┆        ┆        ┆        ┆        │\n",
              "╞═════════╪═════════╪════════╪═════╪═════════╪════════╪════════╪════════╪════════╪════════╪════════╡\n",
              "│ 1000    ┆ 2018-01 ┆ Female ┆ 39  ┆ Single  ┆ Oklaho ┆ Platin ┆ Unempl ┆ Card   ┆ 0      ┆ 1557.5 │\n",
              "│         ┆ -01 00: ┆        ┆     ┆         ┆ ma     ┆ um     ┆ oyment ┆        ┆        ┆        │\n",
              "│         ┆ 04:00   ┆        ┆     ┆         ┆        ┆        ┆        ┆        ┆        ┆        │\n",
              "│ 1001    ┆ 2018-01 ┆ Male   ┆ 34  ┆ Married ┆ Hawaii ┆ Basic  ┆ worker ┆ PayPal ┆ 1      ┆ 153.55 │\n",
              "│         ┆ -01 00: ┆        ┆     ┆         ┆        ┆        ┆ s      ┆        ┆        ┆        │\n",
              "│         ┆ 06:00   ┆        ┆     ┆         ┆        ┆        ┆        ┆        ┆        ┆        │\n",
              "│ 1002    ┆ 2018-01 ┆ Female ┆ 53  ┆ Married ┆ Iowa   ┆ Basic  ┆ self-e ┆ PayPal ┆ 1      ┆ 2640.9 │\n",
              "│         ┆ -01 00: ┆        ┆     ┆         ┆        ┆        ┆ mploye ┆        ┆        ┆ 6      │\n",
              "│         ┆ 14:00   ┆        ┆     ┆         ┆        ┆        ┆ d      ┆        ┆        ┆        │\n",
              "│ 1003    ┆ 2018-01 ┆ Male   ┆ 33  ┆ Married ┆ Wiscon ┆ Basic  ┆ self-e ┆ Card   ┆ 1      ┆ 293.58 │\n",
              "│         ┆ -01 00: ┆        ┆     ┆         ┆ sin    ┆        ┆ mploye ┆        ┆        ┆        │\n",
              "│         ┆ 23:00   ┆        ┆     ┆         ┆        ┆        ┆ d      ┆        ┆        ┆        │\n",
              "│ 1004    ┆ 2018-01 ┆ Female ┆ 36  ┆ Married ┆ Texas  ┆ Platin ┆ Employ ┆ Card   ┆ 0      ┆ 1608.0 │\n",
              "│         ┆ -01 00: ┆        ┆     ┆         ┆        ┆ um     ┆ ees    ┆        ┆        ┆ 1      │\n",
              "│         ┆ 25:00   ┆        ┆     ┆         ┆        ┆        ┆        ┆        ┆        ┆        │\n",
              "│ …       ┆ …       ┆ …      ┆ …   ┆ …       ┆ …      ┆ …      ┆ …      ┆ …      ┆ …      ┆ …      │\n",
              "│ 1095    ┆ 2018-01 ┆ Male   ┆ 24  ┆ Single  ┆ Washin ┆ Platin ┆ worker ┆ PayPal ┆ 0      ┆ 2042.6 │\n",
              "│         ┆ -01 05: ┆        ┆     ┆         ┆ gton   ┆ um     ┆ s      ┆        ┆        ┆ 4      │\n",
              "│         ┆ 44:00   ┆        ┆     ┆         ┆        ┆        ┆        ┆        ┆        ┆        │\n",
              "│ 1096    ┆ 2018-01 ┆ Male   ┆ 44  ┆ Married ┆ Indian ┆ Basic  ┆ self-e ┆ PayPal ┆ 1      ┆ null   │\n",
              "│         ┆ -01 05: ┆        ┆     ┆         ┆ a      ┆        ┆ mploye ┆        ┆        ┆        │\n",
              "│         ┆ 45:00   ┆        ┆     ┆         ┆        ┆        ┆ d      ┆        ┆        ┆        │\n",
              "│ 1097    ┆ 2018-01 ┆ Female ┆ 20  ┆ Married ┆ Nebras ┆ Missin ┆ Employ ┆ PayPal ┆ 1      ┆ 1324.1 │\n",
              "│         ┆ -01 05: ┆        ┆     ┆         ┆ ka     ┆ g      ┆ ees    ┆        ┆        ┆ 2      │\n",
              "│         ┆ 47:00   ┆        ┆     ┆         ┆        ┆        ┆        ┆        ┆        ┆        │\n",
              "│ 1098    ┆ 2018-01 ┆ Female ┆ 28  ┆ Single  ┆ North  ┆ Silver ┆ Employ ┆ Card   ┆ 1      ┆ 1733.6 │\n",
              "│         ┆ -01 05: ┆        ┆     ┆         ┆ Dakota ┆        ┆ ees    ┆        ┆        ┆ 5      │\n",
              "│         ┆ 52:00   ┆        ┆     ┆         ┆        ┆        ┆        ┆        ┆        ┆        │\n",
              "│ 1099    ┆ 2018-01 ┆ Female ┆ 25  ┆ Married ┆ Wyomin ┆ Silver ┆ worker ┆ Other  ┆ 1      ┆ 309.82 │\n",
              "│         ┆ -01 05: ┆        ┆     ┆         ┆ g      ┆        ┆ s      ┆        ┆        ┆        │\n",
              "│         ┆ 53:00   ┆        ┆     ┆         ┆        ┆        ┆        ┆        ┆        ┆        │\n",
              "└─────────┴─────────┴────────┴─────┴─────────┴────────┴────────┴────────┴────────┴────────┴────────┘"
            ],
            "text/html": [
              "<div><style>\n",
              ".dataframe > thead > tr,\n",
              ".dataframe > tbody > tr {\n",
              "  text-align: right;\n",
              "  white-space: pre-wrap;\n",
              "}\n",
              "</style>\n",
              "<small>shape: (100, 11)</small><table border=\"1\" class=\"dataframe\"><thead><tr><th>Transaction_ID</th><th>Transaction_date</th><th>Gender</th><th>Age</th><th>Marital_status</th><th>State_names</th><th>Segment</th><th>Employees_status</th><th>Payment_method</th><th>Referal</th><th>Amount_spent</th></tr><tr><td>i64</td><td>datetime[μs]</td><td>str</td><td>i64</td><td>str</td><td>str</td><td>str</td><td>str</td><td>str</td><td>i64</td><td>f64</td></tr></thead><tbody><tr><td>1000</td><td>2018-01-01 00:04:00</td><td>&quot;Female&quot;</td><td>39</td><td>&quot;Single&quot;</td><td>&quot;Oklahoma&quot;</td><td>&quot;Platinum&quot;</td><td>&quot;Unemployment&quot;</td><td>&quot;Card&quot;</td><td>0</td><td>1557.5</td></tr><tr><td>1001</td><td>2018-01-01 00:06:00</td><td>&quot;Male&quot;</td><td>34</td><td>&quot;Married&quot;</td><td>&quot;Hawaii&quot;</td><td>&quot;Basic&quot;</td><td>&quot;workers&quot;</td><td>&quot;PayPal&quot;</td><td>1</td><td>153.55</td></tr><tr><td>1002</td><td>2018-01-01 00:14:00</td><td>&quot;Female&quot;</td><td>53</td><td>&quot;Married&quot;</td><td>&quot;Iowa&quot;</td><td>&quot;Basic&quot;</td><td>&quot;self-employed&quot;</td><td>&quot;PayPal&quot;</td><td>1</td><td>2640.96</td></tr><tr><td>1003</td><td>2018-01-01 00:23:00</td><td>&quot;Male&quot;</td><td>33</td><td>&quot;Married&quot;</td><td>&quot;Wisconsin&quot;</td><td>&quot;Basic&quot;</td><td>&quot;self-employed&quot;</td><td>&quot;Card&quot;</td><td>1</td><td>293.58</td></tr><tr><td>1004</td><td>2018-01-01 00:25:00</td><td>&quot;Female&quot;</td><td>36</td><td>&quot;Married&quot;</td><td>&quot;Texas&quot;</td><td>&quot;Platinum&quot;</td><td>&quot;Employees&quot;</td><td>&quot;Card&quot;</td><td>0</td><td>1608.01</td></tr><tr><td>&hellip;</td><td>&hellip;</td><td>&hellip;</td><td>&hellip;</td><td>&hellip;</td><td>&hellip;</td><td>&hellip;</td><td>&hellip;</td><td>&hellip;</td><td>&hellip;</td><td>&hellip;</td></tr><tr><td>1095</td><td>2018-01-01 05:44:00</td><td>&quot;Male&quot;</td><td>24</td><td>&quot;Single&quot;</td><td>&quot;Washington&quot;</td><td>&quot;Platinum&quot;</td><td>&quot;workers&quot;</td><td>&quot;PayPal&quot;</td><td>0</td><td>2042.64</td></tr><tr><td>1096</td><td>2018-01-01 05:45:00</td><td>&quot;Male&quot;</td><td>44</td><td>&quot;Married&quot;</td><td>&quot;Indiana&quot;</td><td>&quot;Basic&quot;</td><td>&quot;self-employed&quot;</td><td>&quot;PayPal&quot;</td><td>1</td><td>null</td></tr><tr><td>1097</td><td>2018-01-01 05:47:00</td><td>&quot;Female&quot;</td><td>20</td><td>&quot;Married&quot;</td><td>&quot;Nebraska&quot;</td><td>&quot;Missing&quot;</td><td>&quot;Employees&quot;</td><td>&quot;PayPal&quot;</td><td>1</td><td>1324.12</td></tr><tr><td>1098</td><td>2018-01-01 05:52:00</td><td>&quot;Female&quot;</td><td>28</td><td>&quot;Single&quot;</td><td>&quot;North Dakota&quot;</td><td>&quot;Silver&quot;</td><td>&quot;Employees&quot;</td><td>&quot;Card&quot;</td><td>1</td><td>1733.65</td></tr><tr><td>1099</td><td>2018-01-01 05:53:00</td><td>&quot;Female&quot;</td><td>25</td><td>&quot;Married&quot;</td><td>&quot;Wyoming&quot;</td><td>&quot;Silver&quot;</td><td>&quot;workers&quot;</td><td>&quot;Other&quot;</td><td>1</td><td>309.82</td></tr></tbody></table></div>"
            ]
          },
          "metadata": {},
          "execution_count": 39
        }
      ]
    },
    {
      "cell_type": "code",
      "source": [
        "df.tail(50)  # Get the last 50 rows"
      ],
      "metadata": {
        "colab": {
          "base_uri": "https://localhost:8080/",
          "height": 443
        },
        "id": "C6X8lvKa4ot4",
        "outputId": "f81be1d2-c4fe-4a3d-eb80-0c6fd003b588"
      },
      "execution_count": 40,
      "outputs": [
        {
          "output_type": "execute_result",
          "data": {
            "text/plain": [
              "shape: (50, 11)\n",
              "┌─────────┬─────────┬────────┬─────┬─────────┬────────┬────────┬────────┬────────┬────────┬────────┐\n",
              "│ Transac ┆ Transac ┆ Gender ┆ Age ┆ Marital ┆ State_ ┆ Segmen ┆ Employ ┆ Paymen ┆ Refera ┆ Amount │\n",
              "│ tion_ID ┆ tion_da ┆ ---    ┆ --- ┆ _status ┆ names  ┆ t      ┆ ees_st ┆ t_meth ┆ l      ┆ _spent │\n",
              "│ ---     ┆ te      ┆ str    ┆ i64 ┆ ---     ┆ ---    ┆ ---    ┆ atus   ┆ od     ┆ ---    ┆ ---    │\n",
              "│ i64     ┆ ---     ┆        ┆     ┆ str     ┆ str    ┆ str    ┆ ---    ┆ ---    ┆ i64    ┆ f64    │\n",
              "│         ┆ datetim ┆        ┆     ┆         ┆        ┆        ┆ str    ┆ str    ┆        ┆        │\n",
              "│         ┆ e[μs]   ┆        ┆     ┆         ┆        ┆        ┆        ┆        ┆        ┆        │\n",
              "╞═════════╪═════════╪════════╪═════╪═════════╪════════╪════════╪════════╪════════╪════════╪════════╡\n",
              "│ 1000950 ┆ 2025-01 ┆ Male   ┆ 72  ┆ Married ┆ Minnes ┆ Silver ┆ Employ ┆ PayPal ┆ 0      ┆ 892.56 │\n",
              "│         ┆ -30 20: ┆        ┆     ┆         ┆ ota    ┆        ┆ ees    ┆        ┆        ┆        │\n",
              "│         ┆ 27:00   ┆        ┆     ┆         ┆        ┆        ┆        ┆        ┆        ┆        │\n",
              "│ 1000951 ┆ 2025-01 ┆ Male   ┆ 78  ┆ Married ┆ New    ┆ Basic  ┆ Unempl ┆ Card   ┆ 1      ┆ 95.05  │\n",
              "│         ┆ -30 20: ┆        ┆     ┆         ┆ Mexico ┆        ┆ oyment ┆        ┆        ┆        │\n",
              "│         ┆ 30:00   ┆        ┆     ┆         ┆        ┆        ┆        ┆        ┆        ┆        │\n",
              "│ 1000952 ┆ 2025-01 ┆ Male   ┆ 19  ┆ Single  ┆ Vermon ┆ Basic  ┆ self-e ┆ PayPal ┆ 1      ┆ 1967.6 │\n",
              "│         ┆ -30 20: ┆        ┆     ┆         ┆ t      ┆        ┆ mploye ┆        ┆        ┆        │\n",
              "│         ┆ 31:00   ┆        ┆     ┆         ┆        ┆        ┆ d      ┆        ┆        ┆        │\n",
              "│ 1000953 ┆ 2025-01 ┆ Female ┆ 63  ┆ Single  ┆ Louisi ┆ Basic  ┆ Employ ┆ Other  ┆ 1      ┆ 958.83 │\n",
              "│         ┆ -30 20: ┆        ┆     ┆         ┆ ana    ┆        ┆ ees    ┆        ┆        ┆        │\n",
              "│         ┆ 33:00   ┆        ┆     ┆         ┆        ┆        ┆        ┆        ┆        ┆        │\n",
              "│ 1000954 ┆ 2025-01 ┆ Male   ┆ 70  ┆ Single  ┆ New    ┆ Basic  ┆ worker ┆ PayPal ┆ 0      ┆ 2969.2 │\n",
              "│         ┆ -30 20: ┆        ┆     ┆         ┆ Jersey ┆        ┆ s      ┆        ┆        ┆ 4      │\n",
              "│         ┆ 34:00   ┆        ┆     ┆         ┆        ┆        ┆        ┆        ┆        ┆        │\n",
              "│ …       ┆ …       ┆ …      ┆ …   ┆ …       ┆ …      ┆ …      ┆ …      ┆ …      ┆ …      ┆ …      │\n",
              "│ 1000995 ┆ 2025-01 ┆ Male   ┆ 45  ┆ Single  ┆ Arkans ┆ Gold   ┆ Employ ┆ PayPal ┆ 1      ┆ 1762.7 │\n",
              "│         ┆ -30 23: ┆        ┆     ┆         ┆ as     ┆        ┆ ees    ┆        ┆        ┆ 6      │\n",
              "│         ┆ 43:00   ┆        ┆     ┆         ┆        ┆        ┆        ┆        ┆        ┆        │\n",
              "│ 1000996 ┆ 2025-01 ┆ Female ┆ 75  ┆ Married ┆ Virgin ┆ Silver ┆ worker ┆ Other  ┆ 1      ┆ 31.41  │\n",
              "│         ┆ -30 23: ┆        ┆     ┆         ┆ ia     ┆        ┆ s      ┆        ┆        ┆        │\n",
              "│         ┆ 45:00   ┆        ┆     ┆         ┆        ┆        ┆        ┆        ┆        ┆        │\n",
              "│ 1000997 ┆ 2025-01 ┆ Female ┆ 61  ┆ Married ┆ Kansas ┆ Basic  ┆ self-e ┆ Other  ┆ 1      ┆ 1699.3 │\n",
              "│         ┆ -30 23: ┆        ┆     ┆         ┆        ┆        ┆ mploye ┆        ┆        ┆ 1      │\n",
              "│         ┆ 47:00   ┆        ┆     ┆         ┆        ┆        ┆ d      ┆        ┆        ┆        │\n",
              "│ 1000998 ┆ 2025-01 ┆ Female ┆ 68  ┆ Married ┆ Utah   ┆ Basic  ┆ Employ ┆ PayPal ┆ 1      ┆ 208.26 │\n",
              "│         ┆ -30 23: ┆        ┆     ┆         ┆        ┆        ┆ ees    ┆        ┆        ┆        │\n",
              "│         ┆ 52:00   ┆        ┆     ┆         ┆        ┆        ┆        ┆        ┆        ┆        │\n",
              "│ 1000999 ┆ 2025-01 ┆ Male   ┆ 55  ┆ Single  ┆ Nevada ┆ Missin ┆ worker ┆ PayPal ┆ 0      ┆ 2063.9 │\n",
              "│         ┆ -30 23: ┆        ┆     ┆         ┆        ┆ g      ┆ s      ┆        ┆        ┆ 2      │\n",
              "│         ┆ 57:00   ┆        ┆     ┆         ┆        ┆        ┆        ┆        ┆        ┆        │\n",
              "└─────────┴─────────┴────────┴─────┴─────────┴────────┴────────┴────────┴────────┴────────┴────────┘"
            ],
            "text/html": [
              "<div><style>\n",
              ".dataframe > thead > tr,\n",
              ".dataframe > tbody > tr {\n",
              "  text-align: right;\n",
              "  white-space: pre-wrap;\n",
              "}\n",
              "</style>\n",
              "<small>shape: (50, 11)</small><table border=\"1\" class=\"dataframe\"><thead><tr><th>Transaction_ID</th><th>Transaction_date</th><th>Gender</th><th>Age</th><th>Marital_status</th><th>State_names</th><th>Segment</th><th>Employees_status</th><th>Payment_method</th><th>Referal</th><th>Amount_spent</th></tr><tr><td>i64</td><td>datetime[μs]</td><td>str</td><td>i64</td><td>str</td><td>str</td><td>str</td><td>str</td><td>str</td><td>i64</td><td>f64</td></tr></thead><tbody><tr><td>1000950</td><td>2025-01-30 20:27:00</td><td>&quot;Male&quot;</td><td>72</td><td>&quot;Married&quot;</td><td>&quot;Minnesota&quot;</td><td>&quot;Silver&quot;</td><td>&quot;Employees&quot;</td><td>&quot;PayPal&quot;</td><td>0</td><td>892.56</td></tr><tr><td>1000951</td><td>2025-01-30 20:30:00</td><td>&quot;Male&quot;</td><td>78</td><td>&quot;Married&quot;</td><td>&quot;New Mexico&quot;</td><td>&quot;Basic&quot;</td><td>&quot;Unemployment&quot;</td><td>&quot;Card&quot;</td><td>1</td><td>95.05</td></tr><tr><td>1000952</td><td>2025-01-30 20:31:00</td><td>&quot;Male&quot;</td><td>19</td><td>&quot;Single&quot;</td><td>&quot;Vermont&quot;</td><td>&quot;Basic&quot;</td><td>&quot;self-employed&quot;</td><td>&quot;PayPal&quot;</td><td>1</td><td>1967.6</td></tr><tr><td>1000953</td><td>2025-01-30 20:33:00</td><td>&quot;Female&quot;</td><td>63</td><td>&quot;Single&quot;</td><td>&quot;Louisiana&quot;</td><td>&quot;Basic&quot;</td><td>&quot;Employees&quot;</td><td>&quot;Other&quot;</td><td>1</td><td>958.83</td></tr><tr><td>1000954</td><td>2025-01-30 20:34:00</td><td>&quot;Male&quot;</td><td>70</td><td>&quot;Single&quot;</td><td>&quot;New Jersey&quot;</td><td>&quot;Basic&quot;</td><td>&quot;workers&quot;</td><td>&quot;PayPal&quot;</td><td>0</td><td>2969.24</td></tr><tr><td>&hellip;</td><td>&hellip;</td><td>&hellip;</td><td>&hellip;</td><td>&hellip;</td><td>&hellip;</td><td>&hellip;</td><td>&hellip;</td><td>&hellip;</td><td>&hellip;</td><td>&hellip;</td></tr><tr><td>1000995</td><td>2025-01-30 23:43:00</td><td>&quot;Male&quot;</td><td>45</td><td>&quot;Single&quot;</td><td>&quot;Arkansas&quot;</td><td>&quot;Gold&quot;</td><td>&quot;Employees&quot;</td><td>&quot;PayPal&quot;</td><td>1</td><td>1762.76</td></tr><tr><td>1000996</td><td>2025-01-30 23:45:00</td><td>&quot;Female&quot;</td><td>75</td><td>&quot;Married&quot;</td><td>&quot;Virginia&quot;</td><td>&quot;Silver&quot;</td><td>&quot;workers&quot;</td><td>&quot;Other&quot;</td><td>1</td><td>31.41</td></tr><tr><td>1000997</td><td>2025-01-30 23:47:00</td><td>&quot;Female&quot;</td><td>61</td><td>&quot;Married&quot;</td><td>&quot;Kansas&quot;</td><td>&quot;Basic&quot;</td><td>&quot;self-employed&quot;</td><td>&quot;Other&quot;</td><td>1</td><td>1699.31</td></tr><tr><td>1000998</td><td>2025-01-30 23:52:00</td><td>&quot;Female&quot;</td><td>68</td><td>&quot;Married&quot;</td><td>&quot;Utah&quot;</td><td>&quot;Basic&quot;</td><td>&quot;Employees&quot;</td><td>&quot;PayPal&quot;</td><td>1</td><td>208.26</td></tr><tr><td>1000999</td><td>2025-01-30 23:57:00</td><td>&quot;Male&quot;</td><td>55</td><td>&quot;Single&quot;</td><td>&quot;Nevada&quot;</td><td>&quot;Missing&quot;</td><td>&quot;workers&quot;</td><td>&quot;PayPal&quot;</td><td>0</td><td>2063.92</td></tr></tbody></table></div>"
            ]
          },
          "metadata": {},
          "execution_count": 40
        }
      ]
    },
    {
      "cell_type": "markdown",
      "source": [
        "### Sorting and Applying Conditions"
      ],
      "metadata": {
        "id": "eXZJhmdn-JIO"
      }
    },
    {
      "cell_type": "markdown",
      "source": [
        "**Sorting Data in Ascending Order**"
      ],
      "metadata": {
        "id": "Za-fcrco-R-9"
      }
    },
    {
      "cell_type": "code",
      "source": [
        "df.sort(\"Amount_spent\", nulls_last=True).head(4)"
      ],
      "metadata": {
        "colab": {
          "base_uri": "https://localhost:8080/",
          "height": 223
        },
        "id": "Raiw9yOF-Rpm",
        "outputId": "f3209e15-ad6a-42f1-a310-7150eca2891e"
      },
      "execution_count": 23,
      "outputs": [
        {
          "output_type": "execute_result",
          "data": {
            "text/plain": [
              "shape: (4, 11)\n",
              "┌─────────┬─────────┬────────┬─────┬─────────┬────────┬────────┬────────┬────────┬────────┬────────┐\n",
              "│ Transac ┆ Transac ┆ Gender ┆ Age ┆ Marital ┆ State_ ┆ Segmen ┆ Employ ┆ Paymen ┆ Refera ┆ Amount │\n",
              "│ tion_ID ┆ tion_da ┆ ---    ┆ --- ┆ _status ┆ names  ┆ t      ┆ ees_st ┆ t_meth ┆ l      ┆ _spent │\n",
              "│ ---     ┆ te      ┆ str    ┆ i64 ┆ ---     ┆ ---    ┆ ---    ┆ atus   ┆ od     ┆ ---    ┆ ---    │\n",
              "│ i64     ┆ ---     ┆        ┆     ┆ str     ┆ str    ┆ str    ┆ ---    ┆ ---    ┆ i64    ┆ f64    │\n",
              "│         ┆ datetim ┆        ┆     ┆         ┆        ┆        ┆ str    ┆ str    ┆        ┆        │\n",
              "│         ┆ e[μs]   ┆        ┆     ┆         ┆        ┆        ┆        ┆        ┆        ┆        │\n",
              "╞═════════╪═════════╪════════╪═════╪═════════╪════════╪════════╪════════╪════════╪════════╪════════╡\n",
              "│ 9032    ┆ 2018-01 ┆ Female ┆ 73  ┆ Married ┆ Michig ┆ Gold   ┆ Employ ┆ PayPal ┆ 1      ┆ 2.09   │\n",
              "│         ┆ -21 18: ┆        ┆     ┆         ┆ an     ┆        ┆ ees    ┆        ┆        ┆        │\n",
              "│         ┆ 02:00   ┆        ┆     ┆         ┆        ┆        ┆        ┆        ┆        ┆        │\n",
              "│ 12093   ┆ 2018-01 ┆ Female ┆ 73  ┆ Married ┆ Michig ┆ Gold   ┆ Employ ┆ PayPal ┆ 1      ┆ 2.09   │\n",
              "│         ┆ -29 13: ┆        ┆     ┆         ┆ an     ┆        ┆ ees    ┆        ┆        ┆        │\n",
              "│         ┆ 52:00   ┆        ┆     ┆         ┆        ┆        ┆        ┆        ┆        ┆        │\n",
              "│ 14260   ┆ 2018-02 ┆ Female ┆ 73  ┆ Married ┆ Michig ┆ Gold   ┆ Employ ┆ PayPal ┆ 1      ┆ 2.09   │\n",
              "│         ┆ -04 03: ┆        ┆     ┆         ┆ an     ┆        ┆ ees    ┆        ┆        ┆        │\n",
              "│         ┆ 34:00   ┆        ┆     ┆         ┆        ┆        ┆        ┆        ┆        ┆        │\n",
              "│ 16267   ┆ 2018-02 ┆ Female ┆ 73  ┆ Married ┆ Michig ┆ Gold   ┆ Employ ┆ PayPal ┆ 1      ┆ 2.09   │\n",
              "│         ┆ -09 09: ┆        ┆     ┆         ┆ an     ┆        ┆ ees    ┆        ┆        ┆        │\n",
              "│         ┆ 43:00   ┆        ┆     ┆         ┆        ┆        ┆        ┆        ┆        ┆        │\n",
              "└─────────┴─────────┴────────┴─────┴─────────┴────────┴────────┴────────┴────────┴────────┴────────┘"
            ],
            "text/html": [
              "<div><style>\n",
              ".dataframe > thead > tr,\n",
              ".dataframe > tbody > tr {\n",
              "  text-align: right;\n",
              "  white-space: pre-wrap;\n",
              "}\n",
              "</style>\n",
              "<small>shape: (4, 11)</small><table border=\"1\" class=\"dataframe\"><thead><tr><th>Transaction_ID</th><th>Transaction_date</th><th>Gender</th><th>Age</th><th>Marital_status</th><th>State_names</th><th>Segment</th><th>Employees_status</th><th>Payment_method</th><th>Referal</th><th>Amount_spent</th></tr><tr><td>i64</td><td>datetime[μs]</td><td>str</td><td>i64</td><td>str</td><td>str</td><td>str</td><td>str</td><td>str</td><td>i64</td><td>f64</td></tr></thead><tbody><tr><td>9032</td><td>2018-01-21 18:02:00</td><td>&quot;Female&quot;</td><td>73</td><td>&quot;Married&quot;</td><td>&quot;Michigan&quot;</td><td>&quot;Gold&quot;</td><td>&quot;Employees&quot;</td><td>&quot;PayPal&quot;</td><td>1</td><td>2.09</td></tr><tr><td>12093</td><td>2018-01-29 13:52:00</td><td>&quot;Female&quot;</td><td>73</td><td>&quot;Married&quot;</td><td>&quot;Michigan&quot;</td><td>&quot;Gold&quot;</td><td>&quot;Employees&quot;</td><td>&quot;PayPal&quot;</td><td>1</td><td>2.09</td></tr><tr><td>14260</td><td>2018-02-04 03:34:00</td><td>&quot;Female&quot;</td><td>73</td><td>&quot;Married&quot;</td><td>&quot;Michigan&quot;</td><td>&quot;Gold&quot;</td><td>&quot;Employees&quot;</td><td>&quot;PayPal&quot;</td><td>1</td><td>2.09</td></tr><tr><td>16267</td><td>2018-02-09 09:43:00</td><td>&quot;Female&quot;</td><td>73</td><td>&quot;Married&quot;</td><td>&quot;Michigan&quot;</td><td>&quot;Gold&quot;</td><td>&quot;Employees&quot;</td><td>&quot;PayPal&quot;</td><td>1</td><td>2.09</td></tr></tbody></table></div>"
            ]
          },
          "metadata": {},
          "execution_count": 23
        }
      ]
    },
    {
      "cell_type": "markdown",
      "source": [
        "**Sorting Data in Descending Order**"
      ],
      "metadata": {
        "id": "ykVxHNDL-XyT"
      }
    },
    {
      "cell_type": "code",
      "source": [
        "df.sort(\"Amount_spent\", descending=True)"
      ],
      "metadata": {
        "colab": {
          "base_uri": "https://localhost:8080/",
          "height": 443
        },
        "id": "Z4bqkFBB4orR",
        "outputId": "7e763114-26af-400d-b983-8ce2ffc8dd03"
      },
      "execution_count": 24,
      "outputs": [
        {
          "output_type": "execute_result",
          "data": {
            "text/plain": [
              "shape: (1_000_000, 11)\n",
              "┌─────────┬─────────┬────────┬─────┬─────────┬────────┬────────┬────────┬────────┬────────┬────────┐\n",
              "│ Transac ┆ Transac ┆ Gender ┆ Age ┆ Marital ┆ State_ ┆ Segmen ┆ Employ ┆ Paymen ┆ Refera ┆ Amount │\n",
              "│ tion_ID ┆ tion_da ┆ ---    ┆ --- ┆ _status ┆ names  ┆ t      ┆ ees_st ┆ t_meth ┆ l      ┆ _spent │\n",
              "│ ---     ┆ te      ┆ str    ┆ i64 ┆ ---     ┆ ---    ┆ ---    ┆ atus   ┆ od     ┆ ---    ┆ ---    │\n",
              "│ i64     ┆ ---     ┆        ┆     ┆ str     ┆ str    ┆ str    ┆ ---    ┆ ---    ┆ i64    ┆ f64    │\n",
              "│         ┆ datetim ┆        ┆     ┆         ┆        ┆        ┆ str    ┆ str    ┆        ┆        │\n",
              "│         ┆ e[μs]   ┆        ┆     ┆         ┆        ┆        ┆        ┆        ┆        ┆        │\n",
              "╞═════════╪═════════╪════════╪═════╪═════════╪════════╪════════╪════════╪════════╪════════╪════════╡\n",
              "│ 1008    ┆ 2018-01 ┆ Male   ┆ 18  ┆ Married ┆ Nevada ┆ Basic  ┆ Employ ┆ Card   ┆ 1      ┆ null   │\n",
              "│         ┆ -01 00: ┆        ┆     ┆         ┆        ┆        ┆ ees    ┆        ┆        ┆        │\n",
              "│         ┆ 31:00   ┆        ┆     ┆         ┆        ┆        ┆        ┆        ┆        ┆        │\n",
              "│ 1015    ┆ 2018-01 ┆ Female ┆ 37  ┆ Married ┆ Arizon ┆ Basic  ┆ Employ ┆ Other  ┆ 1      ┆ null   │\n",
              "│         ┆ -01 00: ┆        ┆     ┆         ┆ a      ┆        ┆ ees    ┆        ┆        ┆        │\n",
              "│         ┆ 44:00   ┆        ┆     ┆         ┆        ┆        ┆        ┆        ┆        ┆        │\n",
              "│ 1025    ┆ 2018-01 ┆ Male   ┆ 21  ┆ Married ┆ Florid ┆ Silver ┆ Unempl ┆ Card   ┆ 0      ┆ null   │\n",
              "│         ┆ -01 01: ┆        ┆     ┆         ┆ a      ┆        ┆ oyment ┆        ┆        ┆        │\n",
              "│         ┆ 13:00   ┆        ┆     ┆         ┆        ┆        ┆        ┆        ┆        ┆        │\n",
              "│ 1039    ┆ 2018-01 ┆ Female ┆ 37  ┆ Single  ┆ Washin ┆ Basic  ┆ self-e ┆ PayPal ┆ 1      ┆ null   │\n",
              "│         ┆ -01 01: ┆        ┆     ┆         ┆ gton   ┆        ┆ mploye ┆        ┆        ┆        │\n",
              "│         ┆ 51:00   ┆        ┆     ┆         ┆        ┆        ┆ d      ┆        ┆        ┆        │\n",
              "│ 1063    ┆ 2018-01 ┆ Male   ┆ 39  ┆ Married ┆ Montan ┆ Platin ┆ Unempl ┆ Other  ┆ 0      ┆ null   │\n",
              "│         ┆ -01 03: ┆        ┆     ┆         ┆ a      ┆ um     ┆ oyment ┆        ┆        ┆        │\n",
              "│         ┆ 41:00   ┆        ┆     ┆         ┆        ┆        ┆        ┆        ┆        ┆        │\n",
              "│ …       ┆ …       ┆ …      ┆ …   ┆ …       ┆ …      ┆ …      ┆ …      ┆ …      ┆ …      ┆ …      │\n",
              "│ 989972  ┆ 2025-01 ┆ Female ┆ 73  ┆ Married ┆ Michig ┆ Gold   ┆ Employ ┆ PayPal ┆ 1      ┆ 2.09   │\n",
              "│         ┆ -02 13: ┆        ┆     ┆         ┆ an     ┆        ┆ ees    ┆        ┆        ┆        │\n",
              "│         ┆ 57:00   ┆        ┆     ┆         ┆        ┆        ┆        ┆        ┆        ┆        │\n",
              "│ 989980  ┆ 2025-01 ┆ Female ┆ 73  ┆ Married ┆ Michig ┆ Gold   ┆ Employ ┆ PayPal ┆ 1      ┆ 2.09   │\n",
              "│         ┆ -02 14: ┆        ┆     ┆         ┆ an     ┆        ┆ ees    ┆        ┆        ┆        │\n",
              "│         ┆ 28:00   ┆        ┆     ┆         ┆        ┆        ┆        ┆        ┆        ┆        │\n",
              "│ 993301  ┆ 2025-01 ┆ Female ┆ 73  ┆ Married ┆ Michig ┆ Gold   ┆ Employ ┆ PayPal ┆ 1      ┆ 2.09   │\n",
              "│         ┆ -11 12: ┆        ┆     ┆         ┆ an     ┆        ┆ ees    ┆        ┆        ┆        │\n",
              "│         ┆ 05:00   ┆        ┆     ┆         ┆        ┆        ┆        ┆        ┆        ┆        │\n",
              "│ 996137  ┆ 2025-01 ┆ Female ┆ 73  ┆ Married ┆ Michig ┆ Gold   ┆ Employ ┆ PayPal ┆ 1      ┆ 2.09   │\n",
              "│         ┆ -18 11: ┆        ┆     ┆         ┆ an     ┆        ┆ ees    ┆        ┆        ┆        │\n",
              "│         ┆ 52:00   ┆        ┆     ┆         ┆        ┆        ┆        ┆        ┆        ┆        │\n",
              "│ 1000180 ┆ 2025-01 ┆ Female ┆ 73  ┆ Married ┆ Michig ┆ Gold   ┆ Employ ┆ PayPal ┆ 1      ┆ 2.09   │\n",
              "│         ┆ -28 22: ┆        ┆     ┆         ┆ an     ┆        ┆ ees    ┆        ┆        ┆        │\n",
              "│         ┆ 45:00   ┆        ┆     ┆         ┆        ┆        ┆        ┆        ┆        ┆        │\n",
              "└─────────┴─────────┴────────┴─────┴─────────┴────────┴────────┴────────┴────────┴────────┴────────┘"
            ],
            "text/html": [
              "<div><style>\n",
              ".dataframe > thead > tr,\n",
              ".dataframe > tbody > tr {\n",
              "  text-align: right;\n",
              "  white-space: pre-wrap;\n",
              "}\n",
              "</style>\n",
              "<small>shape: (1_000_000, 11)</small><table border=\"1\" class=\"dataframe\"><thead><tr><th>Transaction_ID</th><th>Transaction_date</th><th>Gender</th><th>Age</th><th>Marital_status</th><th>State_names</th><th>Segment</th><th>Employees_status</th><th>Payment_method</th><th>Referal</th><th>Amount_spent</th></tr><tr><td>i64</td><td>datetime[μs]</td><td>str</td><td>i64</td><td>str</td><td>str</td><td>str</td><td>str</td><td>str</td><td>i64</td><td>f64</td></tr></thead><tbody><tr><td>1008</td><td>2018-01-01 00:31:00</td><td>&quot;Male&quot;</td><td>18</td><td>&quot;Married&quot;</td><td>&quot;Nevada&quot;</td><td>&quot;Basic&quot;</td><td>&quot;Employees&quot;</td><td>&quot;Card&quot;</td><td>1</td><td>null</td></tr><tr><td>1015</td><td>2018-01-01 00:44:00</td><td>&quot;Female&quot;</td><td>37</td><td>&quot;Married&quot;</td><td>&quot;Arizona&quot;</td><td>&quot;Basic&quot;</td><td>&quot;Employees&quot;</td><td>&quot;Other&quot;</td><td>1</td><td>null</td></tr><tr><td>1025</td><td>2018-01-01 01:13:00</td><td>&quot;Male&quot;</td><td>21</td><td>&quot;Married&quot;</td><td>&quot;Florida&quot;</td><td>&quot;Silver&quot;</td><td>&quot;Unemployment&quot;</td><td>&quot;Card&quot;</td><td>0</td><td>null</td></tr><tr><td>1039</td><td>2018-01-01 01:51:00</td><td>&quot;Female&quot;</td><td>37</td><td>&quot;Single&quot;</td><td>&quot;Washington&quot;</td><td>&quot;Basic&quot;</td><td>&quot;self-employed&quot;</td><td>&quot;PayPal&quot;</td><td>1</td><td>null</td></tr><tr><td>1063</td><td>2018-01-01 03:41:00</td><td>&quot;Male&quot;</td><td>39</td><td>&quot;Married&quot;</td><td>&quot;Montana&quot;</td><td>&quot;Platinum&quot;</td><td>&quot;Unemployment&quot;</td><td>&quot;Other&quot;</td><td>0</td><td>null</td></tr><tr><td>&hellip;</td><td>&hellip;</td><td>&hellip;</td><td>&hellip;</td><td>&hellip;</td><td>&hellip;</td><td>&hellip;</td><td>&hellip;</td><td>&hellip;</td><td>&hellip;</td><td>&hellip;</td></tr><tr><td>989972</td><td>2025-01-02 13:57:00</td><td>&quot;Female&quot;</td><td>73</td><td>&quot;Married&quot;</td><td>&quot;Michigan&quot;</td><td>&quot;Gold&quot;</td><td>&quot;Employees&quot;</td><td>&quot;PayPal&quot;</td><td>1</td><td>2.09</td></tr><tr><td>989980</td><td>2025-01-02 14:28:00</td><td>&quot;Female&quot;</td><td>73</td><td>&quot;Married&quot;</td><td>&quot;Michigan&quot;</td><td>&quot;Gold&quot;</td><td>&quot;Employees&quot;</td><td>&quot;PayPal&quot;</td><td>1</td><td>2.09</td></tr><tr><td>993301</td><td>2025-01-11 12:05:00</td><td>&quot;Female&quot;</td><td>73</td><td>&quot;Married&quot;</td><td>&quot;Michigan&quot;</td><td>&quot;Gold&quot;</td><td>&quot;Employees&quot;</td><td>&quot;PayPal&quot;</td><td>1</td><td>2.09</td></tr><tr><td>996137</td><td>2025-01-18 11:52:00</td><td>&quot;Female&quot;</td><td>73</td><td>&quot;Married&quot;</td><td>&quot;Michigan&quot;</td><td>&quot;Gold&quot;</td><td>&quot;Employees&quot;</td><td>&quot;PayPal&quot;</td><td>1</td><td>2.09</td></tr><tr><td>1000180</td><td>2025-01-28 22:45:00</td><td>&quot;Female&quot;</td><td>73</td><td>&quot;Married&quot;</td><td>&quot;Michigan&quot;</td><td>&quot;Gold&quot;</td><td>&quot;Employees&quot;</td><td>&quot;PayPal&quot;</td><td>1</td><td>2.09</td></tr></tbody></table></div>"
            ]
          },
          "metadata": {},
          "execution_count": 24
        }
      ]
    },
    {
      "cell_type": "markdown",
      "source": [
        "**Sorting by Multiple Columns**"
      ],
      "metadata": {
        "id": "FHDatGxl-e5F"
      }
    },
    {
      "cell_type": "code",
      "source": [
        "df.sort([\"Gender\", \"Amount_spent\"], descending=[False, True], nulls_last=True).head(4)"
      ],
      "metadata": {
        "colab": {
          "base_uri": "https://localhost:8080/",
          "height": 223
        },
        "id": "CitjQNED4oot",
        "outputId": "75809f6f-d28f-4835-fe84-c84d592e35a6"
      },
      "execution_count": 25,
      "outputs": [
        {
          "output_type": "execute_result",
          "data": {
            "text/plain": [
              "shape: (4, 11)\n",
              "┌─────────┬─────────┬────────┬─────┬─────────┬────────┬────────┬────────┬────────┬────────┬────────┐\n",
              "│ Transac ┆ Transac ┆ Gender ┆ Age ┆ Marital ┆ State_ ┆ Segmen ┆ Employ ┆ Paymen ┆ Refera ┆ Amount │\n",
              "│ tion_ID ┆ tion_da ┆ ---    ┆ --- ┆ _status ┆ names  ┆ t      ┆ ees_st ┆ t_meth ┆ l      ┆ _spent │\n",
              "│ ---     ┆ te      ┆ str    ┆ i64 ┆ ---     ┆ ---    ┆ ---    ┆ atus   ┆ od     ┆ ---    ┆ ---    │\n",
              "│ i64     ┆ ---     ┆        ┆     ┆ str     ┆ str    ┆ str    ┆ ---    ┆ ---    ┆ i64    ┆ f64    │\n",
              "│         ┆ datetim ┆        ┆     ┆         ┆        ┆        ┆ str    ┆ str    ┆        ┆        │\n",
              "│         ┆ e[μs]   ┆        ┆     ┆         ┆        ┆        ┆        ┆        ┆        ┆        │\n",
              "╞═════════╪═════════╪════════╪═════╪═════════╪════════╪════════╪════════╪════════╪════════╪════════╡\n",
              "│ 1270    ┆ 2018-01 ┆ Female ┆ 77  ┆ Married ┆ New    ┆ Platin ┆ worker ┆ Card   ┆ 0      ┆ 2999.9 │\n",
              "│         ┆ -01 16: ┆        ┆     ┆         ┆ Mexico ┆ um     ┆ s      ┆        ┆        ┆ 8      │\n",
              "│         ┆ 21:00   ┆        ┆     ┆         ┆        ┆        ┆        ┆        ┆        ┆        │\n",
              "│ 3182    ┆ 2018-01 ┆ Female ┆ 77  ┆ Married ┆ New    ┆ Platin ┆ worker ┆ Card   ┆ 0      ┆ 2999.9 │\n",
              "│         ┆ -06 20: ┆        ┆     ┆         ┆ Mexico ┆ um     ┆ s      ┆        ┆        ┆ 8      │\n",
              "│         ┆ 42:00   ┆        ┆     ┆         ┆        ┆        ┆        ┆        ┆        ┆        │\n",
              "│ 7065    ┆ 2018-01 ┆ Female ┆ 77  ┆ Married ┆ New    ┆ Platin ┆ worker ┆ Card   ┆ 0      ┆ 2999.9 │\n",
              "│         ┆ -16 18: ┆        ┆     ┆         ┆ Mexico ┆ um     ┆ s      ┆        ┆        ┆ 8      │\n",
              "│         ┆ 30:00   ┆        ┆     ┆         ┆        ┆        ┆        ┆        ┆        ┆        │\n",
              "│ 8747    ┆ 2018-01 ┆ Female ┆ 77  ┆ Married ┆ New    ┆ Platin ┆ worker ┆ Card   ┆ 0      ┆ 2999.9 │\n",
              "│         ┆ -21 00: ┆        ┆     ┆         ┆ Mexico ┆ um     ┆ s      ┆        ┆        ┆ 8      │\n",
              "│         ┆ 15:00   ┆        ┆     ┆         ┆        ┆        ┆        ┆        ┆        ┆        │\n",
              "└─────────┴─────────┴────────┴─────┴─────────┴────────┴────────┴────────┴────────┴────────┴────────┘"
            ],
            "text/html": [
              "<div><style>\n",
              ".dataframe > thead > tr,\n",
              ".dataframe > tbody > tr {\n",
              "  text-align: right;\n",
              "  white-space: pre-wrap;\n",
              "}\n",
              "</style>\n",
              "<small>shape: (4, 11)</small><table border=\"1\" class=\"dataframe\"><thead><tr><th>Transaction_ID</th><th>Transaction_date</th><th>Gender</th><th>Age</th><th>Marital_status</th><th>State_names</th><th>Segment</th><th>Employees_status</th><th>Payment_method</th><th>Referal</th><th>Amount_spent</th></tr><tr><td>i64</td><td>datetime[μs]</td><td>str</td><td>i64</td><td>str</td><td>str</td><td>str</td><td>str</td><td>str</td><td>i64</td><td>f64</td></tr></thead><tbody><tr><td>1270</td><td>2018-01-01 16:21:00</td><td>&quot;Female&quot;</td><td>77</td><td>&quot;Married&quot;</td><td>&quot;New Mexico&quot;</td><td>&quot;Platinum&quot;</td><td>&quot;workers&quot;</td><td>&quot;Card&quot;</td><td>0</td><td>2999.98</td></tr><tr><td>3182</td><td>2018-01-06 20:42:00</td><td>&quot;Female&quot;</td><td>77</td><td>&quot;Married&quot;</td><td>&quot;New Mexico&quot;</td><td>&quot;Platinum&quot;</td><td>&quot;workers&quot;</td><td>&quot;Card&quot;</td><td>0</td><td>2999.98</td></tr><tr><td>7065</td><td>2018-01-16 18:30:00</td><td>&quot;Female&quot;</td><td>77</td><td>&quot;Married&quot;</td><td>&quot;New Mexico&quot;</td><td>&quot;Platinum&quot;</td><td>&quot;workers&quot;</td><td>&quot;Card&quot;</td><td>0</td><td>2999.98</td></tr><tr><td>8747</td><td>2018-01-21 00:15:00</td><td>&quot;Female&quot;</td><td>77</td><td>&quot;Married&quot;</td><td>&quot;New Mexico&quot;</td><td>&quot;Platinum&quot;</td><td>&quot;workers&quot;</td><td>&quot;Card&quot;</td><td>0</td><td>2999.98</td></tr></tbody></table></div>"
            ]
          },
          "metadata": {},
          "execution_count": 25
        }
      ]
    },
    {
      "cell_type": "markdown",
      "source": [
        "### Applying Complex Conditional Queries"
      ],
      "metadata": {
        "id": "JDhsLz_K-oQU"
      }
    },
    {
      "cell_type": "markdown",
      "source": [
        "**Find Female Customers Who Spent More Than $100**"
      ],
      "metadata": {
        "id": "LPDG4vPw-tji"
      }
    },
    {
      "cell_type": "code",
      "source": [
        "df.filter((pl.col(\"Amount_spent\") > 100) & (pl.col(\"Gender\") == \"Female\"))"
      ],
      "metadata": {
        "colab": {
          "base_uri": "https://localhost:8080/",
          "height": 671
        },
        "id": "fuBopnQX4omM",
        "outputId": "01cbb8aa-f0d1-418d-c145-4bc1c0a9b717"
      },
      "execution_count": 26,
      "outputs": [
        {
          "output_type": "execute_result",
          "data": {
            "text/plain": [
              "shape: (466_044, 11)\n",
              "┌─────────┬─────────┬────────┬─────┬─────────┬────────┬────────┬────────┬────────┬────────┬────────┐\n",
              "│ Transac ┆ Transac ┆ Gender ┆ Age ┆ Marital ┆ State_ ┆ Segmen ┆ Employ ┆ Paymen ┆ Refera ┆ Amount │\n",
              "│ tion_ID ┆ tion_da ┆ ---    ┆ --- ┆ _status ┆ names  ┆ t      ┆ ees_st ┆ t_meth ┆ l      ┆ _spent │\n",
              "│ ---     ┆ te      ┆ str    ┆ i64 ┆ ---     ┆ ---    ┆ ---    ┆ atus   ┆ od     ┆ ---    ┆ ---    │\n",
              "│ i64     ┆ ---     ┆        ┆     ┆ str     ┆ str    ┆ str    ┆ ---    ┆ ---    ┆ i64    ┆ f64    │\n",
              "│         ┆ datetim ┆        ┆     ┆         ┆        ┆        ┆ str    ┆ str    ┆        ┆        │\n",
              "│         ┆ e[μs]   ┆        ┆     ┆         ┆        ┆        ┆        ┆        ┆        ┆        │\n",
              "╞═════════╪═════════╪════════╪═════╪═════════╪════════╪════════╪════════╪════════╪════════╪════════╡\n",
              "│ 1000    ┆ 2018-01 ┆ Female ┆ 39  ┆ Single  ┆ Oklaho ┆ Platin ┆ Unempl ┆ Card   ┆ 0      ┆ 1557.5 │\n",
              "│         ┆ -01 00: ┆        ┆     ┆         ┆ ma     ┆ um     ┆ oyment ┆        ┆        ┆        │\n",
              "│         ┆ 04:00   ┆        ┆     ┆         ┆        ┆        ┆        ┆        ┆        ┆        │\n",
              "│ 1002    ┆ 2018-01 ┆ Female ┆ 53  ┆ Married ┆ Iowa   ┆ Basic  ┆ self-e ┆ PayPal ┆ 1      ┆ 2640.9 │\n",
              "│         ┆ -01 00: ┆        ┆     ┆         ┆        ┆        ┆ mploye ┆        ┆        ┆ 6      │\n",
              "│         ┆ 14:00   ┆        ┆     ┆         ┆        ┆        ┆ d      ┆        ┆        ┆        │\n",
              "│ 1004    ┆ 2018-01 ┆ Female ┆ 36  ┆ Married ┆ Texas  ┆ Platin ┆ Employ ┆ Card   ┆ 0      ┆ 1608.0 │\n",
              "│         ┆ -01 00: ┆        ┆     ┆         ┆        ┆ um     ┆ ees    ┆        ┆        ┆ 1      │\n",
              "│         ┆ 25:00   ┆        ┆     ┆         ┆        ┆        ┆        ┆        ┆        ┆        │\n",
              "│ 1006    ┆ 2018-01 ┆ Female ┆ 55  ┆ Single  ┆ Ohio   ┆ Silver ┆ Unempl ┆ PayPal ┆ 0      ┆ 1553.6 │\n",
              "│         ┆ -01 00: ┆        ┆     ┆         ┆        ┆        ┆ oyment ┆        ┆        ┆ 1      │\n",
              "│         ┆ 29:00   ┆        ┆     ┆         ┆        ┆        ┆        ┆        ┆        ┆        │\n",
              "│ 1007    ┆ 2018-01 ┆ Female ┆ 35  ┆ Married ┆ Hawaii ┆ Basic  ┆ worker ┆ Other  ┆ 1      ┆ 1851.5 │\n",
              "│         ┆ -01 00: ┆        ┆     ┆         ┆        ┆        ┆ s      ┆        ┆        ┆ 8      │\n",
              "│         ┆ 29:00   ┆        ┆     ┆         ┆        ┆        ┆        ┆        ┆        ┆        │\n",
              "│ …       ┆ …       ┆ …      ┆ …   ┆ …       ┆ …      ┆ …      ┆ …      ┆ …      ┆ …      ┆ …      │\n",
              "│ 1000992 ┆ 2025-01 ┆ Female ┆ 25  ┆ Married ┆ Nebras ┆ Basic  ┆ worker ┆ PayPal ┆ 0      ┆ 1735.0 │\n",
              "│         ┆ -30 23: ┆        ┆     ┆         ┆ ka     ┆        ┆ s      ┆        ┆        ┆ 7      │\n",
              "│         ┆ 23:00   ┆        ┆     ┆         ┆        ┆        ┆        ┆        ┆        ┆        │\n",
              "│ 1000993 ┆ 2025-01 ┆ Female ┆ 18  ┆ Married ┆ Alabam ┆ Silver ┆ worker ┆ PayPal ┆ null   ┆ 2091.7 │\n",
              "│         ┆ -30 23: ┆        ┆     ┆         ┆ a      ┆        ┆ s      ┆        ┆        ┆ 3      │\n",
              "│         ┆ 29:00   ┆        ┆     ┆         ┆        ┆        ┆        ┆        ┆        ┆        │\n",
              "│ 1000994 ┆ 2025-01 ┆ Female ┆ 51  ┆ Single  ┆ West   ┆ Platin ┆ Unempl ┆ Card   ┆ 0      ┆ 522.04 │\n",
              "│         ┆ -30 23: ┆        ┆     ┆         ┆ Virgin ┆ um     ┆ oyment ┆        ┆        ┆        │\n",
              "│         ┆ 29:00   ┆        ┆     ┆         ┆ ia     ┆        ┆        ┆        ┆        ┆        │\n",
              "│ 1000997 ┆ 2025-01 ┆ Female ┆ 61  ┆ Married ┆ Kansas ┆ Basic  ┆ self-e ┆ Other  ┆ 1      ┆ 1699.3 │\n",
              "│         ┆ -30 23: ┆        ┆     ┆         ┆        ┆        ┆ mploye ┆        ┆        ┆ 1      │\n",
              "│         ┆ 47:00   ┆        ┆     ┆         ┆        ┆        ┆ d      ┆        ┆        ┆        │\n",
              "│ 1000998 ┆ 2025-01 ┆ Female ┆ 68  ┆ Married ┆ Utah   ┆ Basic  ┆ Employ ┆ PayPal ┆ 1      ┆ 208.26 │\n",
              "│         ┆ -30 23: ┆        ┆     ┆         ┆        ┆        ┆ ees    ┆        ┆        ┆        │\n",
              "│         ┆ 52:00   ┆        ┆     ┆         ┆        ┆        ┆        ┆        ┆        ┆        │\n",
              "└─────────┴─────────┴────────┴─────┴─────────┴────────┴────────┴────────┴────────┴────────┴────────┘"
            ],
            "text/html": [
              "<div><style>\n",
              ".dataframe > thead > tr,\n",
              ".dataframe > tbody > tr {\n",
              "  text-align: right;\n",
              "  white-space: pre-wrap;\n",
              "}\n",
              "</style>\n",
              "<small>shape: (466_044, 11)</small><table border=\"1\" class=\"dataframe\"><thead><tr><th>Transaction_ID</th><th>Transaction_date</th><th>Gender</th><th>Age</th><th>Marital_status</th><th>State_names</th><th>Segment</th><th>Employees_status</th><th>Payment_method</th><th>Referal</th><th>Amount_spent</th></tr><tr><td>i64</td><td>datetime[μs]</td><td>str</td><td>i64</td><td>str</td><td>str</td><td>str</td><td>str</td><td>str</td><td>i64</td><td>f64</td></tr></thead><tbody><tr><td>1000</td><td>2018-01-01 00:04:00</td><td>&quot;Female&quot;</td><td>39</td><td>&quot;Single&quot;</td><td>&quot;Oklahoma&quot;</td><td>&quot;Platinum&quot;</td><td>&quot;Unemployment&quot;</td><td>&quot;Card&quot;</td><td>0</td><td>1557.5</td></tr><tr><td>1002</td><td>2018-01-01 00:14:00</td><td>&quot;Female&quot;</td><td>53</td><td>&quot;Married&quot;</td><td>&quot;Iowa&quot;</td><td>&quot;Basic&quot;</td><td>&quot;self-employed&quot;</td><td>&quot;PayPal&quot;</td><td>1</td><td>2640.96</td></tr><tr><td>1004</td><td>2018-01-01 00:25:00</td><td>&quot;Female&quot;</td><td>36</td><td>&quot;Married&quot;</td><td>&quot;Texas&quot;</td><td>&quot;Platinum&quot;</td><td>&quot;Employees&quot;</td><td>&quot;Card&quot;</td><td>0</td><td>1608.01</td></tr><tr><td>1006</td><td>2018-01-01 00:29:00</td><td>&quot;Female&quot;</td><td>55</td><td>&quot;Single&quot;</td><td>&quot;Ohio&quot;</td><td>&quot;Silver&quot;</td><td>&quot;Unemployment&quot;</td><td>&quot;PayPal&quot;</td><td>0</td><td>1553.61</td></tr><tr><td>1007</td><td>2018-01-01 00:29:00</td><td>&quot;Female&quot;</td><td>35</td><td>&quot;Married&quot;</td><td>&quot;Hawaii&quot;</td><td>&quot;Basic&quot;</td><td>&quot;workers&quot;</td><td>&quot;Other&quot;</td><td>1</td><td>1851.58</td></tr><tr><td>&hellip;</td><td>&hellip;</td><td>&hellip;</td><td>&hellip;</td><td>&hellip;</td><td>&hellip;</td><td>&hellip;</td><td>&hellip;</td><td>&hellip;</td><td>&hellip;</td><td>&hellip;</td></tr><tr><td>1000992</td><td>2025-01-30 23:23:00</td><td>&quot;Female&quot;</td><td>25</td><td>&quot;Married&quot;</td><td>&quot;Nebraska&quot;</td><td>&quot;Basic&quot;</td><td>&quot;workers&quot;</td><td>&quot;PayPal&quot;</td><td>0</td><td>1735.07</td></tr><tr><td>1000993</td><td>2025-01-30 23:29:00</td><td>&quot;Female&quot;</td><td>18</td><td>&quot;Married&quot;</td><td>&quot;Alabama&quot;</td><td>&quot;Silver&quot;</td><td>&quot;workers&quot;</td><td>&quot;PayPal&quot;</td><td>null</td><td>2091.73</td></tr><tr><td>1000994</td><td>2025-01-30 23:29:00</td><td>&quot;Female&quot;</td><td>51</td><td>&quot;Single&quot;</td><td>&quot;West Virginia&quot;</td><td>&quot;Platinum&quot;</td><td>&quot;Unemployment&quot;</td><td>&quot;Card&quot;</td><td>0</td><td>522.04</td></tr><tr><td>1000997</td><td>2025-01-30 23:47:00</td><td>&quot;Female&quot;</td><td>61</td><td>&quot;Married&quot;</td><td>&quot;Kansas&quot;</td><td>&quot;Basic&quot;</td><td>&quot;self-employed&quot;</td><td>&quot;Other&quot;</td><td>1</td><td>1699.31</td></tr><tr><td>1000998</td><td>2025-01-30 23:52:00</td><td>&quot;Female&quot;</td><td>68</td><td>&quot;Married&quot;</td><td>&quot;Utah&quot;</td><td>&quot;Basic&quot;</td><td>&quot;Employees&quot;</td><td>&quot;PayPal&quot;</td><td>1</td><td>208.26</td></tr></tbody></table></div>"
            ]
          },
          "metadata": {},
          "execution_count": 26
        }
      ]
    },
    {
      "cell_type": "markdown",
      "source": [
        "**Get Customers Aged Between 25 and 40**"
      ],
      "metadata": {
        "id": "2RreXDCn-1lT"
      }
    },
    {
      "cell_type": "code",
      "source": [
        "df.filter((pl.col(\"Age\") >= 25) & (pl.col(\"Age\") <= 40))"
      ],
      "metadata": {
        "colab": {
          "base_uri": "https://localhost:8080/",
          "height": 671
        },
        "id": "UyokT2c_4ojy",
        "outputId": "d098283d-6220-4202-d847-db654f95919b"
      },
      "execution_count": 27,
      "outputs": [
        {
          "output_type": "execute_result",
          "data": {
            "text/plain": [
              "shape: (247_320, 11)\n",
              "┌─────────┬─────────┬────────┬─────┬─────────┬────────┬────────┬────────┬────────┬────────┬────────┐\n",
              "│ Transac ┆ Transac ┆ Gender ┆ Age ┆ Marital ┆ State_ ┆ Segmen ┆ Employ ┆ Paymen ┆ Refera ┆ Amount │\n",
              "│ tion_ID ┆ tion_da ┆ ---    ┆ --- ┆ _status ┆ names  ┆ t      ┆ ees_st ┆ t_meth ┆ l      ┆ _spent │\n",
              "│ ---     ┆ te      ┆ str    ┆ i64 ┆ ---     ┆ ---    ┆ ---    ┆ atus   ┆ od     ┆ ---    ┆ ---    │\n",
              "│ i64     ┆ ---     ┆        ┆     ┆ str     ┆ str    ┆ str    ┆ ---    ┆ ---    ┆ i64    ┆ f64    │\n",
              "│         ┆ datetim ┆        ┆     ┆         ┆        ┆        ┆ str    ┆ str    ┆        ┆        │\n",
              "│         ┆ e[μs]   ┆        ┆     ┆         ┆        ┆        ┆        ┆        ┆        ┆        │\n",
              "╞═════════╪═════════╪════════╪═════╪═════════╪════════╪════════╪════════╪════════╪════════╪════════╡\n",
              "│ 1000    ┆ 2018-01 ┆ Female ┆ 39  ┆ Single  ┆ Oklaho ┆ Platin ┆ Unempl ┆ Card   ┆ 0      ┆ 1557.5 │\n",
              "│         ┆ -01 00: ┆        ┆     ┆         ┆ ma     ┆ um     ┆ oyment ┆        ┆        ┆        │\n",
              "│         ┆ 04:00   ┆        ┆     ┆         ┆        ┆        ┆        ┆        ┆        ┆        │\n",
              "│ 1001    ┆ 2018-01 ┆ Male   ┆ 34  ┆ Married ┆ Hawaii ┆ Basic  ┆ worker ┆ PayPal ┆ 1      ┆ 153.55 │\n",
              "│         ┆ -01 00: ┆        ┆     ┆         ┆        ┆        ┆ s      ┆        ┆        ┆        │\n",
              "│         ┆ 06:00   ┆        ┆     ┆         ┆        ┆        ┆        ┆        ┆        ┆        │\n",
              "│ 1003    ┆ 2018-01 ┆ Male   ┆ 33  ┆ Married ┆ Wiscon ┆ Basic  ┆ self-e ┆ Card   ┆ 1      ┆ 293.58 │\n",
              "│         ┆ -01 00: ┆        ┆     ┆         ┆ sin    ┆        ┆ mploye ┆        ┆        ┆        │\n",
              "│         ┆ 23:00   ┆        ┆     ┆         ┆        ┆        ┆ d      ┆        ┆        ┆        │\n",
              "│ 1004    ┆ 2018-01 ┆ Female ┆ 36  ┆ Married ┆ Texas  ┆ Platin ┆ Employ ┆ Card   ┆ 0      ┆ 1608.0 │\n",
              "│         ┆ -01 00: ┆        ┆     ┆         ┆        ┆ um     ┆ ees    ┆        ┆        ┆ 1      │\n",
              "│         ┆ 25:00   ┆        ┆     ┆         ┆        ┆        ┆        ┆        ┆        ┆        │\n",
              "│ 1007    ┆ 2018-01 ┆ Female ┆ 35  ┆ Married ┆ Hawaii ┆ Basic  ┆ worker ┆ Other  ┆ 1      ┆ 1851.5 │\n",
              "│         ┆ -01 00: ┆        ┆     ┆         ┆        ┆        ┆ s      ┆        ┆        ┆ 8      │\n",
              "│         ┆ 29:00   ┆        ┆     ┆         ┆        ┆        ┆        ┆        ┆        ┆        │\n",
              "│ …       ┆ …       ┆ …      ┆ …   ┆ …       ┆ …      ┆ …      ┆ …      ┆ …      ┆ …      ┆ …      │\n",
              "│ 1000978 ┆ 2025-01 ┆ Female ┆ 31  ┆ Single  ┆ New    ┆ Silver ┆ self-e ┆ PayPal ┆ 1      ┆ null   │\n",
              "│         ┆ -30 22: ┆        ┆     ┆         ┆ York   ┆        ┆ mploye ┆        ┆        ┆        │\n",
              "│         ┆ 33:00   ┆        ┆     ┆         ┆        ┆        ┆ d      ┆        ┆        ┆        │\n",
              "│ 1000979 ┆ 2025-01 ┆ Female ┆ 40  ┆ Single  ┆ Alaska ┆ Platin ┆ worker ┆ Other  ┆ 1      ┆ null   │\n",
              "│         ┆ -30 22: ┆        ┆     ┆         ┆        ┆ um     ┆ s      ┆        ┆        ┆        │\n",
              "│         ┆ 36:00   ┆        ┆     ┆         ┆        ┆        ┆        ┆        ┆        ┆        │\n",
              "│ 1000985 ┆ 2025-01 ┆ Female ┆ 37  ┆ Married ┆ Nevada ┆ Silver ┆ self-e ┆ Other  ┆ 0      ┆ 507.25 │\n",
              "│         ┆ -30 23: ┆        ┆     ┆         ┆        ┆        ┆ mploye ┆        ┆        ┆        │\n",
              "│         ┆ 11:00   ┆        ┆     ┆         ┆        ┆        ┆ d      ┆        ┆        ┆        │\n",
              "│ 1000988 ┆ 2025-01 ┆ Female ┆ 39  ┆ Single  ┆ Florid ┆ Basic  ┆ self-e ┆ Card   ┆ 1      ┆ 1305.5 │\n",
              "│         ┆ -30 23: ┆        ┆     ┆         ┆ a      ┆        ┆ mploye ┆        ┆        ┆ 2      │\n",
              "│         ┆ 19:00   ┆        ┆     ┆         ┆        ┆        ┆ d      ┆        ┆        ┆        │\n",
              "│ 1000992 ┆ 2025-01 ┆ Female ┆ 25  ┆ Married ┆ Nebras ┆ Basic  ┆ worker ┆ PayPal ┆ 0      ┆ 1735.0 │\n",
              "│         ┆ -30 23: ┆        ┆     ┆         ┆ ka     ┆        ┆ s      ┆        ┆        ┆ 7      │\n",
              "│         ┆ 23:00   ┆        ┆     ┆         ┆        ┆        ┆        ┆        ┆        ┆        │\n",
              "└─────────┴─────────┴────────┴─────┴─────────┴────────┴────────┴────────┴────────┴────────┴────────┘"
            ],
            "text/html": [
              "<div><style>\n",
              ".dataframe > thead > tr,\n",
              ".dataframe > tbody > tr {\n",
              "  text-align: right;\n",
              "  white-space: pre-wrap;\n",
              "}\n",
              "</style>\n",
              "<small>shape: (247_320, 11)</small><table border=\"1\" class=\"dataframe\"><thead><tr><th>Transaction_ID</th><th>Transaction_date</th><th>Gender</th><th>Age</th><th>Marital_status</th><th>State_names</th><th>Segment</th><th>Employees_status</th><th>Payment_method</th><th>Referal</th><th>Amount_spent</th></tr><tr><td>i64</td><td>datetime[μs]</td><td>str</td><td>i64</td><td>str</td><td>str</td><td>str</td><td>str</td><td>str</td><td>i64</td><td>f64</td></tr></thead><tbody><tr><td>1000</td><td>2018-01-01 00:04:00</td><td>&quot;Female&quot;</td><td>39</td><td>&quot;Single&quot;</td><td>&quot;Oklahoma&quot;</td><td>&quot;Platinum&quot;</td><td>&quot;Unemployment&quot;</td><td>&quot;Card&quot;</td><td>0</td><td>1557.5</td></tr><tr><td>1001</td><td>2018-01-01 00:06:00</td><td>&quot;Male&quot;</td><td>34</td><td>&quot;Married&quot;</td><td>&quot;Hawaii&quot;</td><td>&quot;Basic&quot;</td><td>&quot;workers&quot;</td><td>&quot;PayPal&quot;</td><td>1</td><td>153.55</td></tr><tr><td>1003</td><td>2018-01-01 00:23:00</td><td>&quot;Male&quot;</td><td>33</td><td>&quot;Married&quot;</td><td>&quot;Wisconsin&quot;</td><td>&quot;Basic&quot;</td><td>&quot;self-employed&quot;</td><td>&quot;Card&quot;</td><td>1</td><td>293.58</td></tr><tr><td>1004</td><td>2018-01-01 00:25:00</td><td>&quot;Female&quot;</td><td>36</td><td>&quot;Married&quot;</td><td>&quot;Texas&quot;</td><td>&quot;Platinum&quot;</td><td>&quot;Employees&quot;</td><td>&quot;Card&quot;</td><td>0</td><td>1608.01</td></tr><tr><td>1007</td><td>2018-01-01 00:29:00</td><td>&quot;Female&quot;</td><td>35</td><td>&quot;Married&quot;</td><td>&quot;Hawaii&quot;</td><td>&quot;Basic&quot;</td><td>&quot;workers&quot;</td><td>&quot;Other&quot;</td><td>1</td><td>1851.58</td></tr><tr><td>&hellip;</td><td>&hellip;</td><td>&hellip;</td><td>&hellip;</td><td>&hellip;</td><td>&hellip;</td><td>&hellip;</td><td>&hellip;</td><td>&hellip;</td><td>&hellip;</td><td>&hellip;</td></tr><tr><td>1000978</td><td>2025-01-30 22:33:00</td><td>&quot;Female&quot;</td><td>31</td><td>&quot;Single&quot;</td><td>&quot;New York&quot;</td><td>&quot;Silver&quot;</td><td>&quot;self-employed&quot;</td><td>&quot;PayPal&quot;</td><td>1</td><td>null</td></tr><tr><td>1000979</td><td>2025-01-30 22:36:00</td><td>&quot;Female&quot;</td><td>40</td><td>&quot;Single&quot;</td><td>&quot;Alaska&quot;</td><td>&quot;Platinum&quot;</td><td>&quot;workers&quot;</td><td>&quot;Other&quot;</td><td>1</td><td>null</td></tr><tr><td>1000985</td><td>2025-01-30 23:11:00</td><td>&quot;Female&quot;</td><td>37</td><td>&quot;Married&quot;</td><td>&quot;Nevada&quot;</td><td>&quot;Silver&quot;</td><td>&quot;self-employed&quot;</td><td>&quot;Other&quot;</td><td>0</td><td>507.25</td></tr><tr><td>1000988</td><td>2025-01-30 23:19:00</td><td>&quot;Female&quot;</td><td>39</td><td>&quot;Single&quot;</td><td>&quot;Florida&quot;</td><td>&quot;Basic&quot;</td><td>&quot;self-employed&quot;</td><td>&quot;Card&quot;</td><td>1</td><td>1305.52</td></tr><tr><td>1000992</td><td>2025-01-30 23:23:00</td><td>&quot;Female&quot;</td><td>25</td><td>&quot;Married&quot;</td><td>&quot;Nebraska&quot;</td><td>&quot;Basic&quot;</td><td>&quot;workers&quot;</td><td>&quot;PayPal&quot;</td><td>0</td><td>1735.07</td></tr></tbody></table></div>"
            ]
          },
          "metadata": {},
          "execution_count": 27
        }
      ]
    },
    {
      "cell_type": "markdown",
      "source": [
        "## 4. Data Cleaning and Preprocessing"
      ],
      "metadata": {
        "id": "GhR_FPqQ-7dh"
      }
    },
    {
      "cell_type": "markdown",
      "source": [
        "### Handling Missing Values"
      ],
      "metadata": {
        "id": "w06jF1ZI_O2m"
      }
    },
    {
      "cell_type": "markdown",
      "source": [
        "**Checking for Missing Values**"
      ],
      "metadata": {
        "id": "GfX-BNJ0PAOL"
      }
    },
    {
      "cell_type": "code",
      "source": [
        "df_clean = df\n",
        "df_clean.null_count()"
      ],
      "metadata": {
        "colab": {
          "base_uri": "https://localhost:8080/",
          "height": 129
        },
        "id": "4Bp8icuy4ohQ",
        "outputId": "5cfe3475-5063-4d14-891d-d53716b29a82"
      },
      "execution_count": null,
      "outputs": [
        {
          "output_type": "execute_result",
          "data": {
            "text/plain": [
              "shape: (1, 11)\n",
              "┌─────────┬────────┬────────┬───────┬────────┬────────┬────────┬────────┬────────┬────────┬────────┐\n",
              "│ Transac ┆ Transa ┆ Gender ┆ Age   ┆ Marita ┆ State_ ┆ Segmen ┆ Employ ┆ Paymen ┆ Refera ┆ Amount │\n",
              "│ tion_ID ┆ ction_ ┆ ---    ┆ ---   ┆ l_stat ┆ names  ┆ t      ┆ ees_st ┆ t_meth ┆ l      ┆ _spent │\n",
              "│ ---     ┆ date   ┆ u32    ┆ u32   ┆ us     ┆ ---    ┆ ---    ┆ atus   ┆ od     ┆ ---    ┆ ---    │\n",
              "│ u32     ┆ ---    ┆        ┆       ┆ ---    ┆ u32    ┆ u32    ┆ ---    ┆ ---    ┆ u32    ┆ u32    │\n",
              "│         ┆ u32    ┆        ┆       ┆ u32    ┆        ┆        ┆ u32    ┆ u32    ┆        ┆        │\n",
              "╞═════════╪════════╪════════╪═══════╪════════╪════════╪════════╪════════╪════════╪════════╪════════╡\n",
              "│ 0       ┆ 0      ┆ 11052  ┆ 16654 ┆ 0      ┆ 0      ┆ 0      ┆ 10225  ┆ 0      ┆ 61812  ┆ 96065  │\n",
              "└─────────┴────────┴────────┴───────┴────────┴────────┴────────┴────────┴────────┴────────┴────────┘"
            ],
            "text/html": [
              "<div><style>\n",
              ".dataframe > thead > tr,\n",
              ".dataframe > tbody > tr {\n",
              "  text-align: right;\n",
              "  white-space: pre-wrap;\n",
              "}\n",
              "</style>\n",
              "<small>shape: (1, 11)</small><table border=\"1\" class=\"dataframe\"><thead><tr><th>Transaction_ID</th><th>Transaction_date</th><th>Gender</th><th>Age</th><th>Marital_status</th><th>State_names</th><th>Segment</th><th>Employees_status</th><th>Payment_method</th><th>Referal</th><th>Amount_spent</th></tr><tr><td>u32</td><td>u32</td><td>u32</td><td>u32</td><td>u32</td><td>u32</td><td>u32</td><td>u32</td><td>u32</td><td>u32</td><td>u32</td></tr></thead><tbody><tr><td>0</td><td>0</td><td>11052</td><td>16654</td><td>0</td><td>0</td><td>0</td><td>10225</td><td>0</td><td>61812</td><td>96065</td></tr></tbody></table></div>"
            ]
          },
          "metadata": {},
          "execution_count": 14
        }
      ]
    },
    {
      "cell_type": "markdown",
      "source": [
        "**Dropping Missing Values**"
      ],
      "metadata": {
        "id": "TQTjicyLPhdd"
      }
    },
    {
      "cell_type": "code",
      "source": [
        "df_clean = df.drop(\"Referal\")  # Removes the 'Referal' column\n",
        "df_clean.head(4)"
      ],
      "metadata": {
        "colab": {
          "base_uri": "https://localhost:8080/",
          "height": 223
        },
        "id": "98aFUWgq4oe9",
        "outputId": "bd581636-6096-416b-9d71-94e5bc932eaa"
      },
      "execution_count": null,
      "outputs": [
        {
          "output_type": "execute_result",
          "data": {
            "text/plain": [
              "shape: (4, 10)\n",
              "┌──────────┬──────────┬────────┬─────┬──────────┬──────────┬─────────┬─────────┬─────────┬─────────┐\n",
              "│ Transact ┆ Transact ┆ Gender ┆ Age ┆ Marital_ ┆ State_na ┆ Segment ┆ Employe ┆ Payment ┆ Amount_ │\n",
              "│ ion_ID   ┆ ion_date ┆ ---    ┆ --- ┆ status   ┆ mes      ┆ ---     ┆ es_stat ┆ _method ┆ spent   │\n",
              "│ ---      ┆ ---      ┆ str    ┆ i64 ┆ ---      ┆ ---      ┆ str     ┆ us      ┆ ---     ┆ ---     │\n",
              "│ i64      ┆ datetime ┆        ┆     ┆ str      ┆ str      ┆         ┆ ---     ┆ str     ┆ f64     │\n",
              "│          ┆ [μs]     ┆        ┆     ┆          ┆          ┆         ┆ str     ┆         ┆         │\n",
              "╞══════════╪══════════╪════════╪═════╪══════════╪══════════╪═════════╪═════════╪═════════╪═════════╡\n",
              "│ 1000     ┆ 2018-01- ┆ Female ┆ 39  ┆ Single   ┆ Oklahoma ┆ Platinu ┆ Unemplo ┆ Card    ┆ 1557.5  │\n",
              "│          ┆ 01       ┆        ┆     ┆          ┆          ┆ m       ┆ yment   ┆         ┆         │\n",
              "│          ┆ 00:04:00 ┆        ┆     ┆          ┆          ┆         ┆         ┆         ┆         │\n",
              "│ 1001     ┆ 2018-01- ┆ Male   ┆ 34  ┆ Married  ┆ Hawaii   ┆ Basic   ┆ workers ┆ PayPal  ┆ 153.55  │\n",
              "│          ┆ 01       ┆        ┆     ┆          ┆          ┆         ┆         ┆         ┆         │\n",
              "│          ┆ 00:06:00 ┆        ┆     ┆          ┆          ┆         ┆         ┆         ┆         │\n",
              "│ 1002     ┆ 2018-01- ┆ Female ┆ 53  ┆ Married  ┆ Iowa     ┆ Basic   ┆ self-em ┆ PayPal  ┆ 2640.96 │\n",
              "│          ┆ 01       ┆        ┆     ┆          ┆          ┆         ┆ ployed  ┆         ┆         │\n",
              "│          ┆ 00:14:00 ┆        ┆     ┆          ┆          ┆         ┆         ┆         ┆         │\n",
              "│ 1003     ┆ 2018-01- ┆ Male   ┆ 33  ┆ Married  ┆ Wisconsi ┆ Basic   ┆ self-em ┆ Card    ┆ 293.58  │\n",
              "│          ┆ 01       ┆        ┆     ┆          ┆ n        ┆         ┆ ployed  ┆         ┆         │\n",
              "│          ┆ 00:23:00 ┆        ┆     ┆          ┆          ┆         ┆         ┆         ┆         │\n",
              "└──────────┴──────────┴────────┴─────┴──────────┴──────────┴─────────┴─────────┴─────────┴─────────┘"
            ],
            "text/html": [
              "<div><style>\n",
              ".dataframe > thead > tr,\n",
              ".dataframe > tbody > tr {\n",
              "  text-align: right;\n",
              "  white-space: pre-wrap;\n",
              "}\n",
              "</style>\n",
              "<small>shape: (4, 10)</small><table border=\"1\" class=\"dataframe\"><thead><tr><th>Transaction_ID</th><th>Transaction_date</th><th>Gender</th><th>Age</th><th>Marital_status</th><th>State_names</th><th>Segment</th><th>Employees_status</th><th>Payment_method</th><th>Amount_spent</th></tr><tr><td>i64</td><td>datetime[μs]</td><td>str</td><td>i64</td><td>str</td><td>str</td><td>str</td><td>str</td><td>str</td><td>f64</td></tr></thead><tbody><tr><td>1000</td><td>2018-01-01 00:04:00</td><td>&quot;Female&quot;</td><td>39</td><td>&quot;Single&quot;</td><td>&quot;Oklahoma&quot;</td><td>&quot;Platinum&quot;</td><td>&quot;Unemployment&quot;</td><td>&quot;Card&quot;</td><td>1557.5</td></tr><tr><td>1001</td><td>2018-01-01 00:06:00</td><td>&quot;Male&quot;</td><td>34</td><td>&quot;Married&quot;</td><td>&quot;Hawaii&quot;</td><td>&quot;Basic&quot;</td><td>&quot;workers&quot;</td><td>&quot;PayPal&quot;</td><td>153.55</td></tr><tr><td>1002</td><td>2018-01-01 00:14:00</td><td>&quot;Female&quot;</td><td>53</td><td>&quot;Married&quot;</td><td>&quot;Iowa&quot;</td><td>&quot;Basic&quot;</td><td>&quot;self-employed&quot;</td><td>&quot;PayPal&quot;</td><td>2640.96</td></tr><tr><td>1003</td><td>2018-01-01 00:23:00</td><td>&quot;Male&quot;</td><td>33</td><td>&quot;Married&quot;</td><td>&quot;Wisconsin&quot;</td><td>&quot;Basic&quot;</td><td>&quot;self-employed&quot;</td><td>&quot;Card&quot;</td><td>293.58</td></tr></tbody></table></div>"
            ]
          },
          "metadata": {},
          "execution_count": 15
        }
      ]
    },
    {
      "cell_type": "code",
      "source": [
        "df_clean.drop_nulls(subset=[\"Gender\"])"
      ],
      "metadata": {
        "colab": {
          "base_uri": "https://localhost:8080/",
          "height": 443
        },
        "id": "0yGBktzI4ocU",
        "outputId": "e5e1e857-92cc-4ca1-c004-6db9213d12a1"
      },
      "execution_count": null,
      "outputs": [
        {
          "output_type": "execute_result",
          "data": {
            "text/plain": [
              "shape: (988_948, 10)\n",
              "┌──────────┬──────────┬────────┬─────┬──────────┬──────────┬─────────┬─────────┬─────────┬─────────┐\n",
              "│ Transact ┆ Transact ┆ Gender ┆ Age ┆ Marital_ ┆ State_na ┆ Segment ┆ Employe ┆ Payment ┆ Amount_ │\n",
              "│ ion_ID   ┆ ion_date ┆ ---    ┆ --- ┆ status   ┆ mes      ┆ ---     ┆ es_stat ┆ _method ┆ spent   │\n",
              "│ ---      ┆ ---      ┆ str    ┆ i64 ┆ ---      ┆ ---      ┆ str     ┆ us      ┆ ---     ┆ ---     │\n",
              "│ i64      ┆ datetime ┆        ┆     ┆ str      ┆ str      ┆         ┆ ---     ┆ str     ┆ f64     │\n",
              "│          ┆ [μs]     ┆        ┆     ┆          ┆          ┆         ┆ str     ┆         ┆         │\n",
              "╞══════════╪══════════╪════════╪═════╪══════════╪══════════╪═════════╪═════════╪═════════╪═════════╡\n",
              "│ 1000     ┆ 2018-01- ┆ Female ┆ 39  ┆ Single   ┆ Oklahoma ┆ Platinu ┆ Unemplo ┆ Card    ┆ 1557.5  │\n",
              "│          ┆ 01       ┆        ┆     ┆          ┆          ┆ m       ┆ yment   ┆         ┆         │\n",
              "│          ┆ 00:04:00 ┆        ┆     ┆          ┆          ┆         ┆         ┆         ┆         │\n",
              "│ 1001     ┆ 2018-01- ┆ Male   ┆ 34  ┆ Married  ┆ Hawaii   ┆ Basic   ┆ workers ┆ PayPal  ┆ 153.55  │\n",
              "│          ┆ 01       ┆        ┆     ┆          ┆          ┆         ┆         ┆         ┆         │\n",
              "│          ┆ 00:06:00 ┆        ┆     ┆          ┆          ┆         ┆         ┆         ┆         │\n",
              "│ 1002     ┆ 2018-01- ┆ Female ┆ 53  ┆ Married  ┆ Iowa     ┆ Basic   ┆ self-em ┆ PayPal  ┆ 2640.96 │\n",
              "│          ┆ 01       ┆        ┆     ┆          ┆          ┆         ┆ ployed  ┆         ┆         │\n",
              "│          ┆ 00:14:00 ┆        ┆     ┆          ┆          ┆         ┆         ┆         ┆         │\n",
              "│ 1003     ┆ 2018-01- ┆ Male   ┆ 33  ┆ Married  ┆ Wisconsi ┆ Basic   ┆ self-em ┆ Card    ┆ 293.58  │\n",
              "│          ┆ 01       ┆        ┆     ┆          ┆ n        ┆         ┆ ployed  ┆         ┆         │\n",
              "│          ┆ 00:23:00 ┆        ┆     ┆          ┆          ┆         ┆         ┆         ┆         │\n",
              "│ 1004     ┆ 2018-01- ┆ Female ┆ 36  ┆ Married  ┆ Texas    ┆ Platinu ┆ Employe ┆ Card    ┆ 1608.01 │\n",
              "│          ┆ 01       ┆        ┆     ┆          ┆          ┆ m       ┆ es      ┆         ┆         │\n",
              "│          ┆ 00:25:00 ┆        ┆     ┆          ┆          ┆         ┆         ┆         ┆         │\n",
              "│ …        ┆ …        ┆ …      ┆ …   ┆ …        ┆ …        ┆ …       ┆ …       ┆ …       ┆ …       │\n",
              "│ 1000995  ┆ 2025-01- ┆ Male   ┆ 45  ┆ Single   ┆ Arkansas ┆ Gold    ┆ Employe ┆ PayPal  ┆ 1762.76 │\n",
              "│          ┆ 30       ┆        ┆     ┆          ┆          ┆         ┆ es      ┆         ┆         │\n",
              "│          ┆ 23:43:00 ┆        ┆     ┆          ┆          ┆         ┆         ┆         ┆         │\n",
              "│ 1000996  ┆ 2025-01- ┆ Female ┆ 75  ┆ Married  ┆ Virginia ┆ Silver  ┆ workers ┆ Other   ┆ 31.41   │\n",
              "│          ┆ 30       ┆        ┆     ┆          ┆          ┆         ┆         ┆         ┆         │\n",
              "│          ┆ 23:45:00 ┆        ┆     ┆          ┆          ┆         ┆         ┆         ┆         │\n",
              "│ 1000997  ┆ 2025-01- ┆ Female ┆ 61  ┆ Married  ┆ Kansas   ┆ Basic   ┆ self-em ┆ Other   ┆ 1699.31 │\n",
              "│          ┆ 30       ┆        ┆     ┆          ┆          ┆         ┆ ployed  ┆         ┆         │\n",
              "│          ┆ 23:47:00 ┆        ┆     ┆          ┆          ┆         ┆         ┆         ┆         │\n",
              "│ 1000998  ┆ 2025-01- ┆ Female ┆ 68  ┆ Married  ┆ Utah     ┆ Basic   ┆ Employe ┆ PayPal  ┆ 208.26  │\n",
              "│          ┆ 30       ┆        ┆     ┆          ┆          ┆         ┆ es      ┆         ┆         │\n",
              "│          ┆ 23:52:00 ┆        ┆     ┆          ┆          ┆         ┆         ┆         ┆         │\n",
              "│ 1000999  ┆ 2025-01- ┆ Male   ┆ 55  ┆ Single   ┆ Nevada   ┆ Missing ┆ workers ┆ PayPal  ┆ 2063.92 │\n",
              "│          ┆ 30       ┆        ┆     ┆          ┆          ┆         ┆         ┆         ┆         │\n",
              "│          ┆ 23:57:00 ┆        ┆     ┆          ┆          ┆         ┆         ┆         ┆         │\n",
              "└──────────┴──────────┴────────┴─────┴──────────┴──────────┴─────────┴─────────┴─────────┴─────────┘"
            ],
            "text/html": [
              "<div><style>\n",
              ".dataframe > thead > tr,\n",
              ".dataframe > tbody > tr {\n",
              "  text-align: right;\n",
              "  white-space: pre-wrap;\n",
              "}\n",
              "</style>\n",
              "<small>shape: (988_948, 10)</small><table border=\"1\" class=\"dataframe\"><thead><tr><th>Transaction_ID</th><th>Transaction_date</th><th>Gender</th><th>Age</th><th>Marital_status</th><th>State_names</th><th>Segment</th><th>Employees_status</th><th>Payment_method</th><th>Amount_spent</th></tr><tr><td>i64</td><td>datetime[μs]</td><td>str</td><td>i64</td><td>str</td><td>str</td><td>str</td><td>str</td><td>str</td><td>f64</td></tr></thead><tbody><tr><td>1000</td><td>2018-01-01 00:04:00</td><td>&quot;Female&quot;</td><td>39</td><td>&quot;Single&quot;</td><td>&quot;Oklahoma&quot;</td><td>&quot;Platinum&quot;</td><td>&quot;Unemployment&quot;</td><td>&quot;Card&quot;</td><td>1557.5</td></tr><tr><td>1001</td><td>2018-01-01 00:06:00</td><td>&quot;Male&quot;</td><td>34</td><td>&quot;Married&quot;</td><td>&quot;Hawaii&quot;</td><td>&quot;Basic&quot;</td><td>&quot;workers&quot;</td><td>&quot;PayPal&quot;</td><td>153.55</td></tr><tr><td>1002</td><td>2018-01-01 00:14:00</td><td>&quot;Female&quot;</td><td>53</td><td>&quot;Married&quot;</td><td>&quot;Iowa&quot;</td><td>&quot;Basic&quot;</td><td>&quot;self-employed&quot;</td><td>&quot;PayPal&quot;</td><td>2640.96</td></tr><tr><td>1003</td><td>2018-01-01 00:23:00</td><td>&quot;Male&quot;</td><td>33</td><td>&quot;Married&quot;</td><td>&quot;Wisconsin&quot;</td><td>&quot;Basic&quot;</td><td>&quot;self-employed&quot;</td><td>&quot;Card&quot;</td><td>293.58</td></tr><tr><td>1004</td><td>2018-01-01 00:25:00</td><td>&quot;Female&quot;</td><td>36</td><td>&quot;Married&quot;</td><td>&quot;Texas&quot;</td><td>&quot;Platinum&quot;</td><td>&quot;Employees&quot;</td><td>&quot;Card&quot;</td><td>1608.01</td></tr><tr><td>&hellip;</td><td>&hellip;</td><td>&hellip;</td><td>&hellip;</td><td>&hellip;</td><td>&hellip;</td><td>&hellip;</td><td>&hellip;</td><td>&hellip;</td><td>&hellip;</td></tr><tr><td>1000995</td><td>2025-01-30 23:43:00</td><td>&quot;Male&quot;</td><td>45</td><td>&quot;Single&quot;</td><td>&quot;Arkansas&quot;</td><td>&quot;Gold&quot;</td><td>&quot;Employees&quot;</td><td>&quot;PayPal&quot;</td><td>1762.76</td></tr><tr><td>1000996</td><td>2025-01-30 23:45:00</td><td>&quot;Female&quot;</td><td>75</td><td>&quot;Married&quot;</td><td>&quot;Virginia&quot;</td><td>&quot;Silver&quot;</td><td>&quot;workers&quot;</td><td>&quot;Other&quot;</td><td>31.41</td></tr><tr><td>1000997</td><td>2025-01-30 23:47:00</td><td>&quot;Female&quot;</td><td>61</td><td>&quot;Married&quot;</td><td>&quot;Kansas&quot;</td><td>&quot;Basic&quot;</td><td>&quot;self-employed&quot;</td><td>&quot;Other&quot;</td><td>1699.31</td></tr><tr><td>1000998</td><td>2025-01-30 23:52:00</td><td>&quot;Female&quot;</td><td>68</td><td>&quot;Married&quot;</td><td>&quot;Utah&quot;</td><td>&quot;Basic&quot;</td><td>&quot;Employees&quot;</td><td>&quot;PayPal&quot;</td><td>208.26</td></tr><tr><td>1000999</td><td>2025-01-30 23:57:00</td><td>&quot;Male&quot;</td><td>55</td><td>&quot;Single&quot;</td><td>&quot;Nevada&quot;</td><td>&quot;Missing&quot;</td><td>&quot;workers&quot;</td><td>&quot;PayPal&quot;</td><td>2063.92</td></tr></tbody></table></div>"
            ]
          },
          "metadata": {},
          "execution_count": 16
        }
      ]
    },
    {
      "cell_type": "markdown",
      "source": [
        "**Filling Missing Values (Imputation)**"
      ],
      "metadata": {
        "id": "l8JLbhDcQSIQ"
      }
    },
    {
      "cell_type": "code",
      "source": [
        "# replace missing values in Gender with \"Unknown\":\n",
        "df_clean = df_clean.with_columns(pl.col(\"Gender\").fill_null(\"Unknown\"))\n"
      ],
      "metadata": {
        "id": "UJ4EFdBCDyfJ"
      },
      "execution_count": null,
      "outputs": []
    },
    {
      "cell_type": "code",
      "source": [
        "# replace missing values with zero or another fixed value:\n",
        "df_clean = df_clean.with_columns(pl.col(\"Amount_spent\").fill_null(0))"
      ],
      "metadata": {
        "id": "vHoskLH0Dycd"
      },
      "execution_count": null,
      "outputs": []
    },
    {
      "cell_type": "markdown",
      "source": [
        "#### Filling with Statistical Measures"
      ],
      "metadata": {
        "id": "m2eLNzMJRLPq"
      }
    },
    {
      "cell_type": "markdown",
      "source": [
        "**Replace missing values in Age with the median:**"
      ],
      "metadata": {
        "id": "r14ui4ElRQ11"
      }
    },
    {
      "cell_type": "code",
      "source": [
        "median_age = df_clean[\"Age\"].median()\n",
        "df_clean = df_clean.with_columns(pl.col(\"Age\").fill_null(median_age))"
      ],
      "metadata": {
        "id": "CRD62Q4MDyZg"
      },
      "execution_count": null,
      "outputs": []
    },
    {
      "cell_type": "markdown",
      "source": [
        "**Replace missing values in Amount_spent with the mean:**"
      ],
      "metadata": {
        "id": "Zk87WgYPRjK-"
      }
    },
    {
      "cell_type": "code",
      "source": [
        "df_clean = df\n",
        "mean_spent = df_clean[\"Amount_spent\"].mean()\n",
        "df_clean = df_clean.with_columns(pl.col(\"Amount_spent\").fill_null(mean_spent))"
      ],
      "metadata": {
        "id": "kgQUcRrdDyW6"
      },
      "execution_count": null,
      "outputs": []
    },
    {
      "cell_type": "markdown",
      "source": [
        "**Replace missing values in Gender with the most frequent value (mode):**"
      ],
      "metadata": {
        "id": "rxu2fczIR2p0"
      }
    },
    {
      "cell_type": "code",
      "source": [
        "mode_gender = df[\"Gender\"].mode()[0]  # Get most common value\n",
        "df = df.with_columns(pl.col(\"Gender\").fill_null(mode_gender))"
      ],
      "metadata": {
        "id": "_21rFEnGWLHz"
      },
      "execution_count": null,
      "outputs": []
    },
    {
      "cell_type": "markdown",
      "source": [
        "**Forward Filling** use the previous row’s value to fill the missing value"
      ],
      "metadata": {
        "id": "4kOcETIMSG68"
      }
    },
    {
      "cell_type": "code",
      "source": [
        "df_clean = df\n",
        "df_clean = df_clean.with_columns(pl.col(\"Amount_spent\").fill_null(strategy=\"forward\"))"
      ],
      "metadata": {
        "id": "X7JPyoRlWLEl"
      },
      "execution_count": null,
      "outputs": []
    },
    {
      "cell_type": "markdown",
      "source": [
        "**Backward fill** (use the next row’s value to fill the missing value):"
      ],
      "metadata": {
        "id": "QFYb6A5zSh3T"
      }
    },
    {
      "cell_type": "code",
      "source": [
        "df_clean = df\n",
        "df = df.with_columns(pl.col(\"Amount_spent\").fill_null(strategy=\"backward\"))"
      ],
      "metadata": {
        "id": "W6K1xS428w2V"
      },
      "execution_count": null,
      "outputs": []
    },
    {
      "cell_type": "markdown",
      "source": [
        "### Data Type Conversion"
      ],
      "metadata": {
        "id": "4OVf1LhaSsny"
      }
    },
    {
      "cell_type": "markdown",
      "source": [
        "**Checking Data Types**"
      ],
      "metadata": {
        "id": "lVwn7sDqSz7y"
      }
    },
    {
      "cell_type": "code",
      "source": [
        "df.schema"
      ],
      "metadata": {
        "id": "Ma3xItVi8wzm",
        "colab": {
          "base_uri": "https://localhost:8080/"
        },
        "outputId": "6556b293-0962-425b-9362-1c2dc9a2a7e3"
      },
      "execution_count": null,
      "outputs": [
        {
          "output_type": "execute_result",
          "data": {
            "text/plain": [
              "Schema([('Transaction_ID', Int64),\n",
              "        ('Transaction_date', Datetime(time_unit='us', time_zone=None)),\n",
              "        ('Gender', String),\n",
              "        ('Age', Int64),\n",
              "        ('Marital_status', String),\n",
              "        ('State_names', String),\n",
              "        ('Segment', String),\n",
              "        ('Employees_status', String),\n",
              "        ('Payment_method', String),\n",
              "        ('Referal', Int64),\n",
              "        ('Amount_spent', Float64)])"
            ]
          },
          "metadata": {},
          "execution_count": 25
        }
      ]
    },
    {
      "cell_type": "markdown",
      "source": [
        "**Convert Referal from Int64 to String**"
      ],
      "metadata": {
        "id": "jasSXUtZS-z3"
      }
    },
    {
      "cell_type": "code",
      "source": [
        "df = df.with_columns(pl.col(\"Referal\").cast(pl.Utf8))  # Convert to String for better readability"
      ],
      "metadata": {
        "id": "apgT--Ym8ww-"
      },
      "execution_count": null,
      "outputs": []
    },
    {
      "cell_type": "code",
      "source": [
        "df.schema"
      ],
      "metadata": {
        "id": "k_Cg24PMC7uU",
        "colab": {
          "base_uri": "https://localhost:8080/"
        },
        "outputId": "ed84bd76-c043-4346-fc9b-20fd78bdc554"
      },
      "execution_count": null,
      "outputs": [
        {
          "output_type": "execute_result",
          "data": {
            "text/plain": [
              "Schema([('Transaction_ID', Int64),\n",
              "        ('Transaction_date', Datetime(time_unit='us', time_zone=None)),\n",
              "        ('Gender', String),\n",
              "        ('Age', Int64),\n",
              "        ('Marital_status', String),\n",
              "        ('State_names', String),\n",
              "        ('Segment', String),\n",
              "        ('Employees_status', String),\n",
              "        ('Payment_method', String),\n",
              "        ('Referal', String),\n",
              "        ('Amount_spent', Float64)])"
            ]
          },
          "metadata": {},
          "execution_count": 27
        }
      ]
    },
    {
      "cell_type": "markdown",
      "source": [
        "**Convert Age from Int64 to Float64**"
      ],
      "metadata": {
        "id": "eUf2gxs5TgZV"
      }
    },
    {
      "cell_type": "code",
      "source": [
        "df = df.with_columns(pl.col(\"Age\").cast(pl.Float64))\n"
      ],
      "metadata": {
        "id": "V-kO46aWThyF"
      },
      "execution_count": null,
      "outputs": []
    },
    {
      "cell_type": "markdown",
      "source": [
        "**Format Transaction_date to a standard YYYY-MM-DD format**"
      ],
      "metadata": {
        "id": "el151uURTody"
      }
    },
    {
      "cell_type": "code",
      "source": [
        "df = df.with_columns(pl.col(\"Transaction_date\").dt.strftime(\"%Y-%m-%d\"))"
      ],
      "metadata": {
        "id": "0WlOGsvYTpu1"
      },
      "execution_count": null,
      "outputs": []
    },
    {
      "cell_type": "code",
      "source": [
        "df.head()"
      ],
      "metadata": {
        "colab": {
          "base_uri": "https://localhost:8080/",
          "height": 255
        },
        "id": "ZIyFAXuXTtMj",
        "outputId": "4fcc3553-956c-4cf5-a1e3-ed652ca36353"
      },
      "execution_count": null,
      "outputs": [
        {
          "output_type": "execute_result",
          "data": {
            "text/plain": [
              "shape: (5, 11)\n",
              "┌─────────┬─────────┬────────┬──────┬────────┬────────┬────────┬────────┬────────┬────────┬────────┐\n",
              "│ Transac ┆ Transac ┆ Gender ┆ Age  ┆ Marita ┆ State_ ┆ Segmen ┆ Employ ┆ Paymen ┆ Refera ┆ Amount │\n",
              "│ tion_ID ┆ tion_da ┆ ---    ┆ ---  ┆ l_stat ┆ names  ┆ t      ┆ ees_st ┆ t_meth ┆ l      ┆ _spent │\n",
              "│ ---     ┆ te      ┆ str    ┆ f64  ┆ us     ┆ ---    ┆ ---    ┆ atus   ┆ od     ┆ ---    ┆ ---    │\n",
              "│ i64     ┆ ---     ┆        ┆      ┆ ---    ┆ str    ┆ str    ┆ ---    ┆ ---    ┆ str    ┆ f64    │\n",
              "│         ┆ str     ┆        ┆      ┆ str    ┆        ┆        ┆ str    ┆ str    ┆        ┆        │\n",
              "╞═════════╪═════════╪════════╪══════╪════════╪════════╪════════╪════════╪════════╪════════╪════════╡\n",
              "│ 1000    ┆ 2018-01 ┆ Female ┆ 39.0 ┆ Single ┆ Oklaho ┆ Platin ┆ Unempl ┆ Card   ┆ 0      ┆ 1557.5 │\n",
              "│         ┆ -01     ┆        ┆      ┆        ┆ ma     ┆ um     ┆ oyment ┆        ┆        ┆        │\n",
              "│ 1001    ┆ 2018-01 ┆ Male   ┆ 34.0 ┆ Marrie ┆ Hawaii ┆ Basic  ┆ worker ┆ PayPal ┆ 1      ┆ 153.55 │\n",
              "│         ┆ -01     ┆        ┆      ┆ d      ┆        ┆        ┆ s      ┆        ┆        ┆        │\n",
              "│ 1002    ┆ 2018-01 ┆ Female ┆ 53.0 ┆ Marrie ┆ Iowa   ┆ Basic  ┆ self-e ┆ PayPal ┆ 1      ┆ 2640.9 │\n",
              "│         ┆ -01     ┆        ┆      ┆ d      ┆        ┆        ┆ mploye ┆        ┆        ┆ 6      │\n",
              "│         ┆         ┆        ┆      ┆        ┆        ┆        ┆ d      ┆        ┆        ┆        │\n",
              "│ 1003    ┆ 2018-01 ┆ Male   ┆ 33.0 ┆ Marrie ┆ Wiscon ┆ Basic  ┆ self-e ┆ Card   ┆ 1      ┆ 293.58 │\n",
              "│         ┆ -01     ┆        ┆      ┆ d      ┆ sin    ┆        ┆ mploye ┆        ┆        ┆        │\n",
              "│         ┆         ┆        ┆      ┆        ┆        ┆        ┆ d      ┆        ┆        ┆        │\n",
              "│ 1004    ┆ 2018-01 ┆ Female ┆ 36.0 ┆ Marrie ┆ Texas  ┆ Platin ┆ Employ ┆ Card   ┆ 0      ┆ 1608.0 │\n",
              "│         ┆ -01     ┆        ┆      ┆ d      ┆        ┆ um     ┆ ees    ┆        ┆        ┆ 1      │\n",
              "└─────────┴─────────┴────────┴──────┴────────┴────────┴────────┴────────┴────────┴────────┴────────┘"
            ],
            "text/html": [
              "<div><style>\n",
              ".dataframe > thead > tr,\n",
              ".dataframe > tbody > tr {\n",
              "  text-align: right;\n",
              "  white-space: pre-wrap;\n",
              "}\n",
              "</style>\n",
              "<small>shape: (5, 11)</small><table border=\"1\" class=\"dataframe\"><thead><tr><th>Transaction_ID</th><th>Transaction_date</th><th>Gender</th><th>Age</th><th>Marital_status</th><th>State_names</th><th>Segment</th><th>Employees_status</th><th>Payment_method</th><th>Referal</th><th>Amount_spent</th></tr><tr><td>i64</td><td>str</td><td>str</td><td>f64</td><td>str</td><td>str</td><td>str</td><td>str</td><td>str</td><td>str</td><td>f64</td></tr></thead><tbody><tr><td>1000</td><td>&quot;2018-01-01&quot;</td><td>&quot;Female&quot;</td><td>39.0</td><td>&quot;Single&quot;</td><td>&quot;Oklahoma&quot;</td><td>&quot;Platinum&quot;</td><td>&quot;Unemployment&quot;</td><td>&quot;Card&quot;</td><td>&quot;0&quot;</td><td>1557.5</td></tr><tr><td>1001</td><td>&quot;2018-01-01&quot;</td><td>&quot;Male&quot;</td><td>34.0</td><td>&quot;Married&quot;</td><td>&quot;Hawaii&quot;</td><td>&quot;Basic&quot;</td><td>&quot;workers&quot;</td><td>&quot;PayPal&quot;</td><td>&quot;1&quot;</td><td>153.55</td></tr><tr><td>1002</td><td>&quot;2018-01-01&quot;</td><td>&quot;Female&quot;</td><td>53.0</td><td>&quot;Married&quot;</td><td>&quot;Iowa&quot;</td><td>&quot;Basic&quot;</td><td>&quot;self-employed&quot;</td><td>&quot;PayPal&quot;</td><td>&quot;1&quot;</td><td>2640.96</td></tr><tr><td>1003</td><td>&quot;2018-01-01&quot;</td><td>&quot;Male&quot;</td><td>33.0</td><td>&quot;Married&quot;</td><td>&quot;Wisconsin&quot;</td><td>&quot;Basic&quot;</td><td>&quot;self-employed&quot;</td><td>&quot;Card&quot;</td><td>&quot;1&quot;</td><td>293.58</td></tr><tr><td>1004</td><td>&quot;2018-01-01&quot;</td><td>&quot;Female&quot;</td><td>36.0</td><td>&quot;Married&quot;</td><td>&quot;Texas&quot;</td><td>&quot;Platinum&quot;</td><td>&quot;Employees&quot;</td><td>&quot;Card&quot;</td><td>&quot;0&quot;</td><td>1608.01</td></tr></tbody></table></div>"
            ]
          },
          "metadata": {},
          "execution_count": 30
        }
      ]
    },
    {
      "cell_type": "markdown",
      "source": [
        "## 5. Advanced Data Transformations"
      ],
      "metadata": {
        "id": "8kpUuTgZTyld"
      }
    },
    {
      "cell_type": "markdown",
      "source": [
        "#### GroupBy and Aggregations"
      ],
      "metadata": {
        "id": "ee-6tzbkT68G"
      }
    },
    {
      "cell_type": "markdown",
      "source": [
        "**To calculate total spending per gender:**"
      ],
      "metadata": {
        "id": "ak8nKR2OUAz-"
      }
    },
    {
      "cell_type": "code",
      "source": [
        "df.group_by(\"Gender\").agg(pl.sum(\"Amount_spent\"))"
      ],
      "metadata": {
        "colab": {
          "base_uri": "https://localhost:8080/",
          "height": 161
        },
        "id": "tPatjxEWT0a4",
        "outputId": "1ecd1214-339e-49bc-8092-643cb44fdd4e"
      },
      "execution_count": null,
      "outputs": [
        {
          "output_type": "execute_result",
          "data": {
            "text/plain": [
              "shape: (2, 2)\n",
              "┌────────┬──────────────┐\n",
              "│ Gender ┆ Amount_spent │\n",
              "│ ---    ┆ ---          │\n",
              "│ str    ┆ f64          │\n",
              "╞════════╪══════════════╡\n",
              "│ Female ┆ 7.8495e8     │\n",
              "│ Male   ┆ 6.3171e8     │\n",
              "└────────┴──────────────┘"
            ],
            "text/html": [
              "<div><style>\n",
              ".dataframe > thead > tr,\n",
              ".dataframe > tbody > tr {\n",
              "  text-align: right;\n",
              "  white-space: pre-wrap;\n",
              "}\n",
              "</style>\n",
              "<small>shape: (2, 2)</small><table border=\"1\" class=\"dataframe\"><thead><tr><th>Gender</th><th>Amount_spent</th></tr><tr><td>str</td><td>f64</td></tr></thead><tbody><tr><td>&quot;Female&quot;</td><td>7.8495e8</td></tr><tr><td>&quot;Male&quot;</td><td>6.3171e8</td></tr></tbody></table></div>"
            ]
          },
          "metadata": {},
          "execution_count": 31
        }
      ]
    },
    {
      "cell_type": "markdown",
      "source": [
        "**To calculate total amount spent by Gender and Payment Method:**"
      ],
      "metadata": {
        "id": "tRp1TZKLUFBf"
      }
    },
    {
      "cell_type": "code",
      "source": [
        "df.group_by([\"Gender\", \"Payment_method\"]) \\\n",
        "  .agg(pl.sum(\"Amount_spent\").cast(pl.Int64)) \\\n",
        "  .sort([\"Gender\", \"Payment_method\"])"
      ],
      "metadata": {
        "colab": {
          "base_uri": "https://localhost:8080/",
          "height": 286
        },
        "id": "WszWC9_iUGYT",
        "outputId": "92a8b5ee-9e13-4ac5-97be-2abacfd72930"
      },
      "execution_count": null,
      "outputs": [
        {
          "output_type": "execute_result",
          "data": {
            "text/plain": [
              "shape: (6, 3)\n",
              "┌────────┬────────────────┬──────────────┐\n",
              "│ Gender ┆ Payment_method ┆ Amount_spent │\n",
              "│ ---    ┆ ---            ┆ ---          │\n",
              "│ str    ┆ str            ┆ i64          │\n",
              "╞════════╪════════════════╪══════════════╡\n",
              "│ Female ┆ Card           ┆ 251092780    │\n",
              "│ Female ┆ Other          ┆ 186728178    │\n",
              "│ Female ┆ PayPal         ┆ 347128441    │\n",
              "│ Male   ┆ Card           ┆ 166060495    │\n",
              "│ Male   ┆ Other          ┆ 156921359    │\n",
              "│ Male   ┆ PayPal         ┆ 308726924    │\n",
              "└────────┴────────────────┴──────────────┘"
            ],
            "text/html": [
              "<div><style>\n",
              ".dataframe > thead > tr,\n",
              ".dataframe > tbody > tr {\n",
              "  text-align: right;\n",
              "  white-space: pre-wrap;\n",
              "}\n",
              "</style>\n",
              "<small>shape: (6, 3)</small><table border=\"1\" class=\"dataframe\"><thead><tr><th>Gender</th><th>Payment_method</th><th>Amount_spent</th></tr><tr><td>str</td><td>str</td><td>i64</td></tr></thead><tbody><tr><td>&quot;Female&quot;</td><td>&quot;Card&quot;</td><td>251092780</td></tr><tr><td>&quot;Female&quot;</td><td>&quot;Other&quot;</td><td>186728178</td></tr><tr><td>&quot;Female&quot;</td><td>&quot;PayPal&quot;</td><td>347128441</td></tr><tr><td>&quot;Male&quot;</td><td>&quot;Card&quot;</td><td>166060495</td></tr><tr><td>&quot;Male&quot;</td><td>&quot;Other&quot;</td><td>156921359</td></tr><tr><td>&quot;Male&quot;</td><td>&quot;PayPal&quot;</td><td>308726924</td></tr></tbody></table></div>"
            ]
          },
          "metadata": {},
          "execution_count": 32
        }
      ]
    },
    {
      "cell_type": "markdown",
      "source": [
        "**To calculate multiple statistics:**"
      ],
      "metadata": {
        "id": "jy6eM-S0VUil"
      }
    },
    {
      "cell_type": "code",
      "source": [
        "df.group_by(\"Gender\").agg([\n",
        "    pl.sum(\"Amount_spent\").alias(\"Total Spent\"),\n",
        "    pl.mean(\"Age\").alias(\"Average Age\"),\n",
        "    pl.count().alias(\"Customer Count\")\n",
        "])"
      ],
      "metadata": {
        "colab": {
          "base_uri": "https://localhost:8080/",
          "height": 195
        },
        "id": "MQnIU8viVV5C",
        "outputId": "faeb1dc9-92d1-47ae-9d47-4361ca2b50bb"
      },
      "execution_count": null,
      "outputs": [
        {
          "output_type": "stream",
          "name": "stderr",
          "text": [
            "<ipython-input-33-66093c64b01b>:4: DeprecationWarning: `pl.count()` is deprecated. Please use `pl.len()` instead.\n",
            "  pl.count().alias(\"Customer Count\")\n"
          ]
        },
        {
          "output_type": "execute_result",
          "data": {
            "text/plain": [
              "shape: (2, 4)\n",
              "┌────────┬─────────────┬─────────────┬────────────────┐\n",
              "│ Gender ┆ Total Spent ┆ Average Age ┆ Customer Count │\n",
              "│ ---    ┆ ---         ┆ ---         ┆ ---            │\n",
              "│ str    ┆ f64         ┆ f64         ┆ u32            │\n",
              "╞════════╪═════════════╪═════════════╪════════════════╡\n",
              "│ Female ┆ 7.8495e8    ┆ 46.773035   ┆ 550883         │\n",
              "│ Male   ┆ 6.3171e8    ┆ 46.494462   ┆ 449117         │\n",
              "└────────┴─────────────┴─────────────┴────────────────┘"
            ],
            "text/html": [
              "<div><style>\n",
              ".dataframe > thead > tr,\n",
              ".dataframe > tbody > tr {\n",
              "  text-align: right;\n",
              "  white-space: pre-wrap;\n",
              "}\n",
              "</style>\n",
              "<small>shape: (2, 4)</small><table border=\"1\" class=\"dataframe\"><thead><tr><th>Gender</th><th>Total Spent</th><th>Average Age</th><th>Customer Count</th></tr><tr><td>str</td><td>f64</td><td>f64</td><td>u32</td></tr></thead><tbody><tr><td>&quot;Female&quot;</td><td>7.8495e8</td><td>46.773035</td><td>550883</td></tr><tr><td>&quot;Male&quot;</td><td>6.3171e8</td><td>46.494462</td><td>449117</td></tr></tbody></table></div>"
            ]
          },
          "metadata": {},
          "execution_count": 33
        }
      ]
    },
    {
      "cell_type": "markdown",
      "source": [
        "### Pivoting DataFrames"
      ],
      "metadata": {
        "id": "2IPgu9czV0lh"
      }
    },
    {
      "cell_type": "code",
      "source": [
        "df.pivot(\n",
        "    values=\"Amount_spent\",\n",
        "    index=\"Gender\",\n",
        "    columns=\"Payment_method\",\n",
        "    aggregate_function=\"sum\"\n",
        ")"
      ],
      "metadata": {
        "colab": {
          "base_uri": "https://localhost:8080/",
          "height": 195
        },
        "id": "ZLlJs_N8V2iS",
        "outputId": "61b57fa0-8b0f-4796-fdfd-ec673bb11302"
      },
      "execution_count": null,
      "outputs": [
        {
          "output_type": "stream",
          "name": "stderr",
          "text": [
            "<ipython-input-34-804a72318bef>:1: DeprecationWarning: The argument `columns` for `DataFrame.pivot` is deprecated. It has been renamed to `on`.\n",
            "  df.pivot(\n"
          ]
        },
        {
          "output_type": "execute_result",
          "data": {
            "text/plain": [
              "shape: (2, 4)\n",
              "┌────────┬──────────┬──────────┬──────────┐\n",
              "│ Gender ┆ Card     ┆ PayPal   ┆ Other    │\n",
              "│ ---    ┆ ---      ┆ ---      ┆ ---      │\n",
              "│ str    ┆ f64      ┆ f64      ┆ f64      │\n",
              "╞════════╪══════════╪══════════╪══════════╡\n",
              "│ Female ┆ 2.5109e8 ┆ 3.4713e8 ┆ 1.8673e8 │\n",
              "│ Male   ┆ 1.6606e8 ┆ 3.0873e8 ┆ 1.5692e8 │\n",
              "└────────┴──────────┴──────────┴──────────┘"
            ],
            "text/html": [
              "<div><style>\n",
              ".dataframe > thead > tr,\n",
              ".dataframe > tbody > tr {\n",
              "  text-align: right;\n",
              "  white-space: pre-wrap;\n",
              "}\n",
              "</style>\n",
              "<small>shape: (2, 4)</small><table border=\"1\" class=\"dataframe\"><thead><tr><th>Gender</th><th>Card</th><th>PayPal</th><th>Other</th></tr><tr><td>str</td><td>f64</td><td>f64</td><td>f64</td></tr></thead><tbody><tr><td>&quot;Female&quot;</td><td>2.5109e8</td><td>3.4713e8</td><td>1.8673e8</td></tr><tr><td>&quot;Male&quot;</td><td>1.6606e8</td><td>3.0873e8</td><td>1.5692e8</td></tr></tbody></table></div>"
            ]
          },
          "metadata": {},
          "execution_count": 34
        }
      ]
    },
    {
      "cell_type": "markdown",
      "source": [
        "## 6. Performance Optimization Techniques"
      ],
      "metadata": {
        "id": "1EyB0Tf1WCIa"
      }
    },
    {
      "cell_type": "markdown",
      "source": [
        "### Using LazyFrames for Efficient Execution"
      ],
      "metadata": {
        "id": "Nn-dtl20WidN"
      }
    },
    {
      "cell_type": "code",
      "source": [
        "\n",
        "df_lazy = pl.scan_csv(\"/content/drive/MyDrive/polars_dataset/customer_spending_1M_2018_2025.csv\")"
      ],
      "metadata": {
        "id": "yEelIDA9WFJh"
      },
      "execution_count": 46,
      "outputs": []
    },
    {
      "cell_type": "code",
      "source": [
        "df_final = df_lazy.filter(pl.col(\"Amount_spent\") > 100).collect()"
      ],
      "metadata": {
        "id": "wc4kC68uWODO"
      },
      "execution_count": 47,
      "outputs": []
    },
    {
      "cell_type": "markdown",
      "source": [
        "### Memory Management (Efficient Data Types)"
      ],
      "metadata": {
        "id": "0nq3kMI-WV_p"
      }
    },
    {
      "cell_type": "markdown",
      "source": [
        "**Converting Data Types for Optimization**"
      ],
      "metadata": {
        "id": "1-AFIyTRFuJe"
      }
    },
    {
      "cell_type": "code",
      "source": [
        "df = pl.read_csv(\n",
        "    \"/content/drive/MyDrive/polars_dataset/customer_spending_1M_2018_2025.csv\",\n",
        "    schema_overrides={\"Transaction_ID\": pl.Int32, \"Amount_spent\": pl.Float32}\n",
        ")"
      ],
      "metadata": {
        "id": "61--z6XIWXxn"
      },
      "execution_count": 49,
      "outputs": []
    },
    {
      "cell_type": "markdown",
      "source": [
        "**To check how much memory a DataFrame consumes:**"
      ],
      "metadata": {
        "id": "pxgeDazJGX5A"
      }
    },
    {
      "cell_type": "code",
      "source": [
        "df.estimated_size(unit = 'mb')"
      ],
      "metadata": {
        "colab": {
          "base_uri": "https://localhost:8080/"
        },
        "id": "qkEXiMPqF9LR",
        "outputId": "1ebefeab-c91e-4fd6-882d-20c22f14bd61"
      },
      "execution_count": 54,
      "outputs": [
        {
          "output_type": "execute_result",
          "data": {
            "text/plain": [
              "86.5524206161499"
            ]
          },
          "metadata": {},
          "execution_count": 54
        }
      ]
    },
    {
      "cell_type": "markdown",
      "source": [
        "### Multi-threaded Processing"
      ],
      "metadata": {
        "id": "B0LeIjDCG3y-"
      }
    },
    {
      "cell_type": "markdown",
      "source": [
        "**Parallel Processing in Aggregations**"
      ],
      "metadata": {
        "id": "Dhz-WiHtG9CS"
      }
    },
    {
      "cell_type": "code",
      "source": [
        "df.group_by(\"Gender\").agg(pl.sum(\"Amount_spent\"))"
      ],
      "metadata": {
        "colab": {
          "base_uri": "https://localhost:8080/",
          "height": 192
        },
        "id": "_KctUMmUF9IX",
        "outputId": "d047307d-6d22-4115-b612-1c33f75b9270"
      },
      "execution_count": 55,
      "outputs": [
        {
          "output_type": "execute_result",
          "data": {
            "text/plain": [
              "shape: (3, 2)\n",
              "┌────────┬──────────────┐\n",
              "│ Gender ┆ Amount_spent │\n",
              "│ ---    ┆ ---          │\n",
              "│ str    ┆ f32          │\n",
              "╞════════╪══════════════╡\n",
              "│ Female ┆ 6.91282688e8 │\n",
              "│ Male   ┆ 5.74917952e8 │\n",
              "│ null   ┆ 1.388334e7   │\n",
              "└────────┴──────────────┘"
            ],
            "text/html": [
              "<div><style>\n",
              ".dataframe > thead > tr,\n",
              ".dataframe > tbody > tr {\n",
              "  text-align: right;\n",
              "  white-space: pre-wrap;\n",
              "}\n",
              "</style>\n",
              "<small>shape: (3, 2)</small><table border=\"1\" class=\"dataframe\"><thead><tr><th>Gender</th><th>Amount_spent</th></tr><tr><td>str</td><td>f32</td></tr></thead><tbody><tr><td>&quot;Female&quot;</td><td>6.91282688e8</td></tr><tr><td>&quot;Male&quot;</td><td>5.74917952e8</td></tr><tr><td>null</td><td>1.388334e7</td></tr></tbody></table></div>"
            ]
          },
          "metadata": {},
          "execution_count": 55
        }
      ]
    },
    {
      "cell_type": "code",
      "source": [
        "pl.Config.set_tbl_rows(4)  # Adjusts how many rows are processed in parallel"
      ],
      "metadata": {
        "colab": {
          "base_uri": "https://localhost:8080/",
          "height": 186
        },
        "id": "dntqX3vcF9Fh",
        "outputId": "850b0aee-950b-4950-e895-03e5e1ad2b4a"
      },
      "execution_count": 56,
      "outputs": [
        {
          "output_type": "execute_result",
          "data": {
            "text/plain": [
              "polars.config.Config"
            ],
            "text/html": [
              "<div style=\"max-width:800px; border: 1px solid var(--colab-border-color);\"><style>\n",
              "      pre.function-repr-contents {\n",
              "        overflow-x: auto;\n",
              "        padding: 8px 12px;\n",
              "        max-height: 500px;\n",
              "      }\n",
              "\n",
              "      pre.function-repr-contents.function-repr-contents-collapsed {\n",
              "        cursor: pointer;\n",
              "        max-height: 100px;\n",
              "      }\n",
              "    </style>\n",
              "    <pre style=\"white-space: initial; background:\n",
              "         var(--colab-secondary-surface-color); padding: 8px 12px;\n",
              "         border-bottom: 1px solid var(--colab-border-color);\"><b>polars.config.Config</b><br/>def __call__(func)</pre><pre class=\"function-repr-contents function-repr-contents-collapsed\" style=\"\"><a class=\"filepath\" style=\"display:none\" href=\"#\">/usr/local/lib/python3.11/dist-packages/polars/config.py</a>Configure polars; offers options for table formatting and more.\n",
              "\n",
              "Notes\n",
              "-----\n",
              "Can also be used as a context manager OR a function decorator in order to\n",
              "temporarily scope the lifetime of specific options. For example:\n",
              "\n",
              "&gt;&gt;&gt; with pl.Config() as cfg:\n",
              "...     # set verbose for more detailed output within the scope\n",
              "...     cfg.set_verbose(True)  # doctest: +IGNORE_RESULT\n",
              "&gt;&gt;&gt; # scope exit - no longer in verbose mode\n",
              "\n",
              "This can also be written more compactly as:\n",
              "\n",
              "&gt;&gt;&gt; with pl.Config(verbose=True):\n",
              "...     pass\n",
              "\n",
              "(The compact format is available for all `Config` methods that take a single value).\n",
              "\n",
              "Alternatively, you can use as a decorator in order to scope the duration of the\n",
              "selected options to a specific function:\n",
              "\n",
              "&gt;&gt;&gt; @pl.Config(verbose=True)\n",
              "... def test():\n",
              "...     pass</pre>\n",
              "      <script>\n",
              "      if (google.colab.kernel.accessAllowed && google.colab.files && google.colab.files.view) {\n",
              "        for (const element of document.querySelectorAll('.filepath')) {\n",
              "          element.style.display = 'block'\n",
              "          element.onclick = (event) => {\n",
              "            event.preventDefault();\n",
              "            event.stopPropagation();\n",
              "            google.colab.files.view(element.textContent, 145);\n",
              "          };\n",
              "        }\n",
              "      }\n",
              "      for (const element of document.querySelectorAll('.function-repr-contents')) {\n",
              "        element.onclick = (event) => {\n",
              "          event.preventDefault();\n",
              "          event.stopPropagation();\n",
              "          element.classList.toggle('function-repr-contents-collapsed');\n",
              "        };\n",
              "      }\n",
              "      </script>\n",
              "      </div>"
            ]
          },
          "metadata": {},
          "execution_count": 56
        }
      ]
    },
    {
      "cell_type": "markdown",
      "source": [
        "## 7. SQL-like Queries with Polars"
      ],
      "metadata": {
        "id": "Kr3ehxngHLOo"
      }
    },
    {
      "cell_type": "markdown",
      "source": [
        "**Running SQL Queries in Polars**"
      ],
      "metadata": {
        "id": "1Jqex-y9HQ-e"
      }
    },
    {
      "cell_type": "code",
      "source": [
        "from polars import SQLContext\n",
        "\n",
        "sql_context = SQLContext()\n",
        "\n",
        "# Register DataFrame as a SQL table\n",
        "sql_context.register(\"customers\", df)\n",
        "\n",
        "# Run SQL query\n",
        "result = sql_context.execute(\"SELECT Gender, SUM(Amount_spent) FROM customers GROUP BY Gender\")\n",
        "\n",
        "# Convert to Polars DataFrame\n",
        "df_result = result.collect()\n",
        "print(df_result)"
      ],
      "metadata": {
        "colab": {
          "base_uri": "https://localhost:8080/"
        },
        "id": "31Zf8MIYWwFU",
        "outputId": "bd9e6f3d-3b12-423c-98dc-307b1405e977"
      },
      "execution_count": 57,
      "outputs": [
        {
          "output_type": "stream",
          "name": "stdout",
          "text": [
            "shape: (3, 2)\n",
            "┌────────┬──────────────┐\n",
            "│ Gender ┆ Amount_spent │\n",
            "│ ---    ┆ ---          │\n",
            "│ str    ┆ f32          │\n",
            "╞════════╪══════════════╡\n",
            "│ Male   ┆ 5.74917952e8 │\n",
            "│ null   ┆ 1.388334e7   │\n",
            "│ Female ┆ 6.91282688e8 │\n",
            "└────────┴──────────────┘\n"
          ]
        }
      ]
    },
    {
      "cell_type": "markdown",
      "source": [
        "**Filtering and Aggregation with SQL Queries**"
      ],
      "metadata": {
        "id": "3CfhSR6qHhnd"
      }
    },
    {
      "cell_type": "code",
      "source": [
        "result = sql_context.execute(\"\"\"\n",
        "    SELECT Gender, Payment_method, COUNT(*) AS Total_Transactions, AVG(Amount_spent) AS Avg_Spent\n",
        "    FROM customers\n",
        "    WHERE Amount_spent > 50\n",
        "    GROUP BY Gender, Payment_method\n",
        "    ORDER BY Avg_Spent DESC\n",
        "\"\"\").collect()"
      ],
      "metadata": {
        "id": "I-d5MpjTHbp_"
      },
      "execution_count": 58,
      "outputs": []
    },
    {
      "cell_type": "code",
      "source": [
        "print(result)"
      ],
      "metadata": {
        "colab": {
          "base_uri": "https://localhost:8080/"
        },
        "id": "N6aSP04eHqD2",
        "outputId": "0c455041-1701-4d22-ebef-bee2addd9592"
      },
      "execution_count": 60,
      "outputs": [
        {
          "output_type": "stream",
          "name": "stdout",
          "text": [
            "shape: (9, 4)\n",
            "┌────────┬────────────────┬────────────────────┬─────────────┐\n",
            "│ Gender ┆ Payment_method ┆ Total_Transactions ┆ Avg_Spent   │\n",
            "│ ---    ┆ ---            ┆ ---                ┆ ---         │\n",
            "│ str    ┆ str            ┆ u32                ┆ f64         │\n",
            "╞════════╪════════════════╪════════════════════╪═════════════╡\n",
            "│ Female ┆ Other          ┆ 113033             ┆ 1488.901259 │\n",
            "│ Male   ┆ PayPal         ┆ 195568             ┆ 1462.995991 │\n",
            "│ …      ┆ …              ┆ …                  ┆ …           │\n",
            "│ Male   ┆ Card           ┆ 107065             ┆ 1350.71054  │\n",
            "│ null   ┆ Other          ┆ 1852               ┆ 1255.327484 │\n",
            "└────────┴────────────────┴────────────────────┴─────────────┘\n"
          ]
        }
      ]
    },
    {
      "cell_type": "code",
      "source": [],
      "metadata": {
        "id": "h7aIH5KqHsLr"
      },
      "execution_count": null,
      "outputs": []
    }
  ]
}